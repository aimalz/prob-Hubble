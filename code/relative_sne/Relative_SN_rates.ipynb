{
 "cells": [
  {
   "cell_type": "markdown",
   "metadata": {},
   "source": [
    "# Calculate the relative rates of different supernovae as a function of redshift\n",
    "\n",
    "Supernova rates are calculated by convolving the Delay time distribution with the star formation history. \n",
    "We then set the relative rates of SN Ia and Core Collapse to be 25% and 75%, respectively, at z = 0. \n",
    "\n",
    "\n",
    "References:\n",
    "- Delay time distribution (DTD) for SN Ia: Graur et al (2013) https://arxiv.org/abs/1310.3495\n",
    "- Delay time distribution (DTD) for SN II: Zapartas et al (2017) https://arxiv.org/abs/1701.07032\n",
    "- Cosmic Star Formation Rate out to z = 8 : Behroozi et al (2013) https://arxiv.org/abs/1207.6105"
   ]
  },
  {
   "cell_type": "code",
   "execution_count": 1,
   "metadata": {
    "collapsed": false
   },
   "outputs": [
    {
     "name": "stdout",
     "output_type": "stream",
     "text": [
      "Populating the interactive namespace from numpy and matplotlib\n"
     ]
    }
   ],
   "source": [
    "%pylab inline\n",
    "import numpy as np\n",
    "from scipy.stats import norm"
   ]
  },
  {
   "cell_type": "markdown",
   "metadata": {},
   "source": [
    "## Calculate the Lookback Time in units of Gyr using LCDM cosmology"
   ]
  },
  {
   "cell_type": "code",
   "execution_count": 2,
   "metadata": {
    "collapsed": true
   },
   "outputs": [],
   "source": [
    "c1 = 2.9979E5 #km / s\n",
    "pc= 3.085677E16 #m\n",
    "c2=pc*c1*1e6\n",
    "H0=70.\n",
    "Om=0.30\n",
    "Ol=0.7\n",
    "\n",
    "\n",
    "def Efunc(x):\n",
    "    return math.sqrt(Ol+Om*(1+x)**3)\n",
    "\n",
    "\n",
    "convert=3600*24*365.25*10**9/(pc*10**3)#*10**9 ## Converts H0 to 1/gigayears\n",
    "\n",
    "def t_L(z):\n",
    "    t = np.zeros(len(z))\n",
    "    import scipy.integrate as integrate\n",
    "    for i in range(len(z)):\n",
    "        x = z[i]\n",
    "        test= lambda x:1.0/((1+x)*Efunc(x))\n",
    "        y, err=integrate.quad(test, 0, x)\n",
    "        t[i] = y/H0/convert\n",
    "    return t "
   ]
  },
  {
   "cell_type": "code",
   "execution_count": 3,
   "metadata": {
    "collapsed": true
   },
   "outputs": [],
   "source": [
    "# Star formation history = cosmic star formation rate.\n",
    "# From Behroozi et al (2013)\n",
    "# Note this is a function of redshift\n",
    "def cosmic_SFR(z):\n",
    "    z0 = 1.243\n",
    "    A = -0.997\n",
    "    B = 0.241\n",
    "    C = 0.180\n",
    "    return C/(10.**(A*(z-z0)) + 10.**(B*(z-z0)))*(1./0.7)"
   ]
  },
  {
   "cell_type": "code",
   "execution_count": 4,
   "metadata": {
    "collapsed": true
   },
   "outputs": [],
   "source": [
    "# From Graur et al (2013). There are many, many different forms this can take. \n",
    "## The extra term at the end is a normalization factor\n",
    "def DTD_Ia_Power(delta_t, beta = -1.47):\n",
    "    return ((delta_t < 1.7)*delta_t**(-0.5) + (delta_t > 1.7)*delta_t**(beta))*0.000274005476758\n",
    "\n",
    "\n",
    "# From Zapartas et al (2017). I suggest using the binary population, but you can you single star evolution instead. See paper for \n",
    "# details. I left both in because it's complicated to type and has different units.\n",
    "def DTD_cc_single(delta_t): # roughly 1/3 for Ib/c\n",
    "    delta_t = delta_t*1000.\n",
    "    return ((delta_t >= 3) & (delta_t  < 25))*1e-9*(-2.83 + 8.7*np.log10(delta_t) - 2.07*np.log10(delta_t)*np.log10(delta_t))*(1./delta_t) + \\\n",
    "        ((delta_t >= 25) & (delta_t  < 48))*1e-8*(-4.85 + 6.55*np.log10(delta_t) - 1.92*np.log10(delta_t)*np.log10(delta_t))*(1./delta_t)\n",
    "\n",
    "def DTD_cc_binary(delta_t): # roughly 1/3 for Ib/c\n",
    "    delta_t = delta_t*1000.\n",
    "    return ((delta_t >= 3) & (delta_t  < 25))*1e-9*(-2.65 + 7.51*np.log10(delta_t) - 0.98*np.log10(delta_t)*np.log10(delta_t))*(1./delta_t) + \\\n",
    "        ((delta_t >= 25) & (delta_t  < 48))*1e-8*(-0.89 + 1.73*np.log10(delta_t) - 0.51*np.log10(delta_t)*np.log10(delta_t))*(1./delta_t) + \\\n",
    "        ((delta_t >= 48) & (delta_t  < 200))*1e-8*(3.46 - 2.98*np.log10(delta_t) + 0.65*np.log10(delta_t)*np.log10(delta_t))*(1./delta_t)\n",
    "        \n",
    "        \n",
    "# Note DTDs are a function of DELTA t in usints of Gyr"
   ]
  },
  {
   "cell_type": "markdown",
   "metadata": {},
   "source": [
    "The random number by the DTD_Ia_Power law come from the code block below to make sure that it integrates to one. "
   ]
  },
  {
   "cell_type": "raw",
   "metadata": {},
   "source": [
    "import scipy.integrate as integrate\n",
    "result_power = integrate.quad(lambda x: DTD_Ia_Power(x), 0, 13.9684576774)\n",
    "print 1e-3/result[0]"
   ]
  },
  {
   "cell_type": "markdown",
   "metadata": {},
   "source": [
    "The cell below deals with using reshift, delta t (delay time), and lookback time (t)"
   ]
  },
  {
   "cell_type": "code",
   "execution_count": 5,
   "metadata": {
    "collapsed": false
   },
   "outputs": [],
   "source": [
    "from scipy.interpolate import interp1d\n",
    "\n",
    "z_inter = np.arange(0,8,0.0001)\n",
    "t_inter = t_L(z_inter)\n",
    "\n",
    "f = interp1d(t_inter, z_inter)"
   ]
  },
  {
   "cell_type": "code",
   "execution_count": 6,
   "metadata": {
    "collapsed": false
   },
   "outputs": [],
   "source": [
    "delta_t = np.arange(0.0001,12.75,0.001)\n",
    "t = delta_t[::-1]\n",
    "z = f(t)\n",
    "\n",
    "con_Ia_Power_B13 = np.convolve(cosmic_SFR(z), DTD_Ia_Power(np.array(delta_t), beta = -1.47))[0:len(t)]\n",
    "\n",
    "con_cc_binary= np.convolve(cosmic_SFR(z), DTD_cc_binary(delta_t))[0:len(t)] "
   ]
  },
  {
   "cell_type": "code",
   "execution_count": 7,
   "metadata": {
    "collapsed": true
   },
   "outputs": [],
   "source": [
    "# this sets the relative fractions of Ia to CC at 30% to 70% at z = 0.001\n",
    "scale_Ia = 0.25/con_Ia_Power_B13[-15]\n",
    "scale_II = 0.75/con_cc_binary[-15]\n",
    "\n",
    "# Algebra done in Kara's notebook. \n",
    "relative_Ia = 1.0/(1.+(con_cc_binary*scale_II)/(con_Ia_Power_B13*scale_Ia))\n",
    "relative_II = 0.70*(1.0 - 1.0/(1.+(con_cc_binary*scale_II)/(con_Ia_Power_B13*scale_Ia)))\n",
    "relative_Ibc = 0.3*(1.0 - 1.0/(1.+(con_cc_binary*scale_II)/(con_Ia_Power_B13*scale_Ia)))"
   ]
  },
  {
   "cell_type": "code",
   "execution_count": 8,
   "metadata": {
    "collapsed": false
   },
   "outputs": [
    {
     "data": {
      "text/plain": [
       "(0, 1.5)"
      ]
     },
     "execution_count": 8,
     "metadata": {},
     "output_type": "execute_result"
    },
    {
     "data": {
      "image/png": "[encoded data removed]",
      "text/plain": [
       "<matplotlib.figure.Figure at 0x109f53310>"
      ]
     },
     "metadata": {},
     "output_type": "display_data"
    }
   ],
   "source": [
    "plt.plot(z, relative_Ia ,  label='SN Ia')\n",
    "plt.plot(z,  relative_II,  label='SN II')\n",
    "plt.plot(z, relative_Ibc ,  label='SN Ibc')\n",
    "\n",
    "plt.xlabel(\"redshift\")\n",
    "plt.ylabel(\"Relative SN Rate\")\n",
    "plt.legend(loc = 2, frameon= False)\n",
    "plt.xlim(0,1.5)"
   ]
  },
  {
   "cell_type": "code",
   "execution_count": 9,
   "metadata": {
    "collapsed": false
   },
   "outputs": [],
   "source": [
    "wh_low_z = np.where(z < 1.2)\n",
    "\n",
    "rates = np.stack((z[wh_low_z], relative_Ia[wh_low_z],relative_II[wh_low_z],relative_Ibc[wh_low_z]), axis = 1)\n",
    "\n",
    "#np.savetxt('relative_rates.txt', rates)"
   ]
  },
  {
   "cell_type": "code",
   "execution_count": null,
   "metadata": {
    "collapsed": true
   },
   "outputs": [],
   "source": []
  }
 ],
 "metadata": {
  "kernelspec": {
   "display_name": "Python 2",
   "language": "python",
   "name": "python2"
  },
  "language_info": {
   "codemirror_mode": {
    "name": "ipython",
    "version": 2
   },
   "file_extension": ".py",
   "mimetype": "text/x-python",
   "name": "python",
   "nbconvert_exporter": "python",
   "pygments_lexer": "ipython2",
   "version": "2.7.12"
  }
 },
 "nbformat": 4,
 "nbformat_minor": 0
}
