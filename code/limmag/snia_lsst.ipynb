{
 "cells": [
  {
   "cell_type": "markdown",
   "metadata": {},
   "source": [
    "# Simulating SNe Ia discovered by LSST"
   ]
  },
  {
   "cell_type": "code",
   "execution_count": 1,
   "metadata": {
    "collapsed": true
   },
   "outputs": [],
   "source": [
    "import math\n",
    "from itertools import product\n",
    "import scipy.integrate as integrate\n",
    "from scipy import interpolate\n",
    "from scipy.interpolate import interp1d\n",
    "from numpy import vectorize\n",
    "import numpy as np\n",
    "from numpy import random\n",
    "import matplotlib.pyplot as plt\n",
    "import pandas as pd\n",
    "import os\n",
    "#from palettable.colorbrewer.diverging import RdYlBu_11_r\n",
    "#from palettable.colorbrewer.sequential import Greys_9\n",
    "\n",
    "plt.rcParams['figure.figsize'] = (9,6)\n",
    "plt.rcParams['font.size'] = 14"
   ]
  },
  {
   "cell_type": "code",
   "execution_count": 2,
   "metadata": {
    "collapsed": true
   },
   "outputs": [],
   "source": [
    "#cosmology\n",
    "omega_m=0.30\n",
    "omega_k=0.0\n",
    "omega_lambda=0.70\n",
    "pc= 3.085677E16 #m\n",
    "h = 0.70             # dimensionless Hubble constant\n",
    "H0 = 100.0 * h       # Hubble constant in Km/s/Mpc\n",
    "\n",
    "convert=3600*24*365.25*10**9/(pc*10**3)#*10**9 ## Converts H0 to 1/gigayears\n",
    "\n",
    "def Efunc(x):\n",
    "    return math.sqrt(omega_lambda+omega_m*(1+x)**3)\n",
    "\n",
    "def t_L(z):\n",
    "    t = np.zeros(len(z))\n",
    "    for i in range(len(z)):\n",
    "        x = z[i]\n",
    "        test= lambda x:1.0/((1+x)*Efunc(x))\n",
    "        y, err=integrate.quad(test, 0, x)\n",
    "        t[i] = y/H0/convert\n",
    "    return t \n",
    "\n",
    "z_inter = np.arange(0,8,0.0001)\n",
    "t_inter = t_L(z_inter) #t is in gigayears\n",
    "\n",
    "f = interp1d(t_inter, z_inter)\n",
    "delta_t = np.arange(0.0001,12.75,0.001)\n",
    "t = delta_t[::-1]\n",
    "z = f(t)\n",
    "z_sim = z[z < 1.2][::-1]"
   ]
  },
  {
   "cell_type": "markdown",
   "metadata": {},
   "source": [
    "# SN Ia volumetric rate"
   ]
  },
  {
   "cell_type": "markdown",
   "metadata": {},
   "source": [
    "Modified from previous work done by Or Graur in [Graur 2013](http://primage.tau.ac.il/libraries/theses/exeng/free/2501611.pdf)\n",
    "\n",
    "The volumetric SN Ia rate in field galaxies at cosmic time $t$, $R_{Ia}(t)$, is the convolution of the cosmic star formation history ($SFH$), $S(t)$, with the delay time distribution ($DTD$), $\\Psi(t)$:\n",
    "\n",
    "$R_{Ia}(t) = \\int_{0}^{t} S(t − \\tau)\\Psi(\\tau)d\\tau$\n",
    "\n",
    "where $R_{Ia}(t)$ has units of SNe yr−1 Mpc−3, $S(t)$ has units of $M_{\\odot}$ yr−1 Mpc−3, and $\\Psi(t)$ has units of SNe yr−1 $M_{\\odot}$−1."
   ]
  },
  {
   "cell_type": "code",
   "execution_count": 13,
   "metadata": {},
   "outputs": [],
   "source": [
    "#Yuksel et al. 2008 SFH\n",
    "#Form: S(z) = S(0)(1+z)^\\gamma_i with \\gamma_1 at z<z_b and \\gamma_2 at z>z_b\n",
    "#Parameterization: S(0)=17.8, \\gamma_1=3.4, z_b=1, \\gamma_2=-0.3\n",
    "S0=17.8 #$M_{\\odot}$ yr−1 Mpc−3\n",
    "gamma1=3.4\n",
    "zb=1.0\n",
    "gamma2=-0.3\n",
    "\n",
    "def SFH_Yuksel(t):\n",
    "    z = f(t)\n",
    "    Sz = np.zeros(len(z))\n",
    "    Sz[z<=zb] = (S0*(1+z[z<=zb])**(gamma1))\n",
    "    Sz[z>zb] = (S0*(1+z[z>zb])**(gamma2))\n",
    "    return Sz\n",
    "\n",
    "#Best-fitting power-law DTD\n",
    "#Form: $\\Psi (t) = \\Psi_1 (t/1 Gyr)^{\\beta}$\n",
    "#Parameterization: \\beta = 1.1 \\plusminus 0.1(0.2)\n",
    "\n",
    "beta = 1.1\n",
    "Psi1 = \n",
    "\n",
    "def pl_DTD(t):\n",
    "    dtd = np.zeros(len(t))\n",
    "    dtd[t<=0.040] = 0.0\n",
    "    dtd[t>0.040] = Psi1*(t)**{beta}\n",
    "    return dtd"
   ]
  },
  {
   "cell_type": "code",
   "execution_count": 40,
   "metadata": {},
   "outputs": [
    {
     "name": "stderr",
     "output_type": "stream",
     "text": [
      "/Users/christinapeters/anaconda2/lib/python2.7/site-packages/ipykernel_launcher.py:1: ParserWarning: Falling back to the 'python' engine because the 'c' engine does not support regex separators (separators > 1 char and different from '\\s+' are interpreted as regex); you can avoid this warning by specifying engine='python'.\n",
      "  \"\"\"Entry point for launching an IPython kernel.\n"
     ]
    },
    {
     "data": {
      "image/png": "[encoded data removed]",
      "text/plain": [
       "<matplotlib.figure.Figure at 0x10a558110>"
      ]
     },
     "metadata": {},
     "output_type": "display_data"
    }
   ],
   "source": [
    "SNIa_data = pd.read_table('Graur_Fig213.dat', delimiter=', ')\n",
    "redshift = SNIa_data['redshift'].values\n",
    "rate = SNIa_data['SNIa_rate'].values\n",
    "\n",
    "SNIa_rate_model = interpolate.interp1d(redshift,rate)\n",
    "\n",
    "plt.xlabel('Redshift')\n",
    "plt.ylabel('SN Ia Rate [10-4 yr-1 Mpc-3]')\n",
    "plt.axis(xmin=-0.1, xmax=3.1, ymin=0.0, ymax=1.8)\n",
    "plt.plot(z_sim, SNIa_rate_model(z_sim), color='r', lw=3)\n",
    "plt.plot(redshift, rate, color='k', lw=2)\n",
    "plt.show()"
   ]
  },
  {
   "cell_type": "code",
   "execution_count": null,
   "metadata": {
    "collapsed": true
   },
   "outputs": [],
   "source": [
    "c_light=299792.458   # in km/s\n",
    "c_AA=299792458*1.0e10# in AA/s\n",
    "alpha_IMF=1.35       # Salpeter IMF: Salpeter et al. 1955 ApJ 121: 161\n",
    "fow_LSST=9.62        # field of view LSST in degrees^2\n",
    "delta_omega=fow_LSST*(math.pi/180)**2      # field of view LSST in str\n",
    "# calculating for r-band -> http://smtn-002.lsst.io/en/latest/\n",
    "h_erg = 6.63e-27     # Planck constant (erg.s)\n",
    "d_h=c_light/H0   # Hubble distance in Mpc   (70 km/s / Mpc)"
   ]
  },
  {
   "cell_type": "markdown",
   "metadata": {},
   "source": [
    "## LSST filter responses\n",
    "\n",
    "We load the LSST filter throughputs from https://github.com/lsst/throughputs/tree/master/baseline"
   ]
  },
  {
   "cell_type": "code",
   "execution_count": 36,
   "metadata": {},
   "outputs": [
    {
     "ename": "ImportError",
     "evalue": "No module named lsst.sims.photUtils.Bandpass",
     "output_type": "error",
     "traceback": [
      "\u001b[0;31m---------------------------------------------------------------------------\u001b[0m",
      "\u001b[0;31mImportError\u001b[0m                               Traceback (most recent call last)",
      "\u001b[0;32m<ipython-input-36-9e742512b181>\u001b[0m in \u001b[0;36m<module>\u001b[0;34m()\u001b[0m\n\u001b[0;32m----> 1\u001b[0;31m \u001b[0;32mimport\u001b[0m \u001b[0mlsst\u001b[0m\u001b[0;34m.\u001b[0m\u001b[0msims\u001b[0m\u001b[0;34m.\u001b[0m\u001b[0mphotUtils\u001b[0m\u001b[0;34m.\u001b[0m\u001b[0mBandpass\u001b[0m \u001b[0;32mas\u001b[0m \u001b[0mBandpass\u001b[0m\u001b[0;34m\u001b[0m\u001b[0m\n\u001b[0m\u001b[1;32m      2\u001b[0m \u001b[0;34m\u001b[0m\u001b[0m\n\u001b[1;32m      3\u001b[0m \u001b[0mlsst\u001b[0m\u001b[0;34m=\u001b[0m\u001b[0;34m{\u001b[0m\u001b[0;34m}\u001b[0m\u001b[0;34m\u001b[0m\u001b[0m\n\u001b[1;32m      4\u001b[0m \u001b[0mx_func\u001b[0m\u001b[0;34m=\u001b[0m\u001b[0;34m{\u001b[0m\u001b[0;34m}\u001b[0m\u001b[0;34m\u001b[0m\u001b[0m\n\u001b[1;32m      5\u001b[0m \u001b[0ms_x\u001b[0m\u001b[0;34m=\u001b[0m\u001b[0;34m{\u001b[0m\u001b[0;34m}\u001b[0m\u001b[0;34m\u001b[0m\u001b[0m\n",
      "\u001b[0;31mImportError\u001b[0m: No module named lsst.sims.photUtils.Bandpass"
     ]
    }
   ],
   "source": [
    "import lsst.sims.photUtils.Bandpass as Bandpass\n",
    "\n",
    "lsst={}\n",
    "x_func={}\n",
    "s_x={}\n",
    "dem_x={}\n",
    "filterlist = ('u', 'g', 'r', 'i', 'z', 'y')\n",
    "lsst_effl={'u':3654.9,'g':4800.3,'r':6222.0,'i':7540.6,'z':8682.1,'y':9916.6}\n",
    "filtercolors = {'u':'b', 'g':'c', 'r':'g', 'i':'orange', 'z':'r', 'y':'m'}\n",
    "\n",
    "for f in filterlist:\n",
    "    lsst[f] = Bandpass()\n",
    "    lsst[f].readThroughput('total_'+f+'.dat')\n",
    "\n",
    "    trans_file=np.loadtxt('total_'+f+'.dat')\n",
    "    lambda_filter=trans_file[:,0]*10     #in AA\n",
    "    s_x[f]=trans_file[:,1]\n",
    "    x_func[f]=interpolate.interp1d(lambda_filter,s_x[f])\n",
    "    dem_x[f]=integrate.simps(x_func[f](lambda_filter)*1.0/lambda_filter,lambda_filter) \n",
    "\n",
    "    plt.plot(lsst[f].wavelen, lsst[f].sb, color=filtercolors[f], lw=2, label='LSST %s' % (f))\n",
    "\n",
    "plt.xlabel('Wavelength [nm]')\n",
    "plt.ylabel('Throughput [0-1]')\n",
    "plt.title('LSST Throughput Curves')\n",
    "plt.legend(loc=(0.85, 0.5), fancybox=True, fontsize='smaller')\n",
    "plt.grid(True)\n",
    "plt.savefig(os.path.join('LSSTfilters.png'), format='png')\n",
    "plt.show()"
   ]
  },
  {
   "cell_type": "markdown",
   "metadata": {},
   "source": [
    "## 1.2 K-corrections\n",
    "\n",
    "We use [Hsiao et al. 2007](http://adsabs.harvard.edu/abs/2007ApJ...663.1187H) models to measure K-corrections between bands."
   ]
  },
  {
   "cell_type": "code",
   "execution_count": 37,
   "metadata": {
    "collapsed": true
   },
   "outputs": [],
   "source": [
    "class Kcorrection(object):\n",
    "    def __init__(self):\n",
    "        self.array = np.empty((len(filterlist),len(filterlist),len(z_sim)))\n",
    "        self.interpolate ={}\n",
    "    \n",
    "    def __getitem__(self,(f1,f2,z)):\n",
    "        return self.array[filterlist.index(f1),filterlist.index(f2),z]\n",
    "\n",
    "    def __setitem__(self,(f1,f2,z),value):\n",
    "        self.array[filterlist.index(f1),filterlist.index(f2),z]=value\n",
    "    \n",
    "    def interpol(self,f1,f2):\n",
    "        if f1+f2 not in self.interpolate:\n",
    "            self.interpolate[f1+f2]=interpolate.interp1d(z_sim,self[f1,f2,:])  \n",
    "        return self.interpolate[f1+f2]"
   ]
  },
  {
   "cell_type": "code",
   "execution_count": 38,
   "metadata": {},
   "outputs": [
    {
     "ename": "IOError",
     "evalue": "File hsiao_SNIa_template/snflux_1a.dat does not exist",
     "output_type": "error",
     "traceback": [
      "\u001b[0;31m---------------------------------------------------------------------------\u001b[0m",
      "\u001b[0;31mIOError\u001b[0m                                   Traceback (most recent call last)",
      "\u001b[0;32m<ipython-input-38-04b4b45275cc>\u001b[0m in \u001b[0;36m<module>\u001b[0;34m()\u001b[0m\n\u001b[1;32m      1\u001b[0m \u001b[0;31m#use Hsiao model at peak\u001b[0m\u001b[0;34m\u001b[0m\u001b[0;34m\u001b[0m\u001b[0m\n\u001b[0;32m----> 2\u001b[0;31m \u001b[0mascii\u001b[0m\u001b[0;34m=\u001b[0m\u001b[0mpd\u001b[0m\u001b[0;34m.\u001b[0m\u001b[0mread_table\u001b[0m\u001b[0;34m(\u001b[0m\u001b[0;34m'hsiao_SNIa_template/snflux_1a.dat'\u001b[0m\u001b[0;34m,\u001b[0m\u001b[0mdelim_whitespace\u001b[0m\u001b[0;34m=\u001b[0m\u001b[0mTrue\u001b[0m\u001b[0;34m,\u001b[0m\u001b[0mheader\u001b[0m\u001b[0;34m=\u001b[0m\u001b[0mNone\u001b[0m\u001b[0;34m)\u001b[0m\u001b[0;34m\u001b[0m\u001b[0m\n\u001b[0m\u001b[1;32m      3\u001b[0m \u001b[0mepoch_peak\u001b[0m \u001b[0;34m=\u001b[0m \u001b[0mascii\u001b[0m\u001b[0;34m[\u001b[0m\u001b[0mascii\u001b[0m\u001b[0;34m[\u001b[0m\u001b[0;36m0\u001b[0m\u001b[0;34m]\u001b[0m \u001b[0;34m==\u001b[0m \u001b[0;36m0.0\u001b[0m\u001b[0;34m]\u001b[0m\u001b[0;34m\u001b[0m\u001b[0m\n\u001b[1;32m      4\u001b[0m \u001b[0mlambda_model\u001b[0m \u001b[0;34m=\u001b[0m \u001b[0mepoch_peak\u001b[0m\u001b[0;34m[\u001b[0m\u001b[0;36m1\u001b[0m\u001b[0;34m]\u001b[0m\u001b[0;34m.\u001b[0m\u001b[0mvalues\u001b[0m\u001b[0;34m\u001b[0m\u001b[0m\n\u001b[1;32m      5\u001b[0m \u001b[0mflux_model\u001b[0m \u001b[0;34m=\u001b[0m \u001b[0mepoch_peak\u001b[0m\u001b[0;34m[\u001b[0m\u001b[0;36m2\u001b[0m\u001b[0;34m]\u001b[0m\u001b[0;34m.\u001b[0m\u001b[0mvalues\u001b[0m\u001b[0;34m\u001b[0m\u001b[0m\n",
      "\u001b[0;32m/Users/christinapeters/anaconda2/lib/python2.7/site-packages/pandas/io/parsers.pyc\u001b[0m in \u001b[0;36mparser_f\u001b[0;34m(filepath_or_buffer, sep, delimiter, header, names, index_col, usecols, squeeze, prefix, mangle_dupe_cols, dtype, engine, converters, true_values, false_values, skipinitialspace, skiprows, nrows, na_values, keep_default_na, na_filter, verbose, skip_blank_lines, parse_dates, infer_datetime_format, keep_date_col, date_parser, dayfirst, iterator, chunksize, compression, thousands, decimal, lineterminator, quotechar, quoting, escapechar, comment, encoding, dialect, tupleize_cols, error_bad_lines, warn_bad_lines, skipfooter, skip_footer, doublequote, delim_whitespace, as_recarray, compact_ints, use_unsigned, low_memory, buffer_lines, memory_map, float_precision)\u001b[0m\n\u001b[1;32m    653\u001b[0m                     skip_blank_lines=skip_blank_lines)\n\u001b[1;32m    654\u001b[0m \u001b[0;34m\u001b[0m\u001b[0m\n\u001b[0;32m--> 655\u001b[0;31m         \u001b[0;32mreturn\u001b[0m \u001b[0m_read\u001b[0m\u001b[0;34m(\u001b[0m\u001b[0mfilepath_or_buffer\u001b[0m\u001b[0;34m,\u001b[0m \u001b[0mkwds\u001b[0m\u001b[0;34m)\u001b[0m\u001b[0;34m\u001b[0m\u001b[0m\n\u001b[0m\u001b[1;32m    656\u001b[0m \u001b[0;34m\u001b[0m\u001b[0m\n\u001b[1;32m    657\u001b[0m     \u001b[0mparser_f\u001b[0m\u001b[0;34m.\u001b[0m\u001b[0m__name__\u001b[0m \u001b[0;34m=\u001b[0m \u001b[0mname\u001b[0m\u001b[0;34m\u001b[0m\u001b[0m\n",
      "\u001b[0;32m/Users/christinapeters/anaconda2/lib/python2.7/site-packages/pandas/io/parsers.pyc\u001b[0m in \u001b[0;36m_read\u001b[0;34m(filepath_or_buffer, kwds)\u001b[0m\n\u001b[1;32m    403\u001b[0m \u001b[0;34m\u001b[0m\u001b[0m\n\u001b[1;32m    404\u001b[0m     \u001b[0;31m# Create the parser.\u001b[0m\u001b[0;34m\u001b[0m\u001b[0;34m\u001b[0m\u001b[0m\n\u001b[0;32m--> 405\u001b[0;31m     \u001b[0mparser\u001b[0m \u001b[0;34m=\u001b[0m \u001b[0mTextFileReader\u001b[0m\u001b[0;34m(\u001b[0m\u001b[0mfilepath_or_buffer\u001b[0m\u001b[0;34m,\u001b[0m \u001b[0;34m**\u001b[0m\u001b[0mkwds\u001b[0m\u001b[0;34m)\u001b[0m\u001b[0;34m\u001b[0m\u001b[0m\n\u001b[0m\u001b[1;32m    406\u001b[0m \u001b[0;34m\u001b[0m\u001b[0m\n\u001b[1;32m    407\u001b[0m     \u001b[0;32mif\u001b[0m \u001b[0mchunksize\u001b[0m \u001b[0;32mor\u001b[0m \u001b[0miterator\u001b[0m\u001b[0;34m:\u001b[0m\u001b[0;34m\u001b[0m\u001b[0m\n",
      "\u001b[0;32m/Users/christinapeters/anaconda2/lib/python2.7/site-packages/pandas/io/parsers.pyc\u001b[0m in \u001b[0;36m__init__\u001b[0;34m(self, f, engine, **kwds)\u001b[0m\n\u001b[1;32m    760\u001b[0m             \u001b[0mself\u001b[0m\u001b[0;34m.\u001b[0m\u001b[0moptions\u001b[0m\u001b[0;34m[\u001b[0m\u001b[0;34m'has_index_names'\u001b[0m\u001b[0;34m]\u001b[0m \u001b[0;34m=\u001b[0m \u001b[0mkwds\u001b[0m\u001b[0;34m[\u001b[0m\u001b[0;34m'has_index_names'\u001b[0m\u001b[0;34m]\u001b[0m\u001b[0;34m\u001b[0m\u001b[0m\n\u001b[1;32m    761\u001b[0m \u001b[0;34m\u001b[0m\u001b[0m\n\u001b[0;32m--> 762\u001b[0;31m         \u001b[0mself\u001b[0m\u001b[0;34m.\u001b[0m\u001b[0m_make_engine\u001b[0m\u001b[0;34m(\u001b[0m\u001b[0mself\u001b[0m\u001b[0;34m.\u001b[0m\u001b[0mengine\u001b[0m\u001b[0;34m)\u001b[0m\u001b[0;34m\u001b[0m\u001b[0m\n\u001b[0m\u001b[1;32m    763\u001b[0m \u001b[0;34m\u001b[0m\u001b[0m\n\u001b[1;32m    764\u001b[0m     \u001b[0;32mdef\u001b[0m \u001b[0mclose\u001b[0m\u001b[0;34m(\u001b[0m\u001b[0mself\u001b[0m\u001b[0;34m)\u001b[0m\u001b[0;34m:\u001b[0m\u001b[0;34m\u001b[0m\u001b[0m\n",
      "\u001b[0;32m/Users/christinapeters/anaconda2/lib/python2.7/site-packages/pandas/io/parsers.pyc\u001b[0m in \u001b[0;36m_make_engine\u001b[0;34m(self, engine)\u001b[0m\n\u001b[1;32m    964\u001b[0m     \u001b[0;32mdef\u001b[0m \u001b[0m_make_engine\u001b[0m\u001b[0;34m(\u001b[0m\u001b[0mself\u001b[0m\u001b[0;34m,\u001b[0m \u001b[0mengine\u001b[0m\u001b[0;34m=\u001b[0m\u001b[0;34m'c'\u001b[0m\u001b[0;34m)\u001b[0m\u001b[0;34m:\u001b[0m\u001b[0;34m\u001b[0m\u001b[0m\n\u001b[1;32m    965\u001b[0m         \u001b[0;32mif\u001b[0m \u001b[0mengine\u001b[0m \u001b[0;34m==\u001b[0m \u001b[0;34m'c'\u001b[0m\u001b[0;34m:\u001b[0m\u001b[0;34m\u001b[0m\u001b[0m\n\u001b[0;32m--> 966\u001b[0;31m             \u001b[0mself\u001b[0m\u001b[0;34m.\u001b[0m\u001b[0m_engine\u001b[0m \u001b[0;34m=\u001b[0m \u001b[0mCParserWrapper\u001b[0m\u001b[0;34m(\u001b[0m\u001b[0mself\u001b[0m\u001b[0;34m.\u001b[0m\u001b[0mf\u001b[0m\u001b[0;34m,\u001b[0m \u001b[0;34m**\u001b[0m\u001b[0mself\u001b[0m\u001b[0;34m.\u001b[0m\u001b[0moptions\u001b[0m\u001b[0;34m)\u001b[0m\u001b[0;34m\u001b[0m\u001b[0m\n\u001b[0m\u001b[1;32m    967\u001b[0m         \u001b[0;32melse\u001b[0m\u001b[0;34m:\u001b[0m\u001b[0;34m\u001b[0m\u001b[0m\n\u001b[1;32m    968\u001b[0m             \u001b[0;32mif\u001b[0m \u001b[0mengine\u001b[0m \u001b[0;34m==\u001b[0m \u001b[0;34m'python'\u001b[0m\u001b[0;34m:\u001b[0m\u001b[0;34m\u001b[0m\u001b[0m\n",
      "\u001b[0;32m/Users/christinapeters/anaconda2/lib/python2.7/site-packages/pandas/io/parsers.pyc\u001b[0m in \u001b[0;36m__init__\u001b[0;34m(self, src, **kwds)\u001b[0m\n\u001b[1;32m   1580\u001b[0m         \u001b[0mkwds\u001b[0m\u001b[0;34m[\u001b[0m\u001b[0;34m'allow_leading_cols'\u001b[0m\u001b[0;34m]\u001b[0m \u001b[0;34m=\u001b[0m \u001b[0mself\u001b[0m\u001b[0;34m.\u001b[0m\u001b[0mindex_col\u001b[0m \u001b[0;32mis\u001b[0m \u001b[0;32mnot\u001b[0m \u001b[0mFalse\u001b[0m\u001b[0;34m\u001b[0m\u001b[0m\n\u001b[1;32m   1581\u001b[0m \u001b[0;34m\u001b[0m\u001b[0m\n\u001b[0;32m-> 1582\u001b[0;31m         \u001b[0mself\u001b[0m\u001b[0;34m.\u001b[0m\u001b[0m_reader\u001b[0m \u001b[0;34m=\u001b[0m \u001b[0mparsers\u001b[0m\u001b[0;34m.\u001b[0m\u001b[0mTextReader\u001b[0m\u001b[0;34m(\u001b[0m\u001b[0msrc\u001b[0m\u001b[0;34m,\u001b[0m \u001b[0;34m**\u001b[0m\u001b[0mkwds\u001b[0m\u001b[0;34m)\u001b[0m\u001b[0;34m\u001b[0m\u001b[0m\n\u001b[0m\u001b[1;32m   1583\u001b[0m \u001b[0;34m\u001b[0m\u001b[0m\n\u001b[1;32m   1584\u001b[0m         \u001b[0;31m# XXX\u001b[0m\u001b[0;34m\u001b[0m\u001b[0;34m\u001b[0m\u001b[0m\n",
      "\u001b[0;32mpandas/_libs/parsers.pyx\u001b[0m in \u001b[0;36mpandas._libs.parsers.TextReader.__cinit__ (pandas/_libs/parsers.c:4209)\u001b[0;34m()\u001b[0m\n",
      "\u001b[0;32mpandas/_libs/parsers.pyx\u001b[0m in \u001b[0;36mpandas._libs.parsers.TextReader._setup_parser_source (pandas/_libs/parsers.c:8873)\u001b[0;34m()\u001b[0m\n",
      "\u001b[0;31mIOError\u001b[0m: File hsiao_SNIa_template/snflux_1a.dat does not exist"
     ]
    }
   ],
   "source": [
    "#use Hsiao model at peak\n",
    "ascii=pd.read_table('hsiao_SNIa_template/snflux_1a.dat',delim_whitespace=True,header=None)\n",
    "epoch_peak = ascii[ascii[0] == 0.0]\n",
    "lambda_model = epoch_peak[1].values\n",
    "flux_model = epoch_peak[2].values\n",
    "\n",
    "F_spec_model_0=interpolate.interp1d(lambda_model,flux_model)\n",
    "\n",
    "Kcor=Kcorrection()\n",
    "m_lsst_za={}\n",
    "m_lsst_0={}\n",
    "            \n",
    "for i,zs in enumerate(z_sim):\n",
    "    lambda_model_obs=lambda_model*(1+zs)\n",
    "    flux_model_obs=flux_model/(1+zs)\n",
    "    F_spec_model_z=interpolate.interp1d(lambda_model_obs,flux_model_obs)\n",
    "    \n",
    "    for f in filterlist:\n",
    "        #comparison of F_spec_model_z and F_spec_model_0\n",
    "        n_lsst_za=integrate.simps(F_spec_model_z(lambda_filter)*x_func[f](lambda_filter)*lambda_filter,lambda_filter)   \n",
    "        m_lsst_za[f]=-2.5*(np.log10(n_lsst_za/dem_x[f]))-48.60+2.5*(np.log10(c_AA))\n",
    "        #Comparison of F_spec_model_z(SDSS) and F_spec_model_0(CSP)\n",
    "        n_lsst_0=integrate.simps(F_spec_model_0(lambda_filter)*x_func[f](lambda_filter)*lambda_filter,lambda_filter)   \n",
    "        m_lsst_0[f]=-2.5*(np.log10(n_lsst_0/dem_x[f]))-48.60+2.5*(np.log10(c_AA))\n",
    "\n",
    "    for j,f1 in enumerate(filterlist):\n",
    "        for k,f2 in enumerate(filterlist):\n",
    "            Kcor[f1,f2,i]=m_lsst_za[f1]-m_lsst_0[f2]"
   ]
  },
  {
   "cell_type": "markdown",
   "metadata": {},
   "source": [
    "## 1.3 Here we construct a K-correction term from all bands to r-band"
   ]
  },
  {
   "cell_type": "code",
   "execution_count": null,
   "metadata": {
    "collapsed": true
   },
   "outputs": [],
   "source": [
    "Kxr=np.zeros(len(z_sim))\n",
    "for i,zs in enumerate(z_sim):\n",
    "    #select the closest filter to r at a certain redshift\n",
    "    lambda_eff=lsst_effl['r']*(1+zs)    \n",
    "    ind_X = np.where(np.array(lsst_effl.values()) == find_nearest(lsst_effl.values(),lambda_eff) )[0][0]    \n",
    "    Kxr[i]=Kcor[lsst_effl.keys()[ind_X],'r',i]\n",
    "\n",
    "Kxr_func=interpolate.interp1d(z_sim,Kxr)\n",
    "\n",
    "for j,f1 in enumerate(filterlist):\n",
    "    plt.plot(z_sim,Kcor.interpol(f1,'r')(z_sim),filtercolors[f1])\n",
    "plt.plot(z_sim,Kxr_func(z_sim),'black')\n",
    "plt.xlabel('Redshift')\n",
    "plt.ylabel('Kxr')\n",
    "plt.ylim(-2,2)\n",
    "plt.legend(('u->r','g->r','r->r','i->r','z->r','y->r'),loc=3,markerscale=0.5,prop={'size':15},ncol=2) \n",
    "plt.show()\n",
    "\n",
    "#Final Kcorrections fron x to r in Kx_r and Kxr_func\n",
    "# r->r if zs <= 0.105:\n",
    "# i->r if zs > 0.105 and zs <= 0.303:\n",
    "# z->r if zs > 0.303 and zs <= 0.494:\n",
    "# y->r if zs > 0.494:"
   ]
  },
  {
   "cell_type": "markdown",
   "metadata": {},
   "source": [
    "## Example with SN Ia 1994D"
   ]
  },
  {
   "cell_type": "markdown",
   "metadata": {},
   "source": [
    "## At which redshift SN 1994D would not be detected with LSST?\n",
    "We will first take SN Ia 1994D as a reference and assume that all SNe Ia are like 1994D. We simulate its r-band light curve at different redshifts and see that at z=0.39 it would be below the LSST detections limit\n"
   ]
  },
  {
   "cell_type": "code",
   "execution_count": null,
   "metadata": {
    "collapsed": true
   },
   "outputs": [],
   "source": [
    "z_cmb = 0.002614\n",
    "err_z_cmb = 0.000030\n",
    "\n",
    "SN_photo=pd.read_table('SNLS3year_JRK07_1994D.dat',delim_whitespace=True, header=0)\n",
    "\n",
    "SN_epoch=SN_photo['MJD'][SN_photo['FLT'] == 'R'].values\n",
    "mag_r=SN_photo['MAG'][SN_photo['FLT'] == 'R'].values\n",
    "dmag_r=SN_photo['MAGERR'][SN_photo['FLT'] == 'R'].values\n",
    "\n",
    "M_SN_r=mag_r-5*np.log10(d_lum_distri(z_cmb))-25\n",
    "dM_SN_r=np.sqrt(dmag_r**2+(np.array(err_z_cmb)*(5*(1+np.array(z_cmb))*1.0/(np.array(z_cmb)*(1+np.array(z_cmb)*1.0/2)*np.log10(10))))**2)\n",
    "\n",
    "m_sn=np.zeros(shape=(len(SN_epoch),len(z_sim)))\n",
    "for t,snep in enumerate(SN_epoch):\n",
    "    for z,zs in enumerate(z_sim):\n",
    "        m_sn[t,z]=M_SN_r[t]+d_mod_distri(zs)+Kxr_func(zs)\n",
    "for z,zs in enumerate(z_sim):\n",
    "    plt.plot(SN_epoch,m_sn[:,z],c=RdYlBu_11_r.mpl_colors[int(11.0*(z/np.float(len(z_sim))))]) \n",
    "    if min(m_sn[:,z]) > mag_lim['r']:\n",
    "        print('Not visible from z='+str(zs))\n",
    "        break\n",
    "\n",
    "plt.ylim(30,-5)\n",
    "plt.axhline(mag_lim['r'], color='k', linestyle='--')\n",
    "plt.xlabel('MJD [days]')\n",
    "plt.ylabel('Apparent magnitude [mag]')\n",
    "plt.title('SN 1994D at several redshifts')\n",
    "plt.show()\n",
    "\n",
    "plt.plot(SN_epoch,M_SN_r, linestyle='--') \n",
    "plt.ylim(np.max(M_SN_r)+0.2,np.min(M_SN_r)-0.2)\n",
    "plt.title('SN 1994D')\n",
    "plt.ylabel('Absolute magnitude [mag]')\n",
    "plt.xlabel('MJD [days]')\n",
    "plt.show()\n"
   ]
  },
  {
   "cell_type": "markdown",
   "metadata": {},
   "source": [
    "# Tina's note: this is where I need to start up tomorrow"
   ]
  },
  {
   "cell_type": "markdown",
   "metadata": {},
   "source": [
    "## How many SNe Ia (SN 1994D-like) would the LSST discover in 1 year?\n",
    "\n",
    "First, we compare our $m(t,z)$ with $m_{lim}$ of the LSST camera to obtain $\\Delta_{t}(z)$,  the probability of detecting (the peak of) a SN at a given redshift "
   ]
  },
  {
   "cell_type": "code",
   "execution_count": null,
   "metadata": {
    "collapsed": true
   },
   "outputs": [],
   "source": [
    "t_min=[0]*len(z_sim)\n",
    "t_max=[0]*len(z_sim)\n",
    "t_max_2=[0]*len(z_sim)\n",
    "delta_t_redshift=[0]*len(z_sim) #delta t corrected by redshift\n",
    "epoch_model_z=[0]*len(SN_epoch)\n",
    "\n",
    "for i,zs in enumerate(z_sim):\n",
    "    epoch_model_z=SN_epoch*(1+zs)  #1+z factor for time dilation\n",
    "    if min(m_sn[:,i][:])<mag_lim['r']:\n",
    "        t_min[i]=epoch_model_z[min(np.where(m_sn[:,i] <= mag_lim['r'])[0])]\n",
    "        o=set(np.where(epoch_model_z >= t_min[i])[0])   #index of the last t>t_min\n",
    "        p=set(np.where(m_sn[:,i] <= mag_lim['r'])[0])        #index at which we see the SN\n",
    "        q=(list(o-p))                                 #all the indeces where we see the peak\n",
    "        if q == []:\n",
    "            t_max[i]=epoch_model_z[max(np.where(m_sn[:,i]<=mag_lim['r'])[0])]\n",
    "            delta_t_redshift[i]=t_max[i]-t_min[i]\n",
    "        else:\n",
    "            t_max[i]=epoch_model_z[min(q)]\n",
    "            t_max_2[i]=epoch_model_z[max(q)]\n",
    "            delta_t_redshift[i]=(t_max[i]-t_min[i])+(max(epoch_model_z)-t_max_2[i])#le SBO+ rest of curve"
   ]
  },
  {
   "cell_type": "markdown",
   "metadata": {},
   "source": [
    "Now we estimate the number of detected SNe Ia per unit of redshift, $dN/dz$. From Equations 2 and 5 of Forster et al. (2006)"
   ]
  },
  {
   "cell_type": "code",
   "execution_count": null,
   "metadata": {
    "collapsed": true
   },
   "outputs": [],
   "source": [
    "dV_dz_dW=np.zeros(len(z_sim))\n",
    "\n",
    "#############\n",
    "survey_length=1.0   #in years\n",
    "#############\n",
    "\n",
    "dn_dz_Horiuchi=[0]*len(z_sim)   \n",
    "dn_dz_Cole=[0]*len(z_sim)      \n",
    "dn_dz_Madau=[0]*len(z_sim)      \n",
    "\n",
    "for i,zs in enumerate(z_sim):\n",
    "    dV_dz_dW[i]=(pow(r_com_distri(zs),2)*d_h*e_z_distri(zs))                 #dV(z) is the volume per unit redshift being surveyed\n",
    "\n",
    "    #total observing time multiplied by the probability of detecting a SN\n",
    "    dn_dz_Horiuchi[i]=SNR_Horiuchi(zs)/(1.+zs)*dV_dz_dW[i]*delta_omega*((delta_t_redshift[i])/365.25)*survey_length #In yr (SNR in yr)     #dn/dz is the SN per unit of redshift, comovil volume, solid angle and fied of view\n",
    "    dn_dz_Cole[i]=SNR_Cole(zs)/(1+zs)*dV_dz_dW[i]*delta_omega*((delta_t_redshift[i])/365.25)*survey_length #In yr (SNR in yr)          #dn/dz is the SN per unit of redshift, comovil volume, solid anfle and fied of view\n",
    "    dn_dz_Madau[i]=SNR_Madau(zs)/(1+zs)*dV_dz_dW[i]*delta_omega*((delta_t_redshift[i])/365.25)*survey_length #In yr (SNR in yr)        #dn/dz is the SN per unit of redshift, comovil volume, solid anfle and fied of view\n",
    "                               \n",
    "    \n",
    "plt.plot(z_sim,dn_dz_Horiuchi,'b',z_sim,dn_dz_Cole,'c',z_sim,dn_dz_Madau,'r')\n",
    "plt.title('The number of detected SNe Ia per unit of redshift interval')\n",
    "plt.xlabel('redshift')\n",
    "plt.ylabel('num SN ')\n",
    "plt.legend(('Horiuchi','Cole','Madau'))\n",
    "plt.show()\n",
    "\n",
    "# We integrate for all the redshift to have the number of SN \n",
    "print('Num. SNe Horiuchi: '+str(int(np.sum(dn_dz_Horiuchi))))\n",
    "for i,zs in enumerate(z_sim):\n",
    "    if dn_dz_Horiuchi[i] == 0.0:\n",
    "        print('No SNe Ia from z='+str(zs))\n",
    "        break\n",
    "        \n",
    "print('Num. SNe Cole:     '+str(int(np.sum(dn_dz_Cole))))\n",
    "for i,zs in enumerate(z_sim):\n",
    "    if dn_dz_Cole[i] == 0.0:\n",
    "        print('No SNe Ia from z='+str(zs))\n",
    "        break\n",
    "        \n",
    "print('Num. SNe Madau:     '+str(int(np.sum(dn_dz_Madau))))\n",
    "for i,zs in enumerate(z_sim):\n",
    "    if dn_dz_Madau[i] == 0.0:\n",
    "        print('No SNe Ia from z='+str(zs))\n",
    "        break\n"
   ]
  },
  {
   "cell_type": "code",
   "execution_count": null,
   "metadata": {
    "collapsed": true
   },
   "outputs": [],
   "source": [
    "##This loads all models in lam,flux_model\n",
    "model=pd.read_table('hsiao_SNIa_template/snflux_1a.dat',delim_whitespace=True,header=None)\n",
    "epoch=model[0].values\n",
    "wavelength=model[1].values\n",
    "flux=model[2].values\n",
    "\n",
    "puta94D = pd.read_table('SNLS3year_JRK07_1994D.dat',delim_whitespace=True, header=0)\n",
    "ep_94D =puta94D['MJD'][SN_photo['FLT'] == 'R'].values - 49432.161\n",
    "mag_94D =puta94D['MAG'][SN_photo['FLT'] == 'R'].values\n",
    "F_94D =interpolate.interp1d(ep_94D,mag_94D)\n",
    "\n",
    "epoch_unique = np.unique(epoch)\n",
    "epoch_unique = epoch_unique[(epoch_unique > min(ep_94D)) & (epoch_unique < max(ep_94D))]\n",
    "\n",
    "mapp_94D = len(epoch_unique)*[0]\n",
    "Mabs_94D = len(epoch_unique)*[0]\n",
    "M_SN_F850LP = len(epoch_unique)*[0]\n",
    "n_obs=integrate.simps(F_spec_model_z(lambda_filter)*x_func['r'](lambda_filter)*lambda_filter,lambda_filter)\n",
    "m_obs_r=-2.5*np.log10(n_obs/dem_x['r'])-48.60+2.5*(np.log10(c_AA))\n",
    "factor=10**(-0.4*(F_94D(epoch_unique[0])-m_obs_r))\n",
    "\n",
    "for i, e in enumerate(epoch_unique):\n",
    "    if i == 0:\n",
    "        F_spec_model_z=interpolate.interp1d(wavelength[epoch == e], flux[epoch == e])\n",
    "        n_obs=integrate.simps(F_spec_model_z(lambda_filter)*x_func['r'](lambda_filter)*lambda_filter,lambda_filter)\n",
    "        m_obs_r=-2.5*np.log10(n_obs/dem_x['r'])-48.60+2.5*(np.log10(c_AA))\n",
    "        factor=10**(-0.4*(F_94D(epoch_unique[0])-m_obs_r))\n",
    "    #mangling\n",
    "    F_spec_model_z=interpolate.interp1d(wavelength[epoch == e], flux[epoch == e]*factor)\n",
    "    num=integrate.simps(F_spec_model_z(lambda_filter)*x_func['r'](lambda_filter)*lambda_filter,lambda_filter)\n",
    "    mapp_94D[i]=-2.5*np.log10((num/dem_x['r']))-48.60+2.5*(np.log10(c_AA))\n",
    "    Mabs_94D[i]=mapp_94D[i]-mu_LCDM(z_cmb)\n",
    "    plt.plot(wavelength[epoch == e],flux[epoch == e]*factor,\n",
    "             c=Greys_9.mpl_colors[int(9.0*(i/np.float(len(epoch_unique))))])\n",
    "\n",
    "plt.xlim(1000,15000)\n",
    "plt.show()"
   ]
  },
  {
   "cell_type": "code",
   "execution_count": null,
   "metadata": {
    "collapsed": true
   },
   "outputs": [],
   "source": [
    "m_sn_model=np.zeros(shape=(len(epoch_unique),len(z_sim)))\n",
    "for i, snep in enumerate(epoch_unique):\n",
    "    for t, zs in enumerate(z_sim):\n",
    "        m_sn_model[i,t]=Mabs_94D[i]+d_mod_distri(zs)+Kxr_func(zs)\n",
    "\n",
    "for i,zs in enumerate(z_sim):\n",
    "    plt.plot(epoch_unique,m_sn_model[:,i],\n",
    "             c=RdYlBu_11_r.mpl_colors[int(11.0*(i/np.float(len(z_sim))))]) #M_SN_r,)#\n",
    "    if min(m_sn[:,i]) > mag_lim['r']:\n",
    "        print('Not visible from z='+str(zs))\n",
    "        break\n",
    "#plt.ylim(np.max(m_sn_model)+0.2,np.min(m_sn_model)-0.2)\n",
    "plt.ylim(30,0)\n",
    "#plt.xlim(0.,450)\n",
    "plt.axhline(mag_lim['r'], color='k', linestyle='--')\n",
    "plt.xlabel('MJD [days]')\n",
    "plt.ylabel('Apparent magnitude [mag]')\n",
    "plt.title('Luc at several redshifts')\n",
    "plt.show()"
   ]
  },
  {
   "cell_type": "markdown",
   "metadata": {},
   "source": [
    "# 5. Example with a CSP-like simulated sample of SNe Ia\n",
    "\n",
    "Finally, we will use a a sample of 10,000 SNe, generate using equation 12 of Strolger et al. 2004. We will put each at redshifts raning from 0.01 to 1.2."
   ]
  },
  {
   "cell_type": "code",
   "execution_count": null,
   "metadata": {
    "collapsed": true
   },
   "outputs": [],
   "source": [
    "survey_length=1.0\n",
    "num_SN = 2000\n",
    "\n",
    "m_SN       = np.zeros((num_SN, len(z_sim), len(M_SN_r)))\n",
    "delta_t_SN = np.zeros((num_SN, len(z_sim), len(M_SN_r)))\n",
    "\n",
    "delta_M15 = np.random.normal(loc=1.1, scale=0.35, size=num_SN)\n",
    "delta_m15 = 0.7 + 0.2*np.random.random(size=num_SN*0.2)\n",
    "delta_m15 = np.append(delta_m15, 0.9 + 0.4*np.random.random(size=num_SN*0.6))\n",
    "delta_m15 = np.append(delta_m15, 1.7 + 0.2*np.random.random(size=num_SN*0.2))\n",
    "color_correction = 0.3*np.random.random(size=num_SN)\n",
    "\n",
    "for i in range(num_SN):\n",
    "    if (delta_M15[i] > 0.7) and (delta_M15[i] < 1.7):\n",
    "        delta_M_peak = 0.786*(delta_m15[i] - 1.1) + 0.633*(delta_m15[i] - 1.1)**2.\n",
    "    elif (delta_M15[i] > 1.7) and (delta_M15[i] < 2.2):\n",
    "        delta_M_peak = 1.35 + 0.786*(delta_m15[i] - 1.1) + 0.633*(delta_m15[i] - 1.1)**2.\n",
    "    else:\n",
    "        delta_M_peak = np.nan\n",
    "    for z in range(len(z_sim)):\n",
    "        k_correction = Kxr_func(z_sim[z])\n",
    "        luminosity_distance = 5.*np.log10(d_lum_distri(z_sim[z])) + 25.\n",
    "        SN_photo = max(Mabs_94D) + delta_M_peak + color_correction[i] + luminosity_distance + k_correction\n",
    "        m_SN[i, z, :] = SN_photo"
   ]
  },
  {
   "cell_type": "code",
   "execution_count": null,
   "metadata": {
    "collapsed": true
   },
   "outputs": [],
   "source": [
    "print np.nanmin(m_SN), np.nanmax(m_SN)\n",
    "print np.shape(m_SN)\n",
    "for i in range(num_SN):\n",
    "    plt.plot(z_sim, m_SN[i,:,0].flatten(),alpha=0.9,linewidth=0.1,color='b')\n",
    "plt.ylabel('Peak apparent magnitude [mag]')\n",
    "plt.xlabel('Redshift')\n",
    "#plt.ylim(np.max(m_SN[i,:,115])+0.2,np.min(m_SN[i,:,115])-0.2)\n",
    "plt.ylim(30,18)\n",
    "plt.show()"
   ]
  },
  {
   "cell_type": "markdown",
   "metadata": {},
   "source": [
    "Here we measure $\\Delta_t(z)$, selecting different magnitude limit depending on the filter we use for observations."
   ]
  },
  {
   "cell_type": "code",
   "execution_count": null,
   "metadata": {
    "collapsed": true
   },
   "outputs": [],
   "source": [
    "for i, zs in enumerate(z_sim):\n",
    "    wavelength_of_maxflux = \n",
    "\n",
    "for j in range((num_SN)):\n",
    "    for i in range(len(z_sim)):\n",
    "        if z_sim[i]<=0.3:           #V_swope would be converted to r_LSST                       \n",
    "            if m_SN[j,i,121]<mag_lim['r']:\n",
    "                delta_t_SN[j,i]=1.0\n",
    "        elif (z_sim[i]>0.3) and (z_sim[i]<=0.57) :  #V_swope would be i_LSST\n",
    "            if m_SN[j,i,121]<mag_lim['i']:\n",
    "                delta_t_SN[j,i]=1.0\n",
    "        elif (z_sim[i]>0.57) and (z_sim[i]<=0.78) : #V_swope would be z_LSST\n",
    "            if m_SN[j,i,121]<mag_lim['z']:\n",
    "                delta_t_SN[j,i]=1.0\n",
    "        elif (z_sim[i]>0.78) :      #V_swope would be y_LSST\n",
    "            if m_SN[j,i,121]<mag_lim['y']:\n",
    "                delta_t_SN[j,i]=1.0"
   ]
  },
  {
   "cell_type": "markdown",
   "metadata": {},
   "source": [
    "NOTE: this may be improved by carrying the distribution of delta_t_SN at each redshift, instead of simply measuring the average at each redshift"
   ]
  },
  {
   "cell_type": "code",
   "execution_count": null,
   "metadata": {
    "collapsed": true
   },
   "outputs": [],
   "source": [
    "delta_t_SN_tot=np.zeros((len(z_sim)))\n",
    "for i in range(len(z_sim)):\n",
    "    delta_t_SN_tot[i]=np.sum(delta_t_SN[:,i])\n",
    "\n",
    "delta_t_SN_tot=delta_t_SN_tot/num_SN"
   ]
  },
  {
   "cell_type": "code",
   "execution_count": null,
   "metadata": {
    "collapsed": true
   },
   "outputs": [],
   "source": [
    "dV_dz_dW=np.zeros(len(z_sim))\n",
    "\n",
    "dn_dz_Horiuchi=np.zeros(len(z_sim)) \n",
    "dn_dz_Cole=np.zeros(len(z_sim))\n",
    "dn_dz_Madau=np.zeros(len(z_sim))\n",
    "\n",
    "for i in range(len(z_sim)):\n",
    "    dV_dz_dW[i]=(pow(r_com_LCDM(z_sim[i]),2)*d_h*e_z_LCDM(z_sim[i]))    #dV(z) is the volume per unit redshift being surveyed\n",
    "\n",
    "    dn_dz_Horiuchi[i]=SNR_Horiuchi(z_sim[i])/(1+z_sim[i])*dV_dz_dW[i]*delta_omega*(delta_t_SN_tot[i]/365.25)*survey_length #In yr (SNR in yr)  #dn/dz is the SN per unit of redshift, comovil volume, solid angle and fied of view\n",
    "    dn_dz_Cole[i]    =SNR_Cole(z_sim[i])    /(1+z_sim[i])*dV_dz_dW[i]*delta_omega*(delta_t_SN_tot[i]/365.25)*survey_length #In yr (SNR in yr)  #dn/dz is the SN per unit of redshift, comovil volume, solid anfle and fied of view\n",
    "    dn_dz_Madau[i]   =SNR_Madau(z_sim[i])   /(1+z_sim[i])*dV_dz_dW[i]*delta_omega*(delta_t_SN_tot[i]/365.25)*survey_length #In yr (SNR in yr)  #dn/dz is the SN per unit of redshift, comovil volume, solid anfle and fied of view                               \n",
    "\n",
    "z_sim,dn_dz_Horiuchi,dn_dz_Cole,dn_dz_Madau = zip(*sorted(zip(z_sim,dn_dz_Horiuchi,dn_dz_Cole,dn_dz_Madau)))\n",
    "\n",
    "plt.plot(z_sim,np.array(dn_dz_Cole),'c',z_sim,np.array(dn_dz_Horiuchi),'b',z_sim,np.array(dn_dz_Madau),'r')\n",
    "plt.title('The number of detected SNe Ia per unit of redshift interval')\n",
    "plt.xlabel('redshift')\n",
    "plt.ylabel('num SN ')\n",
    "plt.legend(('Horiuchi','Cole','Madau'))\n",
    "plt.show()\n",
    "\n",
    "# We integrate for all the redshift to have the number of SN \n",
    "print('Num. SNe Horiuchi: '+str(int(np.sum(dn_dz_Horiuchi))))\n",
    "print('Num. SNe Cole:     '+str(int(np.sum(dn_dz_Cole))))    \n",
    "print('Num. SNe Madau:     '+str(int(np.sum(dn_dz_Madau))))\n",
    "z_tot_Madau=[]\n",
    "for i,zs in enumerate(z_sim):\n",
    "    if dn_dz_Madau[i] == 0.0:\n",
    "        print('No SNe Ia from z='+str(zs))\n",
    "        break\n",
    "\n",
    "z_sim,dn_dz_Horiuchi,dn_dz_Cole,dn_dz_Madau = zip(*sorted(zip(z_sim,dn_dz_Horiuchi,dn_dz_Cole,dn_dz_Madau)))\n",
    "z_tot_Madau=[]\n",
    "for i,zs in enumerate(z_sim):\n",
    "    for j in range((int(round(dn_dz_Madau[i],0)))):\n",
    "        z_tot_Madau.append(zs)"
   ]
  },
  {
   "cell_type": "code",
   "execution_count": null,
   "metadata": {
    "collapsed": true
   },
   "outputs": [],
   "source": [
    "data_save = np.column_stack((z_sims, dn_dz_Horiuchi, dn_dz_Cole, dn_dz_Madau))\n",
    "np.savetxt(\"SNeIa_rates.dat\", data_save, fmt=\"%.9e\", header = \"number of detected SNeII per unit of redshift interval \\n z_random \\t dn_dz_Horiuchi dn_dz_Cole \\t dn_dz_Madau\")"
   ]
  },
  {
   "cell_type": "markdown",
   "metadata": {},
   "source": [
    "We have found the shape of the distribution, below one can create the final distribution by giving the total number of SNe II (with no selection effects) that LSST is supposed to found"
   ]
  },
  {
   "cell_type": "code",
   "execution_count": null,
   "metadata": {
    "collapsed": true
   },
   "outputs": [],
   "source": [
    "N_SNe_HD=input(\"Number of SNe for the Hubble diagram: \")\n",
    "z_SNe_HD=np.random.choice(z_tot_Madau, N_SNe_HD, replace=True)\n",
    "\n",
    "plt.hist(z_SNe_HD,color='blue',alpha=0.9,label='Single-visit')\n",
    "plt.legend(loc=1,markerscale=0.5,prop={'size':12},ncol=2)\n",
    "#plt.xlim(0,1.2)\n",
    "plt.xlabel('redshift')\n",
    "plt.ylabel('SN ')\n",
    "plt.tick_params(axis='both', which='major', labelsize=13)\n",
    "plt.savefig('LSST_distribution.png')\n",
    "plt.show()\n"
   ]
  },
  {
   "cell_type": "code",
   "execution_count": null,
   "metadata": {
    "collapsed": true
   },
   "outputs": [],
   "source": []
  }
 ],
 "metadata": {
  "anaconda-cloud": {},
  "kernelspec": {
   "display_name": "Python 2",
   "language": "python",
   "name": "python2"
  },
  "language_info": {
   "codemirror_mode": {
    "name": "ipython",
    "version": 2
   },
   "file_extension": ".py",
   "mimetype": "text/x-python",
   "name": "python",
   "nbconvert_exporter": "python",
   "pygments_lexer": "ipython2",
   "version": "2.7.13"
  }
 },
 "nbformat": 4,
 "nbformat_minor": 1
}
