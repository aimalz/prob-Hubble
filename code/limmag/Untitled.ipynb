{
 "cells": [
  {
   "cell_type": "raw",
   "metadata": {},
   "source": [
    "## SN II average peak magnitudes from Galbany et al. (2016; http://adsabs.harvard.edu/abs/2016AJ....151...33G)"
   ]
  },
  {
   "cell_type": "raw",
   "metadata": {},
   "source": [
    "## These are the averaged magnitudes in Landolt bands"
   ]
  },
  {
   "cell_type": "code",
   "execution_count": 28,
   "metadata": {
    "collapsed": true
   },
   "outputs": [],
   "source": [
    " Umax = -16.06 \n",
    "dUmax = 1.74\n",
    " Bmax = -16.43\n",
    "dBmax = 1.19\n",
    " Vmax = -16.89\n",
    "dVmax = 0.98\n",
    " Rmax = -16.96 \n",
    "dRmax = 1.03\n",
    " Imax = -17.38 \n",
    "dImax = 0.95"
   ]
  },
  {
   "cell_type": "code",
   "execution_count": 35,
   "metadata": {
    "collapsed": false
   },
   "outputs": [],
   "source": [
    "from astropy import cosmology\n",
    "from astropy.cosmology import WMAP9 as cosmo\n",
    "import numpy as np\n",
    "import matplotlib.pyplot as plt"
   ]
  },
  {
   "cell_type": "code",
   "execution_count": 36,
   "metadata": {
    "collapsed": false
   },
   "outputs": [],
   "source": [
    "z=  np.arange(0.01, 1.21, 0.01)\n",
    "mu=cosmo.distmod(z)\n",
    "snpeak=np.array(mu)+Rmax"
   ]
  },
  {
   "cell_type": "code",
   "execution_count": 37,
   "metadata": {
    "collapsed": false
   },
   "outputs": [
    {
     "data": {
      "image/png": "[encoded data removed]",
      "text/plain": [
       "<matplotlib.figure.Figure at 0x1086ba110>"
      ]
     },
     "metadata": {},
     "output_type": "display_data"
    }
   ],
   "source": [
    "plt.scatter(z,snpeak)\n",
    "plt.axhline(y=24.7,xmin=-0.2,xmax=1.2, color='k', linestyle='--')\n",
    "plt.show()"
   ]
  },
  {
   "cell_type": "code",
   "execution_count": 62,
   "metadata": {
    "collapsed": false
   },
   "outputs": [],
   "source": [
    "mags=[Umax,Bmax,Vmax,Rmax,Imax]\n",
    "effl=[3633.,4361.,5448.,6407.,7980.]\n",
    "#from http://www.astro.washington.edu/users/ivezic/Astr511/LSST_SNRdoc.pdf\n",
    "lsst_effl=[3654.9,4800.3,6222.0,7540.6,8682.1,9916.6]"
   ]
  },
  {
   "cell_type": "code",
   "execution_count": 67,
   "metadata": {
    "collapsed": false
   },
   "outputs": [],
   "source": [
    "\n",
    "def value_locate(refx, x):\n",
    "    \"\"\"\n",
    "    VALUE_LOCATE locates the positions of given values within a\n",
    "    reference array.  The reference array need not be regularly\n",
    "    spaced.  This is useful for various searching, sorting and\n",
    "    interpolation algorithms.\n",
    "    The reference array should be a monotonically increasing or\n",
    "    decreasing list of values which partition the real numbers.  A\n",
    "    reference array of NBINS numbers partitions the real number line\n",
    "    into NBINS+1 regions, like so:\n",
    "    REF:           X[0]         X[1]   X[2] X[3]     X[NBINS-1]\n",
    "    <----------|-------------|------|---|----...---|--------------->\n",
    "    INDICES:  -1           0          1    2       3        NBINS-1\n",
    "    VALUE_LOCATE returns which partition each of the VALUES falls\n",
    "    into, according to the figure above.  For example, a value between\n",
    "    X[1] and X[2] would return a value of 1.  Values below X[0] return\n",
    "    -1, and above X[NBINS-1] return NBINS-1.  Thus, besides the value\n",
    "    of -1, the returned INDICES refer to the nearest reference value\n",
    "    to the left of the requested value.\n",
    "    \n",
    "    Example:\n",
    "    >>> refx = [2, 4, 6, 8, 10]\n",
    "    >>> x = [-1, 1, 2, 3, 5, 5, 5, 8, 12, 30]\n",
    "    >>> print value_locate(refx, x)\n",
    "    array([-1, -1,  0,  0,  1,  1,  1,  3,  4,  4])\n",
    "    \n",
    "    \n",
    "    This implementation is likely no the most efficient one, as there is\n",
    "    a loop over all x, which will in practice be long. As long as x is\n",
    "    shorter than 1e6 or so elements, it should still be fast (~sec).\n",
    "    \n",
    "    \n",
    "    \"\"\"\n",
    "    #print \"TODO: check if refx is monotonically increasing.\"\n",
    "    \n",
    "    refx = np.array(refx)\n",
    "    x = np.array(x)\n",
    "    loc = np.zeros(len(x), dtype='int')\n",
    "    \n",
    "    for i in xrange(len(x)):\n",
    "        ix = x[i]\n",
    "        ind = ((refx - ix) <= 0).nonzero()[0]\n",
    "        if len(ind) == 0:\n",
    "            loc[i] = -1\n",
    "        else: loc[i] = ind[-1]\n",
    "    \n",
    "    return loc"
   ]
  },
  {
   "cell_type": "code",
   "execution_count": 107,
   "metadata": {
    "collapsed": false
   },
   "outputs": [
    {
     "name": "stdout",
     "output_type": "stream",
     "text": [
      "[0 1 2 3 4 4]\n"
     ]
    },
    {
     "ename": "ValueError",
     "evalue": "The truth value of an array with more than one element is ambiguous. Use a.any() or a.all()",
     "output_type": "error",
     "traceback": [
      "\u001b[0;31m---------------------------------------------------------------------------\u001b[0m",
      "\u001b[0;31mValueError\u001b[0m                                Traceback (most recent call last)",
      "\u001b[0;32m<ipython-input-107-76180d9353fd>\u001b[0m in \u001b[0;36m<module>\u001b[0;34m()\u001b[0m\n\u001b[1;32m      3\u001b[0m \u001b[0mieff\u001b[0m \u001b[0;34m=\u001b[0m \u001b[0mvalue_locate\u001b[0m\u001b[0;34m(\u001b[0m\u001b[0meffl\u001b[0m\u001b[0;34m,\u001b[0m \u001b[0mlsst_effl\u001b[0m\u001b[0;34m)\u001b[0m\u001b[0;34m\u001b[0m\u001b[0m\n\u001b[1;32m      4\u001b[0m \u001b[0;32mprint\u001b[0m\u001b[0;34m(\u001b[0m\u001b[0mieff\u001b[0m\u001b[0;34m)\u001b[0m\u001b[0;34m\u001b[0m\u001b[0m\n\u001b[0;32m----> 5\u001b[0;31m \u001b[0mieff2\u001b[0m\u001b[0;34m=\u001b[0m\u001b[0;34m(\u001b[0m \u001b[0mieff\u001b[0m \u001b[0;34m<\u001b[0m \u001b[0mnp\u001b[0m \u001b[0;32mand\u001b[0m \u001b[0mieff\u001b[0m \u001b[0;34m>\u001b[0m \u001b[0;36m0\u001b[0m\u001b[0;34m)\u001b[0m\u001b[0;34m.\u001b[0m\u001b[0mnonzero\u001b[0m\u001b[0;34m(\u001b[0m\u001b[0;34m)\u001b[0m\u001b[0;34m\u001b[0m\u001b[0m\n\u001b[0m\u001b[1;32m      6\u001b[0m \u001b[0;32mprint\u001b[0m\u001b[0;34m(\u001b[0m\u001b[0mieff2\u001b[0m\u001b[0;34m[\u001b[0m\u001b[0;36m0\u001b[0m\u001b[0;34m]\u001b[0m\u001b[0;34m)\u001b[0m\u001b[0;34m\u001b[0m\u001b[0m\n\u001b[1;32m      7\u001b[0m \u001b[0mieff3\u001b[0m\u001b[0;34m=\u001b[0m\u001b[0;34m(\u001b[0m\u001b[0mieff2\u001b[0m\u001b[0;34m[\u001b[0m\u001b[0;36m0\u001b[0m\u001b[0;34m]\u001b[0m\u001b[0;34m)\u001b[0m\u001b[0;34m.\u001b[0m\u001b[0mnonzero\u001b[0m\u001b[0;34m(\u001b[0m\u001b[0;34m)\u001b[0m\u001b[0;34m\u001b[0m\u001b[0m\n",
      "\u001b[0;31mValueError\u001b[0m: The truth value of an array with more than one element is ambiguous. Use a.any() or a.all()"
     ]
    }
   ],
   "source": [
    "npoints=len(effl)\n",
    "npt=npoints-1\n",
    "ieff = value_locate(effl, lsst_effl)\n",
    "print(ieff)\n",
    "ieff2=( ieff < np and ieff > 0).nonzero()\n",
    "print(ieff2[0])\n",
    "ieff3=(ieff2[0]).nonzero()\n",
    "print(ieff3[0])\n"
   ]
  },
  {
   "cell_type": "code",
   "execution_count": 101,
   "metadata": {
    "collapsed": false
   },
   "outputs": [
    {
     "ename": "SyntaxError",
     "evalue": "invalid syntax (<ipython-input-101-42b265f23e97>, line 1)",
     "output_type": "error",
     "traceback": [
      "\u001b[0;36m  File \u001b[0;32m\"<ipython-input-101-42b265f23e97>\"\u001b[0;36m, line \u001b[0;32m1\u001b[0m\n\u001b[0;31m    where(a GE 5.5)\u001b[0m\n\u001b[0m             ^\u001b[0m\n\u001b[0;31mSyntaxError\u001b[0m\u001b[0;31m:\u001b[0m invalid syntax\n"
     ]
    }
   ],
   "source": [
    "where(a GE 5.5)\t\n",
    "\n",
    "\n",
    "\n",
    " g = where( (ieff LT npt) and (ieff GE 0), Ngood)\n",
    " if Ngood GT 0 then begin\n",
    "      neff = ieff[g]\n",
    "      x0 = double(xarr[neff])\n",
    "      diff =  x[g] - x0\n",
    "      ieff[g] = neff +  diff / (xarr[neff+1] - x0 ) \n",
    " endif\n",
    "     \n",
    " ieff = ieff > 0.0\n",
    "\n",
    "    \n",
    "    "
   ]
  },
  {
   "cell_type": "code",
   "execution_count": null,
   "metadata": {
    "collapsed": true
   },
   "outputs": [],
   "source": []
  },
  {
   "cell_type": "code",
   "execution_count": null,
   "metadata": {
    "collapsed": true
   },
   "outputs": [],
   "source": []
  },
  {
   "cell_type": "code",
   "execution_count": null,
   "metadata": {
    "collapsed": true
   },
   "outputs": [],
   "source": []
  }
 ],
 "metadata": {
  "anaconda-cloud": {},
  "kernelspec": {
   "display_name": "Python [default]",
   "language": "python",
   "name": "python2"
  },
  "language_info": {
   "codemirror_mode": {
    "name": "ipython",
    "version": 2
   },
   "file_extension": ".py",
   "mimetype": "text/x-python",
   "name": "python",
   "nbconvert_exporter": "python",
   "pygments_lexer": "ipython2",
   "version": "2.7.12"
  }
 },
 "nbformat": 4,
 "nbformat_minor": 1
}
