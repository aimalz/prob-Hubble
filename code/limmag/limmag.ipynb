{
 "cells": [
  {
   "cell_type": "markdown",
   "metadata": {
    "collapsed": true
   },
   "source": [
    "# Measure limiting magnitudes"
   ]
  },
  {
   "cell_type": "markdown",
   "metadata": {
    "collapsed": true
   },
   "source": [
    "SN II averaged Landolt peak magnitudes from [Galbany et al. (2016)](http://adsabs.harvard.edu/abs/2016AJ....151...33G)"
   ]
  },
  {
   "cell_type": "code",
   "execution_count": null,
   "metadata": {
    "collapsed": true
   },
   "outputs": [],
   "source": [
    "#       Umax   Bmax   Vmax   Rmax   Imax\n",
    "mags=[-16.06,-16.43,-16.89,-16.96,-17.38]\n",
    "emags=[ 1.74,  1.19,  0.98,  1.03,  0.95]\n",
    "effl=[ 3633., 4361., 5448., 6407., 7980.]"
   ]
  },
  {
   "cell_type": "code",
   "execution_count": null,
   "metadata": {
    "collapsed": false
   },
   "outputs": [],
   "source": [
    "from astropy import cosmology\n",
    "from astropy.cosmology import WMAP9 as cosmo\n",
    "import numpy as np\n",
    "import matplotlib.pyplot as plt"
   ]
  },
  {
   "cell_type": "code",
   "execution_count": null,
   "metadata": {
    "collapsed": false
   },
   "outputs": [],
   "source": [
    "z=np.arange(0.01, 1.21, 0.01)\n",
    "mu=cosmo.distmod(z)\n",
    "snpeak=np.array(mu)+mags[3]"
   ]
  },
  {
   "cell_type": "code",
   "execution_count": null,
   "metadata": {
    "collapsed": false
   },
   "outputs": [],
   "source": [
    "plt.scatter(z,snpeak)\n",
    "plt.xlim(0.,1.2)\n",
    "plt.axhline(y=24.7,xmin=0.,xmax=1.2, color='k', linestyle='--')\n",
    "plt.title('R Landolt')\n",
    "plt.xlabel('z')\n",
    "plt.ylabel('apparent magnitude')\n",
    "plt.show()"
   ]
  },
  {
   "cell_type": "code",
   "execution_count": null,
   "metadata": {
    "collapsed": false
   },
   "outputs": [],
   "source": [
    "#LSST       umax   gmax   rmax  imax   zmax   Ymax\n",
    "lsst_effl=[3654.9,4800.3,6222.0,7540]#.6,8682.1,9916.6]\n",
    "leffl=np.array(lsst_effl)\n",
    "new_avg_mags=np.interp(leffl,effl,mags)\n",
    "new_avg_mags"
   ]
  },
  {
   "cell_type": "code",
   "execution_count": null,
   "metadata": {
    "collapsed": false,
    "scrolled": true
   },
   "outputs": [],
   "source": [
    "plt.semilogx(z, np.array(mu)+new_avg_mags[0]) # u_lsst\n",
    "plt.semilogx(z, np.array(mu)+new_avg_mags[1]) # g_lsst\n",
    "plt.semilogx(z, np.array(mu)+new_avg_mags[2]) # r_lsst\n",
    "plt.semilogx(z, np.array(mu)+new_avg_mags[3]) # i_lsst\n",
    "\n",
    "plt.semilogx(z, np.array(mu)+mags[0],'--') # U_Landolt\n",
    "plt.semilogx(z, np.array(mu)+mags[1],'--') # B_Landolt\n",
    "plt.semilogx(z, np.array(mu)+mags[2],'--') # V_Landolt\n",
    "plt.semilogx(z, np.array(mu)+mags[3],'--') # R_Landolt\n",
    "plt.semilogx(z, np.array(mu)+mags[4],'--') # I_Landolt\n",
    "\n",
    "plt.xlim(0.01,1.21)\n",
    "plt.axhline(y=24.7,xmin=0.,xmax=1.2, color='k', linestyle='--')\n",
    "plt.title('all bands')\n",
    "plt.xlabel('z')\n",
    "plt.ylabel('apparent magnitude')\n",
    "plt.legend(('u_lsst','g_lsst','r_lsst','i_lsst','U','B','V','R','I'),loc=4,markerscale=0.5,prop={'size':10},ncol=2) \n",
    "plt.show()"
   ]
  },
  {
   "cell_type": "markdown",
   "metadata": {
    "collapsed": true
   },
   "source": [
    "## NEXT: simulate SNe II peak magnitudes from a distribution of real other observables (i.e. plateau duration, post-maximum decline...) and provide a distribution of number of SNeII detectable by LSST in redshift bins"
   ]
  },
  {
   "cell_type": "markdown",
   "metadata": {
    "collapsed": false
   },
   "source": [
    "now in snii_lsst.ipynb"
   ]
  },
  {
   "cell_type": "code",
   "execution_count": null,
   "metadata": {
    "collapsed": true
   },
   "outputs": [],
   "source": []
  },
  {
   "cell_type": "code",
   "execution_count": null,
   "metadata": {
    "collapsed": true
   },
   "outputs": [],
   "source": []
  }
 ],
 "metadata": {
  "anaconda-cloud": {},
  "kernelspec": {
   "display_name": "Python 2",
   "language": "python",
   "name": "python2"
  },
  "language_info": {
   "codemirror_mode": {
    "name": "ipython",
    "version": 2
   },
   "file_extension": ".py",
   "mimetype": "text/x-python",
   "name": "python",
   "nbconvert_exporter": "python",
   "pygments_lexer": "ipython2",
   "version": "2.7.13"
  }
 },
 "nbformat": 4,
 "nbformat_minor": 1
}
