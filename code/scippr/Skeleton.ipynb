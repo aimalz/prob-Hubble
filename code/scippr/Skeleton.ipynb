{
 "cells": [
  {
   "cell_type": "code",
   "execution_count": null,
   "metadata": {
    "collapsed": true
   },
   "outputs": [],
   "source": [
    "import numpy as np\n",
    "import astropy.cosmology as cosmology\n",
    "cosmo = cosmology.FlatLambdaCDM(H0=70, Om0=0.3)\n",
    "from scipy.stats import norm\n",
    "import emcee\n",
    "from datetime import datetime"
   ]
  },
  {
   "cell_type": "code",
   "execution_count": null,
   "metadata": {
    "collapsed": false
   },
   "outputs": [],
   "source": [
    "num_SNe = 10\n",
    "types = ['Ia', 'Ibc', 'II']\n",
    "redshift_bins = np.linspace(0.01, 1.201, num=100, endpoint=True)\n",
    "distancemodulus_bins = cosmo.distmod(redshift_bins)\n",
    "theta = [72] #H0\n",
    "mcrandstep = 10.**-1.\n",
    "nthreads = 1\n",
    "nwalkers = 150\n",
    "nsteps = 2000\n",
    "ninit = 200\n",
    "output_chain = True\n",
    "emcee_chain_output = \"emcee_chain_testing.dat\""
   ]
  },
  {
   "cell_type": "markdown",
   "metadata": {},
   "source": [
    "# ln Joint Interim Posterior (equation 10 of paper)"
   ]
  },
  {
   "cell_type": "code",
   "execution_count": null,
   "metadata": {
    "collapsed": false
   },
   "outputs": [],
   "source": [
    "def lnprob(theta):\n",
    "    return lnprior(theta) + np.sum(np.sum(np.sum(np.sum(\n",
    "                        lninterimposterior + lnhyperlikelihood(theta) -lninterimhyperlikelihood\n",
    "                                                        , axis=3), axis=2), axis=1), axis=0)"
   ]
  },
  {
   "cell_type": "markdown",
   "metadata": {},
   "source": [
    "# Priors on cosmological parameters and host galaxy redshift parameters"
   ]
  },
  {
   "cell_type": "code",
   "execution_count": null,
   "metadata": {
    "collapsed": true
   },
   "outputs": [],
   "source": [
    "def lnprior(theta):\n",
    "    H0 = theta[0]\n",
    "    H0prior = norm.logpdf(H0, loc=70, scale=2)\n",
    "    return H0prior"
   ]
  },
  {
   "cell_type": "code",
   "execution_count": null,
   "metadata": {
    "collapsed": false
   },
   "outputs": [],
   "source": [
    "def lnhyperlikelihood(theta):\n",
    "    return 1.0"
   ]
  },
  {
   "cell_type": "markdown",
   "metadata": {},
   "source": [
    "# MCMC Sampler"
   ]
  },
  {
   "cell_type": "code",
   "execution_count": null,
   "metadata": {
    "collapsed": false
   },
   "outputs": [],
   "source": [
    "def run_MCMC(theta, lnprob):\n",
    "    init_positions = [np.array(theta) + mcrandstep*np.random.randn(len(theta)) for i in range(int(nwalkers))]\n",
    "    sampler = emcee.EnsembleSampler(int(nwalkers), len(theta), lnprob, threads=int(nthreads))\n",
    "    for i, result in enumerate(sampler.sample(init_positions, iterations=ninit, storechain=False)):\n",
    "        position = result[0]\n",
    "        lnprob_pos = result[1]\n",
    "        if (i+1) % 20 == 0:\n",
    "            print(\"Burn-in: {0:.1f}%, \".format(100 * float(i+1) / ninit))\n",
    "            print datetime.now()\n",
    "        if output_chain:\n",
    "            if i%10 == 0:\n",
    "                f = open(emcee_chain_output, \"a\")\n",
    "                for k in range(position.shape[0]):\n",
    "                    for j in range(position.shape[1]):\n",
    "                        f.write(\"{:+010.5f} \".format(position[k,j]))\n",
    "                    f.write(\"{:+010.5f} \".format(lnprob_pos[k]))\n",
    "                    f.write(\"\\n\")\n",
    "                f.close()"
   ]
  },
  {
   "cell_type": "code",
   "execution_count": null,
   "metadata": {
    "collapsed": true
   },
   "outputs": [],
   "source": [
    "lninterimposterior = np.zeros((num_SNe, len(types), len(redshift_bins), len(distancemodulus_bins)))"
   ]
  },
  {
   "cell_type": "code",
   "execution_count": null,
   "metadata": {
    "collapsed": true
   },
   "outputs": [],
   "source": [
    "interimtheta = [72]\n",
    "lninterimhyperlikelihood = lnhyperlikelihood(interimtheta)"
   ]
  },
  {
   "cell_type": "code",
   "execution_count": null,
   "metadata": {
    "collapsed": false
   },
   "outputs": [],
   "source": [
    "run_MCMC(theta, lnprob)"
   ]
  },
  {
   "cell_type": "code",
   "execution_count": null,
   "metadata": {
    "collapsed": true
   },
   "outputs": [],
   "source": []
  }
 ],
 "metadata": {
  "anaconda-cloud": {},
  "kernelspec": {
   "display_name": "Python 2",
   "language": "python",
   "name": "python2"
  },
  "language_info": {
   "codemirror_mode": {
    "name": "ipython",
    "version": 2
   },
   "file_extension": ".py",
   "mimetype": "text/x-python",
   "name": "python",
   "nbconvert_exporter": "python",
   "pygments_lexer": "ipython2",
   "version": "2.7.12"
  }
 },
 "nbformat": 4,
 "nbformat_minor": 2
}
