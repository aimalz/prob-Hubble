{
 "cells": [
  {
   "cell_type": "code",
   "execution_count": 1,
   "metadata": {
    "collapsed": true
   },
   "outputs": [],
   "source": [
    "import matplotlib.pyplot as plt\n",
    "%matplotlib inline\n",
    "import numpy as np\n",
    "import os\n",
    "import time\n",
    "from astropy import cosmology\n",
    "from astropy.cosmology import FlatLambdaCDM"
   ]
  },
  {
   "cell_type": "code",
   "execution_count": 2,
   "metadata": {
    "collapsed": true
   },
   "outputs": [],
   "source": [
    "def MC(Nrand, probs): \n",
    "    # returns probabilities after an MC run\n",
    "    np.random.seed(10)\n",
    "    randNs= np.random.random(Nrand)\n",
    "    \n",
    "    counts= np.zeros(len(probs))\n",
    "    \n",
    "    probs= [0]+list(probs)\n",
    "    cumProbs= np.cumsum(probs)\n",
    "    \n",
    "    for randN in randNs:   \n",
    "        for i in np.arange(1,len(probs)+1):\n",
    "            if (randN> cumProbs[i-1]) and (randN<=cumProbs[i]):\n",
    "                counts[i-1]+=1    \n",
    "                \n",
    "    return counts/Nrand"
   ]
  },
  {
   "cell_type": "code",
   "execution_count": 3,
   "metadata": {
    "collapsed": true
   },
   "outputs": [],
   "source": [
    "def probTypes(z):\n",
    "    # returns the probability dist of SN type at the given redshift.\n",
    "    fracIa= 1/3.\n",
    "    fracIbc= 1/3.\n",
    "    fracII= 1.-fracIa-fracIbc\n",
    "    probs= MC(1000, [fracIa, fracIbc, fracII])\n",
    "    return probs"
   ]
  },
  {
   "cell_type": "code",
   "execution_count": 10,
   "metadata": {
    "collapsed": true
   },
   "outputs": [],
   "source": [
    "def probZbin():\n",
    "    # returns the redshift probability dist (+zBin array)\n",
    "    zBins= np.arange(0, 3, 0.1)  #[0, 0.5, 1., 2.]\n",
    "    objCounts= zBins[1:]*10+2 #np.array([10.,5.,2.])\n",
    "    fracCounts= objCounts/sum(objCounts)\n",
    "    probs= MC(1000, fracCounts)\n",
    "    return [probs, zBins]"
   ]
  },
  {
   "cell_type": "code",
   "execution_count": 11,
   "metadata": {
    "collapsed": false
   },
   "outputs": [],
   "source": [
    "def mu(H0, z, Om0=0.3):  \n",
    "    # defined function: distance modulus\n",
    "    # assume flat universe\n",
    "    cosmo = FlatLambdaCDM(H0=H0, Om0=0.3)\n",
    "    dL= cosmo.luminosity_distance(z)  \n",
    "    \n",
    "    return 5*np.log10(dL.value)+25"
   ]
  },
  {
   "cell_type": "markdown",
   "metadata": {},
   "source": [
    "Create a true catalog of N objects. \n",
    "\n",
    "Know z-dist, type-dist. Sample. To get z-true and type-true.\n",
    "\n",
    "mu_s based on z-true, H0-true\n",
    "\n",
    "--\n",
    "\n",
    "Observed catalogs: prob(z-obs, type-obs, mu-obs | data)\n"
   ]
  },
  {
   "cell_type": "code",
   "execution_count": 12,
   "metadata": {
    "collapsed": false
   },
   "outputs": [],
   "source": [
    "# find true redshifts\n",
    "NTotObjs= 100\n",
    "zTrue= np.zeros(NTotObjs)\n",
    "trueType= np.zeros(NTotObjs)\n",
    "\n",
    "probZ, zBins= probZbin()\n",
    "probZ= [0]+list(probZ)\n",
    "cumProbZ= np.cumsum(probZ)\n",
    "\n",
    "randNs= np.random.random(NTotObjs)\n",
    "\n",
    "for i in range(NTotObjs):\n",
    "    for j in np.arange(1,len(cumProbZ)+1):\n",
    "        if (randNs[i]> cumProbZ[j-1]) and (randNs[i]<=cumProbZ[j]):\n",
    "            zTrue[i]= np.mean([zBins[j-1],zBins[j]])\n",
    "            \n",
    "# find true types given true redshifts\n",
    "randNs= np.random.random(NTotObjs)\n",
    "for i, z in enumerate(zTrue):\n",
    "    probT= probTypes(z)\n",
    "    \n",
    "    probT= [0]+list(probT)\n",
    "    cumProbT= np.cumsum(probT)\n",
    "\n",
    "    for j in np.arange(1,len(cumProbT)+1):\n",
    "        if (randNs[i]> cumProbT[j-1]) and (randNs[i]<=cumProbT[j]):\n",
    "            trueType[i]= j"
   ]
  },
  {
   "cell_type": "code",
   "execution_count": 24,
   "metadata": {
    "collapsed": false
   },
   "outputs": [
    {
     "data": {
      "text/plain": [
       "<matplotlib.legend.Legend at 0x10ab53310>"
      ]
     },
     "execution_count": 24,
     "metadata": {},
     "output_type": "execute_result"
    },
    {
     "data": {
      "image/png": "[encoded data removed]",
      "text/plain": [
       "<matplotlib.figure.Figure at 0x10a4a0ed0>"
      ]
     },
     "metadata": {},
     "output_type": "display_data"
    }
   ],
   "source": [
    "H0s= [60, 70., 75.]\n",
    "fontsize= 18\n",
    "for H0 in H0s:\n",
    "    muTrue= mu(H0= H0, z= zTrue, Om0=0.3)\n",
    "    plt.plot(zTrue, muTrue, 'o', label= 'H0=%s'%H0)\n",
    "plt.xlabel('z', fontsize= fontsize)\n",
    "plt.ylabel('$\\mu$', fontsize= fontsize)\n",
    "plt.legend(loc= \"best\")"
   ]
  },
  {
   "cell_type": "code",
   "execution_count": null,
   "metadata": {
    "collapsed": true
   },
   "outputs": [],
   "source": []
  }
 ],
 "metadata": {
  "kernelspec": {
   "display_name": "Python 2",
   "language": "python",
   "name": "python2"
  },
  "language_info": {
   "codemirror_mode": {
    "name": "ipython",
    "version": 2
   },
   "file_extension": ".py",
   "mimetype": "text/x-python",
   "name": "python",
   "nbconvert_exporter": "python",
   "pygments_lexer": "ipython2",
   "version": "2.7.12"
  }
 },
 "nbformat": 4,
 "nbformat_minor": 0
}
