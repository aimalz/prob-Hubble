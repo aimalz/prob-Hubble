{
 "cells": [
  {
   "cell_type": "code",
   "execution_count": 1,
   "metadata": {
    "collapsed": false
   },
   "outputs": [],
   "source": [
    "import matplotlib.pyplot as plt\n",
    "%matplotlib inline\n",
    "import numpy as np\n",
    "import os\n",
    "import time\n",
    "from astropy import cosmology\n",
    "from astropy.cosmology import FlatLambdaCDM\n",
    "repoDir= os.getcwd()\n",
    "os.chdir(os.path.join( repoDir, '..' ))\n",
    "repoDir= os.getcwd()\n",
    "from astropy.io import ascii"
   ]
  },
  {
   "cell_type": "code",
   "execution_count": 2,
   "metadata": {
    "collapsed": true
   },
   "outputs": [],
   "source": [
    "def MC(Nrand, probs): \n",
    "    # returns probabilities after an MC run\n",
    "    np.random.seed(10)\n",
    "    randNs= np.random.random(Nrand)\n",
    "    \n",
    "    counts= np.zeros(len(probs))\n",
    "    \n",
    "    probs= [0]+list(probs)\n",
    "    cumProbs= np.cumsum(probs)\n",
    "    \n",
    "    for randN in randNs:   \n",
    "        for i in np.arange(1,len(probs)+1):\n",
    "            if (randN> cumProbs[i-1]) and (randN<=cumProbs[i]):\n",
    "                counts[i-1]+=1    \n",
    "                \n",
    "    return counts/Nrand"
   ]
  },
  {
   "cell_type": "code",
   "execution_count": 3,
   "metadata": {
    "collapsed": false
   },
   "outputs": [],
   "source": [
    "dataDir= repoDir+'/relative_sne/'\n",
    "SNdata= ascii.read(dataDir+'relative_rates.txt')   # data from Kara P.\n",
    "os.chdir(repoDir)\n",
    "SNdata_zBin= SNdata['redshift']"
   ]
  },
  {
   "cell_type": "code",
   "execution_count": 4,
   "metadata": {
    "collapsed": false
   },
   "outputs": [],
   "source": [
    "def probTypes(): # assumes SNData is in the shell \n",
    "    SNdata_Ia= SNdata['SN_Ia']\n",
    "    SNdata_Ibc= SNdata['SN_Ibc']\n",
    "    SNdata_II= SNdata['SN_II']\n",
    "    \n",
    "    probs= np.zeros(shape=(len(SNdata_Ia), 3))\n",
    "    for i in range(len(SNdata_Ia)):\n",
    "        probs[i]= MC(1000, [SNdata_Ia[i], SNdata_Ibc[i], SNdata_II[i]])\n",
    "    \n",
    "    return probs"
   ]
  },
  {
   "cell_type": "code",
   "execution_count": 5,
   "metadata": {
    "collapsed": true
   },
   "outputs": [],
   "source": [
    " def probZbin(zBins):  # assume SNdata_zBin is in the shell.\n",
    "    # returns the redshift probability dist (+zBin array)\n",
    "    \n",
    "    def Nz(zBins):\n",
    "        objCounts= zBins*10+2    #np.array([10.,5.,2.])\n",
    "        fracCounts= objCounts/sum(objCounts)\n",
    "        return fracCounts\n",
    "    \n",
    "    probs= MC(1000, Nz(zBins[1:]))\n",
    "    return probs #[probs, zBins]"
   ]
  },
  {
   "cell_type": "code",
   "execution_count": 6,
   "metadata": {
    "collapsed": false
   },
   "outputs": [],
   "source": [
    "def mu(H0, z, Om0=0.3):  \n",
    "    # defined function: distance modulus\n",
    "    # assume flat universe\n",
    "    cosmo = FlatLambdaCDM(H0=H0, Om0=0.3)\n",
    "    dL= cosmo.luminosity_distance(z)  \n",
    "    \n",
    "    return 5*np.log10(dL.value)+25"
   ]
  },
  {
   "cell_type": "markdown",
   "metadata": {},
   "source": [
    "Create a true catalog of N objects. \n",
    "\n",
    "Know z-dist, type-dist. Sample. To get z-true and type-true.\n",
    "\n",
    "mu_s based on z-true, H0-true\n",
    "\n",
    "--\n",
    "\n",
    "Observed catalogs: prob(z-obs, type-obs, mu-obs | data)\n"
   ]
  },
  {
   "cell_type": "code",
   "execution_count": 7,
   "metadata": {
    "collapsed": false
   },
   "outputs": [],
   "source": [
    "# find true redshifts\n",
    "NTotObjs= 500\n",
    "zTrue= np.zeros(NTotObjs)\n",
    "trueType= np.zeros(NTotObjs)\n",
    "\n",
    "zBins= SNdata_zBin\n",
    "probZ= probZbin(zBins)\n",
    "probZ= [0]+list(probZ)\n",
    "cumProbZ= np.cumsum(probZ)\n",
    "\n",
    "randNs= np.random.random(NTotObjs)\n",
    "\n",
    "zInd= np.zeros(NTotObjs)   # lower z-bin index. easiest to use to get probT later\n",
    "\n",
    "for i in range(NTotObjs):\n",
    "    for j in np.arange(1,len(cumProbZ)+1):\n",
    "        if (randNs[i]> cumProbZ[j-1]) and (randNs[i]<=cumProbZ[j]):\n",
    "            zInd[i]= j-1\n",
    "            zTrue[i]= np.random.uniform(low=zBins[j-1], high=zBins[j]) #np.mean([zBins[j-1],zBins[j]])\n"
   ]
  },
  {
   "cell_type": "code",
   "execution_count": 8,
   "metadata": {
    "collapsed": false
   },
   "outputs": [
    {
     "name": "stderr",
     "output_type": "stream",
     "text": [
      "/Users/Humna/lsst/DarwinX86/miniconda2/3.19.0.lsst4/lib/python2.7/site-packages/ipykernel/__main__.py:6: VisibleDeprecationWarning: using a non-integer number instead of an integer will result in an error in the future\n"
     ]
    }
   ],
   "source": [
    "# find true types given true redshifts\n",
    "randNs= np.random.random(NTotObjs)\n",
    "probT= probTypes()\n",
    "           \n",
    "for i in range(len(zTrue)):\n",
    "    probTz= [0]+list(probT[zInd[i]])\n",
    "    cumProbTz= np.cumsum(probTz)\n",
    "    \n",
    "    #print cumProbTz\n",
    "    for j in np.arange(1,len(cumProbTz)+1):\n",
    "        if (randNs[i]> cumProbTz[j-1]) and (randNs[i]<=cumProbTz[j]):\n",
    "            trueType[i]= j\n"
   ]
  },
  {
   "cell_type": "code",
   "execution_count": 9,
   "metadata": {
    "collapsed": false
   },
   "outputs": [
    {
     "data": {
      "text/plain": [
       "<matplotlib.legend.Legend at 0x10a6c7710>"
      ]
     },
     "execution_count": 9,
     "metadata": {},
     "output_type": "execute_result"
    },
    {
     "data": {
      "image/png": "[encoded data removed]",
      "text/plain": [
       "<matplotlib.figure.Figure at 0x103c9be50>"
      ]
     },
     "metadata": {},
     "output_type": "display_data"
    }
   ],
   "source": [
    "H0s= [60, 70., 75.]\n",
    "fontsize= 18\n",
    "for H0 in H0s:\n",
    "    muTrue= mu(H0= H0, z= zTrue, Om0=0.3)\n",
    "    plt.plot(zTrue, muTrue, 'o', label= 'H0=%s'%H0)\n",
    "plt.xlabel('z', fontsize= fontsize)\n",
    "plt.ylabel('$\\mu$', fontsize= fontsize)\n",
    "plt.legend(loc= \"best\")"
   ]
  },
  {
   "cell_type": "code",
   "execution_count": null,
   "metadata": {
    "collapsed": true
   },
   "outputs": [],
   "source": []
  }
 ],
 "metadata": {
  "kernelspec": {
   "display_name": "Python 2",
   "language": "python",
   "name": "python2"
  },
  "language_info": {
   "codemirror_mode": {
    "name": "ipython",
    "version": 2
   },
   "file_extension": ".py",
   "mimetype": "text/x-python",
   "name": "python",
   "nbconvert_exporter": "python",
   "pygments_lexer": "ipython2",
   "version": "2.7.12"
  }
 },
 "nbformat": 4,
 "nbformat_minor": 0
}
