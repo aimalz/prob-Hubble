{
 "cells": [
  {
   "cell_type": "markdown",
   "metadata": {},
   "source": [
    "# Mock Data Pipeline\n",
    "\n",
    "Alex Malz\n",
    "\n",
    "[insert abstract here]"
   ]
  },
  {
   "cell_type": "code",
   "execution_count": null,
   "metadata": {
    "collapsed": true
   },
   "outputs": [],
   "source": [
    "import numpy as np\n",
    "import bisect\n",
    "import astropy.cosmology as cosmology\n",
    "# from scipy.stats import norm\n",
    "# import emcee\n",
    "# from datetime import datetime"
   ]
  },
  {
   "cell_type": "markdown",
   "metadata": {},
   "source": [
    "## Choosing true parameters"
   ]
  },
  {
   "cell_type": "markdown",
   "metadata": {},
   "source": [
    "[the true redshift-dependent type rate distribution, with plot of three functions]"
   ]
  },
  {
   "cell_type": "code",
   "execution_count": null,
   "metadata": {
    "collapsed": false
   },
   "outputs": [],
   "source": [
    "types = {'a': 0, 'b': 1, 'c': 2}\n",
    "n_types = len(types.keys())\n",
    "frac_types = np.array([1. / n_types] * n_types)\n",
    "assert np.isclose(np.sum(frac_types), 1.)\n",
    "\n",
    "n_zs = 100\n",
    "z_bins = np.linspace(0., 1., num=n_zs + 1, endpoint=True)\n",
    "z_difs = z_bins[1:] - z_bins[:-1]\n",
    "\n",
    "ns_of_z = []\n",
    "for t in range(n_types):\n",
    "    ns_of_z.append(np.ones(n_zs))\n",
    "\n",
    "true_n_of_z = frac_types[:, np.newaxis] * np.array(ns_of_z)\n",
    "assert np.isclose(np.sum(true_n_of_z * z_difs[np.newaxis, :]), 1.)"
   ]
  },
  {
   "cell_type": "markdown",
   "metadata": {},
   "source": [
    "[samples of t, z from the true redshift-dependent type rate distribution]"
   ]
  },
  {
   "cell_type": "code",
   "execution_count": null,
   "metadata": {
    "collapsed": false
   },
   "outputs": [],
   "source": [
    "def sample_discrete(norm_dist, N):\n",
    "    out_info = np.empty(shape = (N, 2)).tolist()\n",
    "    assert np.isclose(np.sum(norm_dist), 1.)\n",
    "    dist_shape = np.shape(norm_dist)\n",
    "    flat_dist = norm_dist.flatten()\n",
    "    cdf = np.cumsum(flat_dist)\n",
    "    for n in range(N):\n",
    "        r = np.random.random()\n",
    "        k = bisect.bisect(cdf, r)\n",
    "        (t_ind, z_ind) = np.unravel_index(k, shape)\n",
    "        t = types[t_ind]\n",
    "        z = np.random.uniform(low=z_bins[z_ind], high=z_bins[z_ind + 1])\n",
    "        out_info[n][0] = t\n",
    "        out_info[n][1] = z\n",
    "    return out_info\n",
    "\n",
    "n_sne = 100\n",
    "\n",
    "discrete_n_of_z = true_n_of_z * z_difs[np.newaxis, :]\n",
    "true_info = sample_discrete(discrete_n_of_z, n_sne)"
   ]
  },
  {
   "cell_type": "markdown",
   "metadata": {},
   "source": [
    "[the true cosmology]"
   ]
  },
  {
   "cell_type": "code",
   "execution_count": null,
   "metadata": {
    "collapsed": false
   },
   "outputs": [],
   "source": [
    "H0 = 70\n",
    "Om0 = 0.3\n",
    "\n",
    "true_cosmo = cosmology.FlatLambdaCDM(H0=H0, Om0=Om0)"
   ]
  },
  {
   "cell_type": "markdown",
   "metadata": {},
   "source": [
    "[true mu for each t, z]"
   ]
  },
  {
   "cell_type": "code",
   "execution_count": null,
   "metadata": {
    "collapsed": true
   },
   "outputs": [],
   "source": [
    "for n in range(n_sne):\n",
    "    true_info[n].append(true_cosmo.distmod(true_info[n][1]))"
   ]
  },
  {
   "cell_type": "markdown",
   "metadata": {},
   "source": [
    "## Making likelihoods"
   ]
  },
  {
   "cell_type": "markdown",
   "metadata": {},
   "source": [
    "[the confusion matrix]"
   ]
  },
  {
   "cell_type": "code",
   "execution_count": null,
   "metadata": {
    "collapsed": false
   },
   "outputs": [],
   "source": [
    "conf_matrix = np.ones((n_types, n_types)) / n_types **2\n",
    "assert np.isclose(np.sum(conf_matrix, axis=1).all(), frac_types.all())"
   ]
  },
  {
   "cell_type": "markdown",
   "metadata": {},
   "source": [
    "[the functions taking true type, classified type, true z, and true mu returning p(z, mu | hat(t))]"
   ]
  },
  {
   "cell_type": "markdown",
   "metadata": {},
   "source": [
    "[making p(z) using a simple model]"
   ]
  },
  {
   "cell_type": "markdown",
   "metadata": {},
   "source": [
    "[write data to file]"
   ]
  }
 ],
 "metadata": {
  "kernelspec": {
   "display_name": "Python 2",
   "language": "python",
   "name": "python2"
  },
  "language_info": {
   "codemirror_mode": {
    "name": "ipython",
    "version": 2
   },
   "file_extension": ".py",
   "mimetype": "text/x-python",
   "name": "python",
   "nbconvert_exporter": "python",
   "pygments_lexer": "ipython2",
   "version": "2.7.12"
  }
 },
 "nbformat": 4,
 "nbformat_minor": 0
}
