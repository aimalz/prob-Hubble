{
 "cells": [
  {
   "cell_type": "markdown",
   "metadata": {},
   "source": [
    "### DESC Hack Day: 2017 Winter Meeting\n",
    "\n",
    "### Supernova Cosmology Inference with Probabilistic Photometric Redshifts \n",
    "\n",
    "Tina Peters, Alex Malz, Anita, Humna, Kara\n",
    "\n",
    "From Confluence: We're planning to hack on a method for making a Hubble diagram using photo-z PDFs rather than point estimators. "
   ]
  },
  {
   "cell_type": "code",
   "execution_count": 1,
   "metadata": {
    "collapsed": false
   },
   "outputs": [],
   "source": [
    "import matplotlib.pyplot as plt\n",
    "%matplotlib inline\n",
    "import numpy as np\n",
    "import os\n",
    "import time\n",
    "from astropy import cosmology\n",
    "from astropy.cosmology import FlatLambdaCDM\n",
    "repoDir= os.getcwd()\n",
    "os.chdir(os.path.join( repoDir, '..' ))\n",
    "repoDir= os.getcwd()\n",
    "from astropy.io import ascii"
   ]
  },
  {
   "cell_type": "markdown",
   "metadata": {},
   "source": [
    "Create a true catalog of N objects. \n",
    "\n",
    "- Know z-dist, type-dist. \n",
    "    - Done: N(z) based on Behroozi; SNType distribution from Kara.\n",
    "- Sample to get z-true and type-true.\n",
    "    - Same using MC. Seed hard coded. 1000 iterations.\n",
    "- Calculate mu_s based on z-true, H0-true.\n",
    "\n",
    "--\n",
    "\n",
    "Observed catalogs: prob(z-obs, type-obs, mu-obs | data)\n",
    "\n"
   ]
  },
  {
   "cell_type": "code",
   "execution_count": 2,
   "metadata": {
    "collapsed": true
   },
   "outputs": [],
   "source": [
    "def MC(Nrand, probs): \n",
    "    # returns probabilities after an MC run\n",
    "    np.random.seed(10)\n",
    "    randNs= np.random.random(Nrand)\n",
    "    \n",
    "    counts= np.zeros(len(probs))\n",
    "    probs= [0]+list(probs)\n",
    "    cumProbs= np.cumsum(probs)\n",
    "    for randN in randNs:   \n",
    "        for i in np.arange(1,len(probs)):\n",
    "            if (randN> cumProbs[i-1]) and (randN<=cumProbs[i]):\n",
    "                counts[i-1]+=1    \n",
    "    return counts/Nrand"
   ]
  },
  {
   "cell_type": "code",
   "execution_count": 3,
   "metadata": {
    "collapsed": false
   },
   "outputs": [],
   "source": [
    "dataDir= repoDir+'/relative_sne/'\n",
    "SNdata= ascii.read(dataDir+'relative_rates.txt')   # data from Kara P.\n",
    "os.chdir(repoDir)\n",
    "SNdata_zBin= SNdata['redshift']"
   ]
  },
  {
   "cell_type": "code",
   "execution_count": 4,
   "metadata": {
    "collapsed": false
   },
   "outputs": [],
   "source": [
    "def probTypes(): # assumes SNData is in the shell \n",
    "    SNdata_Ia= SNdata['SN_Ia']\n",
    "    SNdata_Ibc= SNdata['SN_Ibc']\n",
    "    SNdata_II= SNdata['SN_II']\n",
    "    \n",
    "    probs= np.zeros(shape=(len(SNdata_Ia), 3))\n",
    "    for i in range(len(SNdata_Ia)):\n",
    "        probs[i]= MC(1000, [SNdata_Ia[i], SNdata_Ibc[i], SNdata_II[i]])\n",
    "    \n",
    "    return probs"
   ]
  },
  {
   "cell_type": "raw",
   "metadata": {},
   "source": [
    "Code from Kara's notebook for N(z).\n",
    "# Star formation history = cosmic star formation rate.\n",
    "# From Behroozi et al (2013)\n",
    "# Note this is a function of redshift\n",
    "def cosmic_SFR(z):\n",
    "    z0 = 1.243\n",
    "    A = -0.997\n",
    "    B = 0.241\n",
    "    C = 0.180\n",
    "    return C/(10.**(A*(z-z0)) + 10.**(B*(z-z0)))*(1./0.7)"
   ]
  },
  {
   "cell_type": "code",
   "execution_count": 5,
   "metadata": {
    "collapsed": true
   },
   "outputs": [],
   "source": [
    " def probZbin(zBins):  # assume SNdata_zBin is in the shell.\n",
    "    # returns the redshift probability dist (+zBin array)\n",
    "    \n",
    "    def unnormNz(zBins):\n",
    "        z0 = 1.243\n",
    "        A = -0.997\n",
    "        B = 0.241\n",
    "        C = 0.180\n",
    "        return C/(10.**(A*(zBins-z0)) + 10.**(B*(zBins-z0)))*(1./0.7)\n",
    "    \n",
    "    def normNz(zBins):\n",
    "        unnorm= unnormNz(zBins)\n",
    "        normConstant= np.dot(zBins,unnorm)\n",
    "        return unnorm/normConstant\n",
    "        \n",
    "    probs= MC(1000, normNz(zBins[1:]))\n",
    "    return probs #[probs, zBins]"
   ]
  },
  {
   "cell_type": "code",
   "execution_count": 6,
   "metadata": {
    "collapsed": false
   },
   "outputs": [],
   "source": [
    "def mu(H0, z, Om0=0.3):  \n",
    "    # defined function: distance modulus\n",
    "    # assume flat universe\n",
    "    cosmo = FlatLambdaCDM(H0=H0, Om0=0.3)\n",
    "    dL= cosmo.luminosity_distance(z)  \n",
    "    \n",
    "    return 5*np.log10(dL.value)+25"
   ]
  },
  {
   "cell_type": "code",
   "execution_count": 7,
   "metadata": {
    "collapsed": false
   },
   "outputs": [],
   "source": [
    "# find true redshifts\n",
    "NTotObjs= 500\n",
    "zTrue= np.zeros(NTotObjs)\n",
    "trueType= np.zeros(NTotObjs)\n",
    "\n",
    "zBins= SNdata_zBin\n",
    "probZ= probZbin(zBins)\n",
    "probZ= [0]+list(probZ)\n",
    "cumProbZ= np.cumsum(probZ)\n",
    "\n",
    "randNs= np.random.random(NTotObjs)\n",
    "\n",
    "zInd= np.zeros(NTotObjs)   # lower z-bin index. easiest to use to get probT later\n",
    "\n",
    "for i in range(NTotObjs):\n",
    "    for j in np.arange(1,len(cumProbZ)):\n",
    "        if (randNs[i]> cumProbZ[j-1]) and (randNs[i]<=cumProbZ[j]):\n",
    "            zInd[i]= j-1\n",
    "            zTrue[i]= np.random.uniform(low=zBins[j-1], high=zBins[j]) #np.mean([zBins[j-1],zBins[j]])"
   ]
  },
  {
   "cell_type": "code",
   "execution_count": 8,
   "metadata": {
    "collapsed": false
   },
   "outputs": [
    {
     "name": "stderr",
     "output_type": "stream",
     "text": [
      "/Users/Humna/lsst/DarwinX86/miniconda2/3.19.0.lsst4/lib/python2.7/site-packages/ipykernel/__main__.py:6: VisibleDeprecationWarning: using a non-integer number instead of an integer will result in an error in the future\n"
     ]
    }
   ],
   "source": [
    "# find true types given true redshifts\n",
    "randNs= np.random.random(NTotObjs)\n",
    "probT= probTypes()\n",
    "           \n",
    "for i in range(len(zTrue)):\n",
    "    probTz= [0]+list(probT[zInd[i]])\n",
    "    cumProbTz= np.cumsum(probTz)\n",
    "    \n",
    "    #print cumProbTz\n",
    "    for j in np.arange(1,len(cumProbTz)):\n",
    "        if (randNs[i]> cumProbTz[j-1]) and (randNs[i]<=cumProbTz[j]):\n",
    "            trueType[i]= j"
   ]
  },
  {
   "cell_type": "code",
   "execution_count": 9,
   "metadata": {
    "collapsed": false
   },
   "outputs": [
    {
     "data": {
      "text/plain": [
       "<matplotlib.legend.Legend at 0x10a5c7650>"
      ]
     },
     "execution_count": 9,
     "metadata": {},
     "output_type": "execute_result"
    },
    {
     "data": {
      "image/png": "[encoded data removed]",
      "text/plain": [
       "<matplotlib.figure.Figure at 0x109448550>"
      ]
     },
     "metadata": {},
     "output_type": "display_data"
    }
   ],
   "source": [
    "H0s= [60, 70., 75.]\n",
    "fontsize= 18\n",
    "for H0 in H0s:\n",
    "    muTrue= mu(H0= H0, z= zTrue, Om0=0.3)\n",
    "    plt.plot(zTrue, muTrue, '.', label= 'H0=%s'%H0)\n",
    "plt.title('%s objects; 3 SN Types'%NTotObjs)\n",
    "plt.xlabel('z', fontsize= fontsize)\n",
    "plt.ylabel('$\\mu$', fontsize= fontsize)\n",
    "plt.legend(loc= \"best\")"
   ]
  },
  {
   "cell_type": "code",
   "execution_count": 10,
   "metadata": {
    "collapsed": false
   },
   "outputs": [
    {
     "data": {
      "text/plain": [
       "<matplotlib.legend.Legend at 0x10942dfd0>"
      ]
     },
     "execution_count": 10,
     "metadata": {},
     "output_type": "execute_result"
    },
    {
     "data": {
      "image/png": "[encoded data removed]",
      "text/plain": [
       "<matplotlib.figure.Figure at 0x10a820c90>"
      ]
     },
     "metadata": {},
     "output_type": "display_data"
    }
   ],
   "source": [
    "H0= 70.\n",
    "fontsize= 18\n",
    "\n",
    "muTrue= mu(H0= H0, z= zTrue, Om0=0.3)\n",
    "labels= {1: 'Type Ia', 2: 'Type Ibc', 3: 'Type II'}\n",
    "for typeNum in [1., 2., 3.]:\n",
    "    ind= np.where(trueType==typeNum)[0]\n",
    "\n",
    "    plt.plot(zTrue[ind], muTrue[ind], '.', label= '%s'%labels[typeNum])\n",
    "\n",
    "plt.title('H0: %s'%H0)\n",
    "plt.xlabel('z', fontsize= fontsize)\n",
    "plt.ylabel('$\\mu$', fontsize= fontsize)\n",
    "plt.legend(loc= \"best\")"
   ]
  },
  {
   "cell_type": "markdown",
   "metadata": {
    "collapsed": true
   },
   "source": [
    "### Scramble the data to create a mock 'observed' catalog.\n",
    "\n",
    "$P(\\mu, z, T|\\ell, f, \\theta^*, \\Phi^*)=  P(\\ell, f| \\mu, z, T) P(\\mu|\\theta^*) P(z, T|\\Phi^*)$\n",
    "\n",
    "We take $\\theta^*= H_0$, so $ P(\\mu|\\theta^*)= 1$"
   ]
  },
  {
   "cell_type": "markdown",
   "metadata": {},
   "source": [
    "Here we dont have a joint probability distribution of redshift and SN type. Instead, we have\n",
    "\n",
    "$P(z, T|\\Phi^*)= P(z|T,N(z)) \\ P(T)$\n",
    "\n",
    "where $F(T)$ is based on SN fractions from Kara."
   ]
  },
  {
   "cell_type": "code",
   "execution_count": 11,
   "metadata": {
    "collapsed": true
   },
   "outputs": [],
   "source": [
    "def hyper_probTypes(zBins): # assumed prob dist of SN types as a function of z.\n",
    "    # assume SNdata_zBin is in the shell.\n",
    "    totEntries= len(zBins)\n",
    "    SNdata_Ia= np.zeros(totEntries) + 1/3.\n",
    "    SNdata_Ibc= np.zeros(totEntries) + 1/3.\n",
    "    SNdata_II= np.zeros(totEntries) + 1/3.\n",
    "    \n",
    "    probs= np.zeros(shape=(len(SNdata_Ia), 3))\n",
    "    for i in range(len(SNdata_Ia)):\n",
    "        probs[i]= MC(1000, [SNdata_Ia[i], SNdata_Ibc[i], SNdata_II[i]])\n",
    "    \n",
    "    return probs"
   ]
  },
  {
   "cell_type": "code",
   "execution_count": 12,
   "metadata": {
    "collapsed": true
   },
   "outputs": [],
   "source": [
    "def hyper_probZbin(zBins):  # assume SNdata_zBin is in the shell.\n",
    "# returns the redshift probability dist (+zBin array)\n",
    "\n",
    "    def unnormNz(zBins):\n",
    "        return np.zeros(len(zBins))+1.   # same N in each zBin\n",
    "    def normNz(zBins):\n",
    "        unnorm= unnormNz(zBins)\n",
    "        normConstant= np.dot(zBins,unnorm)\n",
    "        return unnorm/normConstant\n",
    "\n",
    "    probs= MC(1000, normNz(zBins))\n",
    "    return probs"
   ]
  },
  {
   "cell_type": "code",
   "execution_count": 13,
   "metadata": {
    "collapsed": false,
    "scrolled": false
   },
   "outputs": [
    {
     "data": {
      "text/plain": [
       "<matplotlib.text.Text at 0x109448a50>"
      ]
     },
     "execution_count": 13,
     "metadata": {},
     "output_type": "execute_result"
    },
    {
     "data": {
      "image/png": "[encoded data removed]",
      "text/plain": [
       "<matplotlib.figure.Figure at 0x10a590990>"
      ]
     },
     "metadata": {},
     "output_type": "display_data"
    }
   ],
   "source": [
    "zBins= np.arange(0,5, 0.1)\n",
    "plt.scatter(zBins, hyper_probZbin(zBins)) #, bins= zBins)\n",
    "\n",
    "plt.xlabel('z')\n",
    "plt.ylabel('P(z)')"
   ]
  },
  {
   "cell_type": "code",
   "execution_count": 14,
   "metadata": {
    "collapsed": false,
    "scrolled": true
   },
   "outputs": [
    {
     "data": {
      "text/plain": [
       "array([ 0.357,  0.311,  0.332])"
      ]
     },
     "execution_count": 14,
     "metadata": {},
     "output_type": "execute_result"
    }
   ],
   "source": [
    "hyper_probTypes(zBins)[0]"
   ]
  },
  {
   "cell_type": "code",
   "execution_count": 15,
   "metadata": {
    "collapsed": true
   },
   "outputs": [],
   "source": [
    "# find true redshifts\n",
    "zPrime= np.zeros(NTotObjs)\n",
    "TPrime= np.zeros(NTotObjs)\n",
    "\n",
    "zBins= SNdata_zBin\n",
    "hyper_probZ= hyper_probZbin(zBins)\n",
    "hyper_probZ= [0]+list(hyper_probZ)\n",
    "hyper_cumProbZ= np.cumsum(hyper_probZ)\n",
    "\n",
    "randNs= np.random.random(NTotObjs)\n",
    "\n",
    "zIndPrime= np.zeros(NTotObjs)   # lower z-bin index. easiest to use to get probT later\n",
    "\n",
    "for i in range(NTotObjs):\n",
    "    for j in np.arange(1,len(hyper_cumProbZ)):\n",
    "        if (randNs[i]> hyper_cumProbZ[j-1]) and (randNs[i]<=hyper_cumProbZ[j]):\n",
    "            zIndPrime[i]= j-1\n",
    "            zPrime[i]= np.random.uniform(low=zBins[j-1], high=zBins[j]) #np.mean([zBins[j-1],zBins[j]])"
   ]
  },
  {
   "cell_type": "code",
   "execution_count": 16,
   "metadata": {
    "collapsed": true
   },
   "outputs": [],
   "source": [
    "uPrime= mu(H0, zPrime, Om0=0.3)"
   ]
  },
  {
   "cell_type": "markdown",
   "metadata": {
    "collapsed": true
   },
   "source": [
    "$P(\\ell, f| \\mu, z, T)= MVN(\\ell, f| \\mu, z, \\sigma_{\\mu z})D(T)$\n",
    "\n",
    "where MVN is Multivariate gaussian dist, D is a discrete probability distribution."
   ]
  },
  {
   "cell_type": "code",
   "execution_count": 17,
   "metadata": {
    "collapsed": true
   },
   "outputs": [],
   "source": [
    "from scipy.stats import multivariate_normal"
   ]
  },
  {
   "cell_type": "code",
   "execution_count": 18,
   "metadata": {
    "collapsed": false,
    "scrolled": true
   },
   "outputs": [],
   "source": [
    "cov = np.diag(np.array([1,1]))\n",
    "MVN= multivariate_normal(mean=[np.mean(uPrime), np.mean(zPrime)], cov= cov) #.pdf(4)"
   ]
  },
  {
   "cell_type": "code",
   "execution_count": 19,
   "metadata": {
    "collapsed": false
   },
   "outputs": [],
   "source": [
    "x, y = np.mgrid[-1:1:.01, -1:1:.01]"
   ]
  },
  {
   "cell_type": "code",
   "execution_count": null,
   "metadata": {
    "collapsed": true
   },
   "outputs": [],
   "source": []
  },
  {
   "cell_type": "code",
   "execution_count": null,
   "metadata": {
    "collapsed": true
   },
   "outputs": [],
   "source": []
  },
  {
   "cell_type": "code",
   "execution_count": null,
   "metadata": {
    "collapsed": true
   },
   "outputs": [],
   "source": []
  },
  {
   "cell_type": "code",
   "execution_count": null,
   "metadata": {
    "collapsed": true
   },
   "outputs": [],
   "source": []
  },
  {
   "cell_type": "markdown",
   "metadata": {},
   "source": [
    "To do: add a function to sample give probs, etc."
   ]
  }
 ],
 "metadata": {
  "kernelspec": {
   "display_name": "Python 2",
   "language": "python",
   "name": "python2"
  },
  "language_info": {
   "codemirror_mode": {
    "name": "ipython",
    "version": 2
   },
   "file_extension": ".py",
   "mimetype": "text/x-python",
   "name": "python",
   "nbconvert_exporter": "python",
   "pygments_lexer": "ipython2",
   "version": "2.7.12"
  }
 },
 "nbformat": 4,
 "nbformat_minor": 0
}
