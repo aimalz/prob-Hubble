{
 "cells": [
  {
   "cell_type": "markdown",
   "metadata": {
    "deletable": true,
    "editable": true
   },
   "source": [
    "### DESC Hack Day: 2017 Winter Meeting\n",
    "\n",
    "### Supernova Cosmology Inference with Probabilistic Photometric Redshifts \n",
    "\n",
    "Tina Peters, Alex Malz, Anita, Humna, Kara\n",
    "\n",
    "From Confluence: We're planning to hack on a method for making a Hubble diagram using photo-z PDFs rather than point estimators. "
   ]
  },
  {
   "cell_type": "code",
   "execution_count": 1,
   "metadata": {
    "collapsed": false,
    "deletable": true,
    "editable": true
   },
   "outputs": [],
   "source": [
    "import matplotlib.pyplot as plt\n",
    "%matplotlib inline\n",
    "import numpy as np\n",
    "import os\n",
    "import time\n",
    "from astropy import cosmology\n",
    "from astropy.cosmology import FlatLambdaCDM\n",
    "repoDir= os.getcwd()\n",
    "os.chdir(os.path.join( repoDir, '..' )) # make sure to run this cell once since this line changes the directory to onr\n",
    "repoDir= os.getcwd()                    # above everytime it runs and raises an error when reading in data \n",
    "from astropy.io import ascii"
   ]
  },
  {
   "cell_type": "markdown",
   "metadata": {
    "deletable": true,
    "editable": true
   },
   "source": [
    "Create a true catalog of N objects. \n",
    "\n",
    "- Know z-dist, type-dist. \n",
    "    - Done: N(z) based on Behroozi; SNType distribution from Kara.\n",
    "- Sample to get z-true and type-true.\n",
    "    - Same using MC. Seed hard coded. 1000 iterations.\n",
    "- Calculate mu_s based on z-true, H0-true.\n",
    "\n",
    "--\n",
    "\n",
    "Observed catalogs: prob(z-obs, type-obs, mu-obs | data)\n",
    "\n"
   ]
  },
  {
   "cell_type": "code",
   "execution_count": 2,
   "metadata": {
    "collapsed": true,
    "deletable": true,
    "editable": true
   },
   "outputs": [],
   "source": [
    "def MC(Nrand, probs): \n",
    "    '''\n",
    "    Parameters\n",
    "    ----------------------------------------------------------\n",
    "        Nrand: number of random values\n",
    "        \n",
    "        probs: probablities\n",
    "        \n",
    "    Output\n",
    "    ----------------------------------------------------------\n",
    "        Probabilities after an MC run\n",
    "    '''\n",
    "    np.random.seed(10)\n",
    "    randNs= np.random.random(Nrand)\n",
    "    \n",
    "    counts   = np.zeros(len(probs))\n",
    "    probs    = [0]+list(probs)\n",
    "    cumProbs = np.cumsum(probs)\n",
    "    for randN in randNs:   \n",
    "        for i in np.arange(1,len(probs)):\n",
    "            if (randN> cumProbs[i-1]) and (randN<=cumProbs[i]):\n",
    "                counts[i-1]+=1    \n",
    "    return counts/Nrand"
   ]
  },
  {
   "cell_type": "code",
   "execution_count": 9,
   "metadata": {
    "collapsed": false,
    "deletable": true,
    "editable": true
   },
   "outputs": [],
   "source": [
    "dataDir     = repoDir+'/relative_sne/'                 # data directory\n",
    "SNdata      = ascii.read(dataDir+'relative_rates.txt') # data from Kara P.\n",
    "SNdata_zBin = SNdata['redshift']                       # redshift values from kara P.\n",
    "os.chdir(repoDir)                                      # change directory back to where the code is"
   ]
  },
  {
   "cell_type": "code",
   "execution_count": 64,
   "metadata": {
    "collapsed": false,
    "deletable": true,
    "editable": true
   },
   "outputs": [],
   "source": [
    "def probTypes(): # assumes SNData is in the shell \n",
    "    '''\n",
    "    Output\n",
    "    ----------------------------------------------------------\n",
    "    \n",
    "    '''\n",
    "    SNdata_Ia  = SNdata['SN_Ia']\n",
    "    SNdata_Ibc = SNdata['SN_Ibc']\n",
    "    SNdata_II  = SNdata['SN_II']\n",
    "    \n",
    "    probs      = np.zeros(shape=(len(SNdata_Ia), 3))\n",
    "    for i in range(len(SNdata_Ia)):\n",
    "        probs[i]= MC(1000, [SNdata_Ia[i], SNdata_Ibc[i], SNdata_II[i]])\n",
    "    \n",
    "    return probs"
   ]
  },
  {
   "cell_type": "code",
   "execution_count": 65,
   "metadata": {
    "collapsed": true,
    "deletable": true,
    "editable": true
   },
   "outputs": [],
   "source": [
    " def probZbin(zBins):  # assume SNdata_zBin is in the shell.\n",
    "    '''\n",
    "    Parameters\n",
    "    ----------------------------------------------------------\n",
    "        zBinss: redshift bins\n",
    "        \n",
    "    Output\n",
    "    ----------------------------------------------------------\n",
    "        Redshift probability distribution from Kara P. N(z)\n",
    "        notebook.\n",
    "        Note: \n",
    "            Star formation history = cosmic star formation rate\n",
    "            (From Behroozi et al (2013))\n",
    "        normNz returns cosmic SFR(z)\n",
    "    '''\n",
    "    \n",
    "    def unnormNz(zBins):\n",
    "        z0 = 1.243\n",
    "        A  = -0.997\n",
    "        B  = 0.241\n",
    "        C  = 0.180\n",
    "        return C/(10.**(A*(zBins-z0)) + 10.**(B*(zBins-z0)))*(1./0.7)\n",
    "    \n",
    "    def normNz(zBins):\n",
    "        unnorm       = unnormNz(zBins)\n",
    "        normConstant = np.dot(zBins,unnorm)\n",
    "        return unnorm/normConstant\n",
    "        \n",
    "    probs = MC(1000, normNz(zBins[1:]))\n",
    "    return probs #[probs, zBins]"
   ]
  },
  {
   "cell_type": "code",
   "execution_count": 66,
   "metadata": {
    "collapsed": false,
    "deletable": true,
    "editable": true
   },
   "outputs": [],
   "source": [
    "def mu(H0, z, Om0=0.3): \n",
    "    '''\n",
    "    Parameters\n",
    "    ----------------------------------------------------------\n",
    "        H0 : current Hubble constant\n",
    "        z  : redshift\n",
    "        Om0: current omega matter\n",
    "        \n",
    "    Output\n",
    "    ----------------------------------------------------------\n",
    "        distance modulus(mu) assuming a flat universe\n",
    "    '''\n",
    "    cosmo = FlatLambdaCDM(H0=H0, Om0=0.3)\n",
    "    dL    = cosmo.luminosity_distance(z)  \n",
    "    \n",
    "    return 5*np.log10(dL.value)+25"
   ]
  },
  {
   "cell_type": "markdown",
   "metadata": {},
   "source": [
    "### Scramble the data to create a mock 'observed' catalog.\n",
    "\n",
    "$P(\\mu, z, T|\\ell, f, \\theta^*, \\Phi^*)=  P(\\ell, f| \\mu, z, T) P(\\mu|\\theta^*) P(z, T|\\Phi^*)$\n",
    "\n",
    "We take $\\theta^*= H_0$, so $ P(\\mu|\\theta^*)= 1$\n",
    "\n",
    "Here we dont have a joint probability distribution of redshift and SN type. Instead, we have\n",
    "\n",
    "$P(z, T|\\Phi^*)= P(z|T,N(z)) \\ P(T)$\n",
    "\n",
    "where $F(T)$ is based on SN fractions from Kara."
   ]
  },
  {
   "cell_type": "code",
   "execution_count": 67,
   "metadata": {
    "collapsed": true
   },
   "outputs": [],
   "source": [
    "def hyper_probTypes(zBins): # assumed prob dist of SN types as a function of z.\n",
    "    '''\n",
    "    Parameters\n",
    "    ----------------------------------------------------------\n",
    "        zBins: redshift bins\n",
    "        \n",
    "    Output\n",
    "    ----------------------------------------------------------\n",
    "        Probabilities returned from MC on SNdata file \n",
    "        (This is similar to probTypes() but with each type\n",
    "         having the same probability)\n",
    "    '''\n",
    "    # assume SNdata_zBin is in the shell.\n",
    "    totEntries = len(zBins)\n",
    "    # assigning the same probability to each type\n",
    "    SNdata_Ia  = np.zeros(totEntries) + 1/3.\n",
    "    SNdata_Ibc = np.zeros(totEntries) + 1/3.\n",
    "    SNdata_II  = np.zeros(totEntries) + 1/3.\n",
    "    \n",
    "    probs      = np.zeros(shape=(len(SNdata_Ia), 3))\n",
    "    for i in range(len(SNdata_Ia)):\n",
    "        probs[i] = MC(1000, [SNdata_Ia[i], SNdata_Ibc[i], SNdata_II[i]])\n",
    "    \n",
    "    return probs"
   ]
  },
  {
   "cell_type": "code",
   "execution_count": 68,
   "metadata": {
    "collapsed": true
   },
   "outputs": [],
   "source": [
    "def hyper_probZbin(zBins):  # assume SNdata_zBin is in the shell.\n",
    "    '''\n",
    "    Parameters\n",
    "    ----------------------------------------------------------\n",
    "        zBinss: redshift bins\n",
    "        \n",
    "    Output\n",
    "    ----------------------------------------------------------\n",
    "        Redshift probability distribution (not from Kara P.)\n",
    "        \n",
    "    '''\n",
    "    def normNz(zBins):\n",
    "        unnorm       = np.zeros(len(zBins))+1. # same N in each zBin\n",
    "        normConstant = np.dot(zBins,unnorm)\n",
    "        return unnorm/normConstant\n",
    "\n",
    "    probs= MC(1000, normNz(zBins))\n",
    "    return probs"
   ]
  },
  {
   "cell_type": "code",
   "execution_count": 69,
   "metadata": {
    "collapsed": false,
    "deletable": true,
    "editable": true
   },
   "outputs": [],
   "source": [
    "def find_true_z(NTotObjs, zType):\n",
    "    '''\n",
    "    Parameters\n",
    "    ----------------------------------------------------------\n",
    "        NTotObjs: total number of SNe\n",
    "        zType   : how we want the redshifts to be\n",
    "                  'kara' for redshifts based on SFR(z)\n",
    "                  'same' for SNe with the same p(z)\n",
    "        \n",
    "    Output\n",
    "    ----------------------------------------------------------\n",
    "        True redshift of SNe and their redshift indices\n",
    "    '''\n",
    "    zTrue    = np.zeros(NTotObjs)\n",
    "    trueType = np.zeros(NTotObjs)\n",
    "\n",
    "    zBins    = SNdata_zBin\n",
    "    \n",
    "    if zType == 'kara': \n",
    "        probZ    = probZbin(zBins)\n",
    "        probZ    = [0]+list(probZ)\n",
    "        cumProbZ = np.cumsum(probZ)\n",
    "    elif zType == 'same':\n",
    "        probZ    = hyper_probZbin(zBins)\n",
    "        probZ    = [0]+list(probZ)\n",
    "        cumProbZ = np.cumsum(probZ)\n",
    "        \n",
    "    randNs   = np.random.random(NTotObjs)\n",
    "    zInd     = np.zeros(NTotObjs)   # lower z-bin index. easiest to use to get probT later\n",
    "\n",
    "    for i in range(NTotObjs):\n",
    "        for j in np.arange(1,len(cumProbZ)):\n",
    "            if (randNs[i]> cumProbZ[j-1]) and (randNs[i]<=cumProbZ[j]):\n",
    "                zInd[i]= j-1\n",
    "                zTrue[i]= np.random.uniform(low=zBins[j-1], high=zBins[j]) #np.mean([zBins[j-1],zBins[j]])\n",
    "    return zInd, zTrue\n"
   ]
  },
  {
   "cell_type": "code",
   "execution_count": 71,
   "metadata": {
    "collapsed": false,
    "deletable": true,
    "editable": true
   },
   "outputs": [],
   "source": [
    "def find_true_type(NTotObjs, zTrue, zInd, zType):\n",
    "    '''\n",
    "    Parameters\n",
    "    ----------------------------------------------------------\n",
    "        NTotObjs: total number of SNe\n",
    "        zTrue : true redshift from find_true_z(NTotObjs) func\n",
    "        Zind  : true z indices from find_true_z(NTotObjs) func\n",
    "        \n",
    "    Output\n",
    "    ----------------------------------------------------------\n",
    "        True types of SNe \n",
    "    '''\n",
    "    # find true types given true redshifts\n",
    "    randNs = np.random.random(NTotObjs)\n",
    "    \n",
    "    if zType == 'kara': \n",
    "        probT  = probTypes()\n",
    "    \n",
    "    elif zType == 'same':\n",
    "        probT  = hyper_probTypes(zTrue)\n",
    "    \n",
    "    for i in range(len(zTrue)):\n",
    "        probTz    = [0]+list(probT[np.int(zInd[i])])\n",
    "        cumProbTz = np.cumsum(probTz)\n",
    "\n",
    "        for j in np.arange(1,len(cumProbTz)):\n",
    "            if (randNs[i]> cumProbTz[j-1]) and (randNs[i]<=cumProbTz[j]):\n",
    "                trueType[i]= j\n",
    "                \n",
    "    return trueType"
   ]
  },
  {
   "cell_type": "markdown",
   "metadata": {},
   "source": [
    "### Example 1 - $\\mu$ vs $z$ for different $H_0$ values"
   ]
  },
  {
   "cell_type": "code",
   "execution_count": 73,
   "metadata": {
    "collapsed": false
   },
   "outputs": [],
   "source": [
    "NTotObjs    = 500\n",
    "zInd, zTrue = find_true_z(NTotObjs, 'kara')\n",
    "trueType    = find_true_type(NTotObjs, zTrue, zInd, 'kara')"
   ]
  },
  {
   "cell_type": "code",
   "execution_count": 74,
   "metadata": {
    "collapsed": false,
    "deletable": true,
    "editable": true
   },
   "outputs": [
    {
     "data": {
      "text/plain": [
       "<matplotlib.legend.Legend at 0x10d275390>"
      ]
     },
     "execution_count": 74,
     "metadata": {},
     "output_type": "execute_result"
    },
    {
     "data": {
      "image/png": "[encoded data removed]",
      "text/plain": [
       "<matplotlib.figure.Figure at 0x10d2759d0>"
      ]
     },
     "metadata": {},
     "output_type": "display_data"
    }
   ],
   "source": [
    "H0s         = [60, 70., 75.]\n",
    "fontsize    = 18\n",
    "for H0 in H0s:\n",
    "    muTrue = mu(H0= H0, z= zTrue, Om0=0.3)\n",
    "    plt.plot(zTrue, muTrue, '.', label= 'H0=%s'%H0)\n",
    "plt.title('%s objects; 3 SN Types'%NTotObjs)\n",
    "plt.xlabel('z', fontsize= fontsize)\n",
    "plt.ylabel('$\\mu$', fontsize= fontsize)\n",
    "plt.legend(loc= \"best\")"
   ]
  },
  {
   "cell_type": "markdown",
   "metadata": {},
   "source": [
    "### Example 2 - $\\mu$ vs $z$ for different SN types"
   ]
  },
  {
   "cell_type": "code",
   "execution_count": 75,
   "metadata": {
    "collapsed": false,
    "deletable": true,
    "editable": true
   },
   "outputs": [
    {
     "data": {
      "text/plain": [
       "<matplotlib.legend.Legend at 0x10d65ac90>"
      ]
     },
     "execution_count": 75,
     "metadata": {},
     "output_type": "execute_result"
    },
    {
     "data": {
      "image/png": "[encoded data removed]",
      "text/plain": [
       "<matplotlib.figure.Figure at 0x10d62d6d0>"
      ]
     },
     "metadata": {},
     "output_type": "display_data"
    }
   ],
   "source": [
    "H0     = 70.\n",
    "muTrue = mu(H0= H0, z= zTrue, Om0=0.3)\n",
    "labels = {1: 'Type Ia', 2: 'Type Ibc', 3: 'Type II'}\n",
    "for typeNum in [1., 2., 3.]:\n",
    "    ind = np.where(trueType==typeNum)[0]\n",
    "    plt.plot(zTrue[ind], muTrue[ind], '.', label= '%s'%labels[typeNum])\n",
    "\n",
    "plt.title('H0: %s'%H0)\n",
    "plt.xlabel('z', fontsize= fontsize)\n",
    "plt.ylabel('$\\mu$', fontsize= fontsize)\n",
    "plt.legend(loc= \"best\")"
   ]
  },
  {
   "cell_type": "markdown",
   "metadata": {},
   "source": [
    "### Example 3 - $P(z)$ vs $z$ using same probabilities for each SN type"
   ]
  },
  {
   "cell_type": "code",
   "execution_count": 58,
   "metadata": {
    "collapsed": false,
    "deletable": true,
    "editable": true,
    "scrolled": false
   },
   "outputs": [
    {
     "data": {
      "text/plain": [
       "<matplotlib.text.Text at 0x10cfbe1d0>"
      ]
     },
     "execution_count": 58,
     "metadata": {},
     "output_type": "execute_result"
    },
    {
     "data": {
      "image/png": "[encoded data removed]",
      "text/plain": [
       "<matplotlib.figure.Figure at 0x10d126090>"
      ]
     },
     "metadata": {},
     "output_type": "display_data"
    }
   ],
   "source": [
    "zBins = np.arange(0,5, 0.1)\n",
    "plt.scatter(zBins, hyper_probZbin(zBins))\n",
    "plt.xlabel('z')\n",
    "plt.ylabel('P(z)')"
   ]
  },
  {
   "cell_type": "markdown",
   "metadata": {
    "collapsed": true,
    "deletable": true,
    "editable": true
   },
   "source": [
    "$P(\\ell, f| \\mu, z, T)= MVN(\\ell, f| \\mu, z, \\sigma_{\\mu z})D(T)$\n",
    "\n",
    "where MVN is Multivariate gaussian dist, D is a discrete probability distribution."
   ]
  },
  {
   "cell_type": "code",
   "execution_count": 39,
   "metadata": {
    "collapsed": true,
    "deletable": true,
    "editable": true
   },
   "outputs": [],
   "source": [
    "from scipy.stats import multivariate_normal"
   ]
  },
  {
   "cell_type": "code",
   "execution_count": 40,
   "metadata": {
    "collapsed": false,
    "deletable": true,
    "editable": true,
    "scrolled": true
   },
   "outputs": [],
   "source": [
    "cov = np.diag(np.array([1,1]))\n",
    "MVN= multivariate_normal(mean=[np.mean(uPrime), np.mean(zPrime)], cov= cov) #.pdf(4)"
   ]
  },
  {
   "cell_type": "code",
   "execution_count": 41,
   "metadata": {
    "collapsed": false,
    "deletable": true,
    "editable": true
   },
   "outputs": [],
   "source": [
    "x, y = np.mgrid[-1:1:.01, -1:1:.01]"
   ]
  },
  {
   "cell_type": "code",
   "execution_count": null,
   "metadata": {
    "collapsed": true,
    "deletable": true,
    "editable": true
   },
   "outputs": [],
   "source": []
  },
  {
   "cell_type": "code",
   "execution_count": null,
   "metadata": {
    "collapsed": true,
    "deletable": true,
    "editable": true
   },
   "outputs": [],
   "source": []
  },
  {
   "cell_type": "markdown",
   "metadata": {
    "deletable": true,
    "editable": true
   },
   "source": [
    "To do: add a function to sample give probs, etc."
   ]
  }
 ],
 "metadata": {
  "kernelspec": {
   "display_name": "Python 2",
   "language": "python",
   "name": "python2"
  },
  "language_info": {
   "codemirror_mode": {
    "name": "ipython",
    "version": 2
   },
   "file_extension": ".py",
   "mimetype": "text/x-python",
   "name": "python",
   "nbconvert_exporter": "python",
   "pygments_lexer": "ipython2",
   "version": "2.7.10"
  }
 },
 "nbformat": 4,
 "nbformat_minor": 0
}
