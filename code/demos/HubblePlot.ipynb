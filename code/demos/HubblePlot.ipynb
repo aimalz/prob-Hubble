{
 "cells": [
  {
   "cell_type": "code",
   "execution_count": 78,
   "metadata": {},
   "outputs": [
    {
     "name": "stderr",
     "output_type": "stream",
     "text": [
      ".....................................................x.........................s.........................................x....................................s........ss...................................................................................................ssssss.................................................................x....x........................x.....x................................................ssss...........\n",
      "----------------------------------------------------------------------\n",
      "Ran 439 tests in 3.545s\n",
      "\n",
      "OK (skipped=14, expected failures=6)\n"
     ]
    },
    {
     "data": {
      "text/plain": [
       "<unittest.runner.TextTestResult run=439 errors=0 failures=0>"
      ]
     },
     "execution_count": 78,
     "metadata": {},
     "output_type": "execute_result"
    }
   ],
   "source": [
    "import numpy as np\n",
    "import astropy.cosmology as cosmology\n",
    "import scipy.optimize as spo\n",
    "import scipy.stats as sps\n",
    "from scipy.stats import norm\n",
    "import scipy.linalg as la\n",
    "import scipy as sp\n",
    "import emcee\n",
    "#import corner\n",
    "from datetime import datetime\n",
    "import hickle\n",
    "import bisect\n",
    "import daft\n",
    "import cProfile\n",
    "from io import StringIO\n",
    "import pstats\n",
    "import sys\n",
    "import pylab as pl\n",
    "epsilon = sys.float_info.min\n",
    "log_epsilon = sys.float_info.min_exp\n",
    "\n",
    "import matplotlib.pyplot as plt\n",
    "import matplotlib.cm as cm\n",
    "%matplotlib inline\n",
    "from matplotlib import rc\n",
    "rc(\"font\", family=\"serif\", size=12)\n",
    "rc(\"text\", usetex=True)\n",
    "colors = 'rbgcymk'\n",
    "import h5py\n",
    "h5py.run_tests()"
   ]
  },
  {
   "cell_type": "code",
   "execution_count": 79,
   "metadata": {
    "scrolled": true
   },
   "outputs": [
    {
     "name": "stdout",
     "output_type": "stream",
     "text": [
      "all keys in data: \n",
      "dict_keys(['host interim ln prior', 'interim ln posteriors', 'interim ln prior', 'ln host selection function', 'ln prior info', 'ln selection function', 'ln sn selection function', 'mu_bins', 'sn interim ln prior', 'types', 'z_bins'])\n",
      "n_types:  3\n",
      "n_zs:  100\n",
      "[ 0.2    0.204  0.208  0.212  0.216  0.22   0.224  0.228  0.232  0.236\n",
      "  0.24   0.244  0.248  0.252  0.256  0.26   0.264  0.268  0.272  0.276\n",
      "  0.28   0.284  0.288  0.292  0.296  0.3    0.304  0.308  0.312  0.316\n",
      "  0.32   0.324  0.328  0.332  0.336  0.34   0.344  0.348  0.352  0.356\n",
      "  0.36   0.364  0.368  0.372  0.376  0.38   0.384  0.388  0.392  0.396  0.4\n",
      "  0.404  0.408  0.412  0.416  0.42   0.424  0.428  0.432  0.436  0.44\n",
      "  0.444  0.448  0.452  0.456  0.46   0.464  0.468  0.472  0.476  0.48\n",
      "  0.484  0.488  0.492  0.496  0.5    0.504  0.508  0.512  0.516  0.52\n",
      "  0.524  0.528  0.532  0.536  0.54   0.544  0.548  0.552  0.556  0.56\n",
      "  0.564  0.568  0.572  0.576  0.58   0.584  0.588  0.592  0.596  0.6  ]\n",
      "[ 0.004  0.004  0.004  0.004  0.004  0.004  0.004  0.004  0.004  0.004\n",
      "  0.004  0.004  0.004  0.004  0.004  0.004  0.004  0.004  0.004  0.004\n",
      "  0.004  0.004  0.004  0.004  0.004  0.004  0.004  0.004  0.004  0.004\n",
      "  0.004  0.004  0.004  0.004  0.004  0.004  0.004  0.004  0.004  0.004\n",
      "  0.004  0.004  0.004  0.004  0.004  0.004  0.004  0.004  0.004  0.004\n",
      "  0.004  0.004  0.004  0.004  0.004  0.004  0.004  0.004  0.004  0.004\n",
      "  0.004  0.004  0.004  0.004  0.004  0.004  0.004  0.004  0.004  0.004\n",
      "  0.004  0.004  0.004  0.004  0.004  0.004  0.004  0.004  0.004  0.004\n",
      "  0.004  0.004  0.004  0.004  0.004  0.004  0.004  0.004  0.004  0.004\n",
      "  0.004  0.004  0.004  0.004  0.004  0.004  0.004  0.004  0.004  0.004]\n",
      "n_mus:  100\n",
      "(1000, 3, 100, 100) shape post\n",
      "num_sne:  1000\n"
     ]
    }
   ],
   "source": [
    "hickle.load_dataset\n",
    "with open('data/data.hkl', 'r+') as in_file:\n",
    "    sim_info = hickle.load(in_file)\n",
    "    \n",
    "print('all keys in data: ')\n",
    "print(sim_info.keys())\n",
    "\n",
    "types = sim_info['types']\n",
    "n_types = len(types)\n",
    "print('n_types: ', n_types)\n",
    "\n",
    "z_bins = sim_info['z_bins']\n",
    "z_difs = z_bins[1:] - z_bins[:-1]\n",
    "z_mids = (z_bins[1:] + z_bins[:-1]) / 2.\n",
    "n_zs = len(z_difs)\n",
    "\n",
    "print('n_zs: ', n_zs)\n",
    "\n",
    "mu_bins = sim_info['mu_bins']\n",
    "mu_difs = mu_bins[1:] - mu_bins[:-1]\n",
    "print(z_bins)\n",
    "print(z_difs)\n",
    "mu_mids = (mu_bins[1:] + mu_bins[:-1]) / 2.\n",
    "n_mus = len(mu_difs)\n",
    "print('n_mus: ', n_mus)\n",
    "\n",
    "ln_int_post = sim_info.get('interim ln posteriors')\n",
    "num_sne = np.shape(ln_int_post)[0]\n",
    "\n",
    "print(np.shape(ln_int_post), 'shape post')\n",
    "print('num_sne: ', num_sne)\n",
    "def safe_log(arr, threshold=epsilon):\n",
    "    shape = np.shape(arr)\n",
    "    flat = arr.flatten()\n",
    "    logged = np.log(np.array([max(a, threshold) for a in flat])).reshape(shape)\n",
    "    return logged\n",
    "\n",
    "def reg_vals(arr, threshold=log_epsilon):\n",
    "    arr[arr < threshold] = threshold\n",
    "    return arr"
   ]
  },
  {
   "cell_type": "code",
   "execution_count": 14,
   "metadata": {
    "collapsed": true
   },
   "outputs": [],
   "source": []
  },
  {
   "cell_type": "markdown",
   "metadata": {},
   "source": [
    "## Integrating over both mu and z to get P(type)"
   ]
  },
  {
   "cell_type": "code",
   "execution_count": 80,
   "metadata": {},
   "outputs": [],
   "source": [
    "type_tmp=np.zeros((num_sne,3))\n",
    "\n",
    "# Making sure to convert to posterior (not log post) and then do simple integral. This should be improved later\n",
    "# scipy.integrate.simps(y, x=None, dx=1, axis=-1, even='avg')\n",
    "\n",
    "#for zi in range(1,n_zs):\n",
    "#    for mui in range(1,n_mus):\n",
    "        \n",
    "type_tmp[:,:] =np.dot(np.dot(np.exp(ln_int_post[:,:,:,:]),mu_difs), z_difs)\n",
    "        \n",
    "        #*(z_bins[zi]-z_bins[zi-1])*(mu_bins[mui]-mu_bins[mui-1])\n",
    "\n",
    "\n",
    "# Ensure that the probabilities are normalised\n",
    "norm = np.sum(type_tmp, axis=1)\n",
    "type_tmp[:,0]=type_tmp[:,0]/norm\n",
    "type_tmp[:,1]=type_tmp[:,1]/norm\n",
    "type_tmp[:,2]=type_tmp[:,2]/norm\n"
   ]
  },
  {
   "cell_type": "markdown",
   "metadata": {
    "collapsed": true
   },
   "source": [
    "## Now we assign the true type by the highest probability."
   ]
  },
  {
   "cell_type": "code",
   "execution_count": 81,
   "metadata": {
    "collapsed": true
   },
   "outputs": [],
   "source": [
    "true_type = np.argmax(type_tmp, axis=1)# Planck 2015 results XIV. Dark energy and modified gravity - Figure 3\n",
    "\n",
    "true_H0 = 67.9\n",
    "true_Ode0 = 0.693\n",
    "true_Om0 = 1. - true_Ode0\n",
    "true_w0 = -1.09\n",
    "true_wa = -0.20\n",
    "true_hyperparams = np.array([true_w0, true_wa])\n",
    "n_hyperparams = len(true_hyperparams)\n",
    "#true_cosmo = cosmology.FlatLambdaCDM(H0=true_H0, Om0=true_Om0)\n",
    "true_cosmo = cosmology.w0waCDM(true_H0, true_Om0, true_Ode0, w0=true_w0, wa=true_wa)\n",
    "\n",
    "#for n in range(num_sne):\n",
    "#    true_params[n]['mu'] = true_cosmo.distmod(true_params[n]['z']).value"
   ]
  },
  {
   "cell_type": "code",
   "execution_count": 15,
   "metadata": {},
   "outputs": [
    {
     "name": "stdout",
     "output_type": "stream",
     "text": [
      "[[10  7  4]\n",
      " [ 3  2  1]]\n",
      "[ 6.5  4.5  2.5]\n",
      "[ 7.  2.]\n"
     ]
    }
   ],
   "source": [
    "a = np.array([[10, 7, 4], [3, 2, 1]])\n",
    "print(a)\n",
    "print(np.percentile(a, 50, axis=0))\n",
    "print(np.percentile(a, 50, axis=1))"
   ]
  },
  {
   "cell_type": "code",
   "execution_count": 88,
   "metadata": {},
   "outputs": [
    {
     "data": {
      "image/png": "[encoded data removed]",
      "text/plain": [
       "<matplotlib.figure.Figure at 0x1a1869cf98>"
      ]
     },
     "metadata": {},
     "output_type": "display_data"
    }
   ],
   "source": [
    "mumed = mumedia=np.zeros(num_sne)\n",
    "mulow = mulowia=np.zeros(num_sne)\n",
    "zhigh = zhighia=np.zeros(num_sne)\n",
    "zlow = zlowia=np.zeros(num_sne)\n",
    "muhigh = muhighia=np.zeros(num_sne)\n",
    "zmed = zmedia=np.zeros(num_sne)\n",
    "from scipy.interpolate import interp1d\n",
    "\n",
    "pmin, pmax = log_epsilon, np.log(1./(min(z_difs) * min(mu_difs)))\n",
    "\n",
    "for sn in range(num_sne):\n",
    "    \n",
    "    #pl.imshow(ln_int_post[sn,true_type[sn],:,:])\n",
    "    \n",
    "    #plt.colorbar()\n",
    "    #pl.show()\n",
    "    #pl.figure()\n",
    "    #plt.pcolormesh(z_bins, mu_bins, ln_int_post[sn,true_type[sn],:,:].T, cmap='viridis', vmin = pmin, vmax = pmax)\n",
    "\n",
    "    # True type\n",
    "    #print(true_type[sn])\n",
    "    \n",
    "    hm = ln_int_post[sn,true_type[sn],:,:].T\n",
    "    #print(np.shape(hm), np.shape(z_difs))\n",
    "    mu_prob =np.dot(np.exp(hm),z_difs)\n",
    "    muspline = interp1d(mu_prob, mu_bins[:-1])\n",
    "    indsmu=np.argsort(mu_prob)\n",
    "    \n",
    "    #print(np.shape(mu_prob), np.shape(mu_bins))\n",
    "    \n",
    "    #mu_bins[np.argmax(mu_prob)]\n",
    "    \n",
    "    #indsmu=np.argsort(mu_prob)\n",
    "\n",
    "    #print(np.percentile(mu_prob,0.16,interpolation='linear'), '16')\n",
    "    #print(muspline(np.percentile(mu_prob,0.16,interpolation='linear')))\n",
    "    \n",
    "    #print(np.percentile(mu_prob,0.5,interpolation='linear'), '50')\n",
    "    #print(muspline(np.percentile(mu_prob,0.5,interpolation='linear')))\n",
    "    \n",
    "    \n",
    "    #print(np.percentile(mu_prob,0.84,interpolation='linear'), '84')\n",
    "    #print(muspline(np.percentile(mu_prob,0.84,interpolation='linear')))\n",
    "    \n",
    "    mumed[sn]= mu_bins[np.argmax(mu_prob)]\n",
    "    #muspline(np.percentile(mu_prob[indsmu],0.5,interpolation='linear'))\n",
    "    mulow[sn] = muspline(np.percentile(mu_prob[indsmu],0.95,interpolation='linear'))\n",
    "    muhigh[sn] = muspline(np.percentile(mu_prob[indsmu],0.05,interpolation='linear'))\n",
    "    #print(mulow[sn],mumed[sn],muhigh[sn])\n",
    "            \n",
    "       \n",
    "    zm = np.exp(ln_int_post[sn,true_type[sn],:,:])\n",
    "    z_prob = np.dot(zm,mu_difs[:])\n",
    "    #print(z_prob)\n",
    "    indsz=np.argsort(z_prob)\n",
    "\n",
    "    zspline = interp1d(z_prob, z_bins[:-1])\n",
    "    \n",
    "    zmed[sn]= z_bins[np.argmax(z_prob)]\n",
    "    zlow[sn] = zspline(np.percentile(z_prob[indsz],0.95,interpolation='linear'))\n",
    "    zhigh[sn] = zspline(np.percentile(z_prob[indsz],0.05,interpolation='linear'))\n",
    "    \n",
    "    # Ia type\n",
    "    hmia = ln_int_post[sn,0,:,:].T\n",
    "    mu_probia =np.dot(np.exp(hmia),z_difs)\n",
    "    mumedia[sn]= mu_bins[np.argmax(mu_probia)]\n",
    "    musplineia = interp1d(mu_probia, mu_bins[:-1])\n",
    "    indsmuia=np.argsort(mu_probia)\n",
    "\n",
    "    \n",
    "    #muspline(np.percentile(mu_prob[indsmu],0.5,interpolation='linear'))\n",
    "    mulowia[sn] = musplineia(np.percentile(mu_probia[indsmuia],0.95,interpolation='linear'))\n",
    "    muhighia[sn] = musplineia(np.percentile(mu_probia[indsmuia],0.05,interpolation='linear'))\n",
    "\n",
    "    #print(true_type[sn], mumedia[sn], mumed[sn]) \n",
    "    zmia = np.exp(ln_int_post[sn,0,:,:])\n",
    "    z_prob = np.dot(zmia,mu_difs[:])\n",
    "    #print(z_prob)\n",
    "    indszia=np.argsort(z_prob)\n",
    "\n",
    "    zspline = interp1d(z_prob, z_bins[:-1])\n",
    "    \n",
    "    zmedia[sn]= z_bins[np.argmax(z_prob)]\n",
    "    zlowia[sn] = zspline(np.percentile(z_prob[indszia],0.95,interpolation='linear'))\n",
    "    zhighia[sn] = zspline(np.percentile(z_prob[indszia],0.05,interpolation='linear'))\n",
    "\n",
    "    \n",
    "muerr=np.max([mumed[sn]-mulow[sn], muhigh[sn]-mumed[sn]])\n",
    "zerr=np.max([zmed[sn]-zlow[sn], zhigh[sn]-zmed[sn]])\n",
    "muerria=np.max([mumedia[sn]-mulowia[sn], muhighia[sn]-mumedia[sn]])\n",
    "zerria=np.max([zmedia[sn]-zlowia[sn], zhighia[sn]-zmedia[sn]])\n",
    "    #print(zerr,muerr)\n",
    "    \n",
    "indsz = np.argsort(zmed)\n",
    "plt.errorbar(zmed[indsmu], mumed[indsmu],yerr=muerr ,xerr=zerr, marker='o', linestyle='None', color='teal')\n",
    "#plt.errorbar(zmedia[indsmuia], mumedia[indsmuia],yerr=muerria ,xerr=zerria, marker='o', linestyle='None', color='orange')\n",
    "pl.savefig('fakeHubble_all.png')\n",
    "#print(zmed,mumed)\n",
    "#plt.plot(zmed[indsz],mumed[indsz])\n",
    "    \n",
    "#print(len(zmed))\n",
    "#print(mumed,mumedia)\n",
    "#pl.plot(zmed[mumed>0], mumed[mumed>0]-mumedia[mumed>0], '.')\n",
    "#print(np.max(zmed))\n",
    "    \n",
    "\n",
    "#for zi in range(1, n_zs):\n",
    "#    muvec[zi] +=np.exp(ln_int_post[:,true_type[zi],zi,:])*(z_bins[zi]-z_bins[zi-1])\n",
    "\n",
    "#print muvec"
   ]
  },
  {
   "cell_type": "code",
   "execution_count": null,
   "metadata": {
    "collapsed": true
   },
   "outputs": [],
   "source": [
    "    mupline = interp1d"
   ]
  },
  {
   "cell_type": "code",
   "execution_count": null,
   "metadata": {
    "collapsed": true
   },
   "outputs": [],
   "source": []
  },
  {
   "cell_type": "code",
   "execution_count": null,
   "metadata": {
    "collapsed": true
   },
   "outputs": [],
   "source": []
  }
 ],
 "metadata": {
  "anaconda-cloud": {},
  "kernelspec": {
   "display_name": "Python 3",
   "language": "python",
   "name": "python3"
  },
  "language_info": {
   "codemirror_mode": {
    "name": "ipython",
    "version": 3
   },
   "file_extension": ".py",
   "mimetype": "text/x-python",
   "name": "python",
   "nbconvert_exporter": "python",
   "pygments_lexer": "ipython3",
   "version": "3.6.3"
  }
 },
 "nbformat": 4,
 "nbformat_minor": 1
}
