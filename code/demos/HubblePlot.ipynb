{
 "cells": [
  {
   "cell_type": "code",
   "execution_count": 3,
   "metadata": {
    "collapsed": true
   },
   "outputs": [],
   "source": [
    "import numpy as np\n",
    "import astropy.cosmology as cosmology\n",
    "import scipy.optimize as spo\n",
    "import scipy.stats as sps\n",
    "from scipy.stats import norm\n",
    "import scipy.linalg as la\n",
    "import emcee\n",
    "import corner\n",
    "from datetime import datetime\n",
    "import hickle\n",
    "import bisect\n",
    "import daft\n",
    "import cProfile\n",
    "import StringIO\n",
    "import pstats\n",
    "import sys\n",
    "epsilon = sys.float_info.min\n",
    "log_epsilon = sys.float_info.min_exp\n",
    "\n",
    "import matplotlib.pyplot as plt\n",
    "import matplotlib.cm as cm\n",
    "%matplotlib inline\n",
    "from matplotlib import rc\n",
    "rc(\"font\", family=\"serif\", size=12)\n",
    "rc(\"text\", usetex=True)\n",
    "colors = 'rbgcymk'"
   ]
  },
  {
   "cell_type": "code",
   "execution_count": 4,
   "metadata": {
    "collapsed": false
   },
   "outputs": [
    {
     "name": "stdout",
     "output_type": "stream",
     "text": [
      "all keys in data: \n",
      "['interim ln posteriors', 'mu_bins', 'types', 'interim ln prior', 'z_bins']\n",
      "n_types:  3\n",
      "n_zs:  20\n",
      "n_mus:  20\n",
      "(100, 3, 20, 20)\n",
      "num_sne:  100\n"
     ]
    }
   ],
   "source": [
    "with open('data/data.hkl', 'r+') as in_file:\n",
    "    sim_info = hickle.load(in_file)\n",
    "    \n",
    "\n",
    "print 'all keys in data: '\n",
    "print sim_info.keys()\n",
    "\n",
    "types = sim_info['types']\n",
    "n_types = len(types)\n",
    "print 'n_types: ', n_types\n",
    "\n",
    "z_bins = sim_info['z_bins']\n",
    "z_difs = z_bins[1:] - z_bins[:-1]\n",
    "z_mids = (z_bins[1:] + z_bins[:-1]) / 2.\n",
    "n_zs = len(z_difs)\n",
    "print 'n_zs: ', n_zs\n",
    "\n",
    "mu_bins = sim_info['mu_bins']\n",
    "mu_difs = mu_bins[1:] - mu_bins[:-1]\n",
    "mu_mids = (mu_bins[1:] + mu_bins[:-1]) / 2.\n",
    "n_mus = len(mu_difs)\n",
    "print 'n_mus: ', n_mus\n",
    "\n",
    "ln_int_post = sim_info.get('interim ln posteriors')\n",
    "num_sne = np.shape(ln_int_post)[0]\n",
    "\n",
    "print np.shape(ln_int_post)\n",
    "print 'num_sne: ', num_sne\n",
    "def safe_log(arr, threshold=epsilon):\n",
    "    shape = np.shape(arr)\n",
    "    flat = arr.flatten()\n",
    "    logged = np.log(np.array([max(a, threshold) for a in flat])).reshape(shape)\n",
    "    return logged\n",
    "\n",
    "def reg_vals(arr, threshold=log_epsilon):\n",
    "    arr[arr < threshold] = threshold\n",
    "    return arr"
   ]
  },
  {
   "cell_type": "markdown",
   "metadata": {
    "collapsed": false
   },
   "source": [
    "## Integrating over both mu and z to get P(type)"
   ]
  },
  {
   "cell_type": "code",
   "execution_count": 6,
   "metadata": {
    "collapsed": false
   },
   "outputs": [
    {
     "name": "stdout",
     "output_type": "stream",
     "text": [
      "-2772.50957861\n"
     ]
    }
   ],
   "source": [
    "tmp=np.zeros((100,3))\n",
    "\n",
    "# this isn't right as we need to first convert away from log post to do the integral!\n",
    "for zi in range(1,n_zs):\n",
    "    for mui in range(1,n_mus):\n",
    "        tmp[:,:] +=ln_int_post[:,:,zi,mui]*(z_bins[zi]-z_bins[zi-1])*(mu_bins[mui]-mu_bins[mui-1])\n",
    "\n",
    "\n",
    "print tmp[0,1]\n",
    "#scipy.integrate.simps(y, x=None, dx=1, axis=-1, even='avg')"
   ]
  },
  {
   "cell_type": "code",
   "execution_count": null,
   "metadata": {
    "collapsed": true
   },
   "outputs": [],
   "source": []
  }
 ],
 "metadata": {
  "anaconda-cloud": {},
  "kernelspec": {
   "display_name": "Python [default]",
   "language": "python",
   "name": "python2"
  },
  "language_info": {
   "codemirror_mode": {
    "name": "ipython",
    "version": 2
   },
   "file_extension": ".py",
   "mimetype": "text/x-python",
   "name": "python",
   "nbconvert_exporter": "python",
   "pygments_lexer": "ipython2",
   "version": "2.7.12"
  }
 },
 "nbformat": 4,
 "nbformat_minor": 1
}
