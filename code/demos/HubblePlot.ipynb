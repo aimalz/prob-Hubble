{
 "cells": [
  {
   "cell_type": "code",
   "execution_count": 2,
   "metadata": {
    "collapsed": true
   },
   "outputs": [],
   "source": [
    "import numpy as np\n",
    "import astropy.cosmology as cosmology\n",
    "import scipy.optimize as spo\n",
    "import scipy.stats as sps\n",
    "from scipy.stats import norm\n",
    "import scipy.linalg as la\n",
    "import scipy as sp\n",
    "import emcee\n",
    "import corner\n",
    "from datetime import datetime\n",
    "import hickle\n",
    "import bisect\n",
    "import daft\n",
    "import cProfile\n",
    "import StringIO\n",
    "import pstats\n",
    "import sys\n",
    "import pylab as pl\n",
    "epsilon = sys.float_info.min\n",
    "log_epsilon = sys.float_info.min_exp\n",
    "\n",
    "import matplotlib.pyplot as plt\n",
    "import matplotlib.cm as cm\n",
    "%matplotlib inline\n",
    "from matplotlib import rc\n",
    "rc(\"font\", family=\"serif\", size=12)\n",
    "rc(\"text\", usetex=True)\n",
    "colors = 'rbgcymk'"
   ]
  },
  {
   "cell_type": "code",
   "execution_count": 38,
   "metadata": {
    "collapsed": false
   },
   "outputs": [
    {
     "name": "stdout",
     "output_type": "stream",
     "text": [
      "all keys in data: \n",
      "['interim ln posteriors', 'mu_bins', 'types', 'interim ln prior', 'z_bins']\n",
      "n_types:  3\n",
      "n_zs:  20\n",
      "[ 0.5    0.575  0.65   0.725  0.8    0.875  0.95   1.025  1.1    1.175\n",
      "  1.25   1.325  1.4    1.475  1.55   1.625  1.7    1.775  1.85   1.925  2.   ]\n",
      "[ 0.075  0.075  0.075  0.075  0.075  0.075  0.075  0.075  0.075  0.075\n",
      "  0.075  0.075  0.075  0.075  0.075  0.075  0.075  0.075  0.075  0.075]\n",
      "n_mus:  20\n",
      "(100, 3, 20, 20)\n",
      "num_sne:  100\n"
     ]
    }
   ],
   "source": [
    "with open('data/data.hkl', 'r+') as in_file:\n",
    "    sim_info = hickle.load(in_file)\n",
    "    \n",
    "\n",
    "print 'all keys in data: '\n",
    "print sim_info.keys()\n",
    "\n",
    "types = sim_info['types']\n",
    "n_types = len(types)\n",
    "print 'n_types: ', n_types\n",
    "\n",
    "z_bins = sim_info['z_bins']\n",
    "z_difs = z_bins[1:] - z_bins[:-1]\n",
    "z_mids = (z_bins[1:] + z_bins[:-1]) / 2.\n",
    "n_zs = len(z_difs)\n",
    "\n",
    "print 'n_zs: ', n_zs\n",
    "\n",
    "mu_bins = sim_info['mu_bins']\n",
    "mu_difs = mu_bins[1:] - mu_bins[:-1]\n",
    "print z_bins\n",
    "print z_difs\n",
    "mu_mids = (mu_bins[1:] + mu_bins[:-1]) / 2.\n",
    "n_mus = len(mu_difs)\n",
    "print 'n_mus: ', n_mus\n",
    "\n",
    "ln_int_post = sim_info.get('interim ln posteriors')\n",
    "num_sne = np.shape(ln_int_post)[0]\n",
    "\n",
    "print np.shape(ln_int_post)\n",
    "print 'num_sne: ', num_sne\n",
    "def safe_log(arr, threshold=epsilon):\n",
    "    shape = np.shape(arr)\n",
    "    flat = arr.flatten()\n",
    "    logged = np.log(np.array([max(a, threshold) for a in flat])).reshape(shape)\n",
    "    return logged\n",
    "\n",
    "def reg_vals(arr, threshold=log_epsilon):\n",
    "    arr[arr < threshold] = threshold\n",
    "    return arr"
   ]
  },
  {
   "cell_type": "markdown",
   "metadata": {
    "collapsed": false
   },
   "source": [
    "## Integrating over both mu and z to get P(type)"
   ]
  },
  {
   "cell_type": "code",
   "execution_count": 45,
   "metadata": {
    "collapsed": false
   },
   "outputs": [],
   "source": [
    "type_tmp=np.zeros((100,3))\n",
    "\n",
    "# Making sure to convert to posterior (not log post) and then do simple integral. This should be improved later\n",
    "# scipy.integrate.simps(y, x=None, dx=1, axis=-1, even='avg')\n",
    "\n",
    "#for zi in range(1,n_zs):\n",
    "#    for mui in range(1,n_mus):\n",
    "        \n",
    "type_tmp[:,:] =np.dot(np.dot(np.exp(ln_int_post[:,:,:,:]),mu_difs), z_difs)\n",
    "        \n",
    "        #*(z_bins[zi]-z_bins[zi-1])*(mu_bins[mui]-mu_bins[mui-1])\n",
    "\n",
    "\n",
    "# Ensure that the probabilities are normalised\n",
    "norm = np.sum(type_tmp, axis=1)\n",
    "type_tmp[:,0]=type_tmp[:,0]/norm\n",
    "type_tmp[:,1]=type_tmp[:,1]/norm\n",
    "type_tmp[:,2]=type_tmp[:,2]/norm\n"
   ]
  },
  {
   "cell_type": "markdown",
   "metadata": {
    "collapsed": true
   },
   "source": [
    "## Now we assign the true type by the highest probability."
   ]
  },
  {
   "cell_type": "code",
   "execution_count": 43,
   "metadata": {
    "collapsed": false
   },
   "outputs": [],
   "source": [
    "true_type = np.argmax(type_tmp, axis=1)"
   ]
  },
  {
   "cell_type": "code",
   "execution_count": 47,
   "metadata": {
    "collapsed": false
   },
   "outputs": [
    {
     "name": "stdout",
     "output_type": "stream",
     "text": [
      "(100, 3, 20, 20)\n",
      "(100,)\n",
      "623.209613495\n"
     ]
    },
    {
     "data": {
      "text/plain": [
       "<matplotlib.collections.PathCollection at 0x10a374ed0>"
      ]
     },
     "execution_count": 47,
     "metadata": {},
     "output_type": "execute_result"
    },
    {
     "data": {
      "image/png": "[encoded data removed]",
      "text/plain": [
       "<matplotlib.figure.Figure at 0x10b39a910>"
      ]
     },
     "metadata": {},
     "output_type": "display_data"
    }
   ],
   "source": [
    "mumed = np.zeros(100)\n",
    "zmed = np.zeros(100)\n",
    "print np.shape(ln_int_post)\n",
    "print np.shape(true_type[:])\n",
    "\n",
    "z_difs\n",
    "\n",
    "for sn in range(num_sne):\n",
    "    \n",
    "    #pl.imshow(ln_int_post[sn,true_type[sn],:,:])\n",
    "    \n",
    "    #plt.colorbar()\n",
    "    #pl.show()\n",
    "    \n",
    "    hm = ln_int_post[sn,true_type[sn],:,:-2]\n",
    "    hom = np.transpose(hm) \n",
    "    mutmp =np.dot(np.exp(hom),z_difs)\n",
    "       \n",
    "    mumed[sn]= mutmp[np.argmax(mutmp)]\n",
    "\n",
    "    zm = np.exp(ln_int_post[sn,true_type[sn],:,:-2])\n",
    "    ztmp = np.dot(zm,mu_difs[:-2])\n",
    "    zmed[sn]= ztmp[np.argmax(ztmp)]\n",
    "\n",
    "print np.max(zmed)\n",
    "pl.scatter(zmed, mumed)\n",
    "    \n",
    "\n",
    "#for zi in range(1, n_zs):\n",
    "#    muvec[zi] +=np.exp(ln_int_post[:,true_type[zi],zi,:])*(z_bins[zi]-z_bins[zi-1])\n",
    "\n",
    "#print muvec"
   ]
  },
  {
   "cell_type": "code",
   "execution_count": null,
   "metadata": {
    "collapsed": true
   },
   "outputs": [],
   "source": []
  }
 ],
 "metadata": {
  "anaconda-cloud": {},
  "kernelspec": {
   "display_name": "Python [default]",
   "language": "python",
   "name": "python2"
  },
  "language_info": {
   "codemirror_mode": {
    "name": "ipython",
    "version": 2
   },
   "file_extension": ".py",
   "mimetype": "text/x-python",
   "name": "python",
   "nbconvert_exporter": "python",
   "pygments_lexer": "ipython2",
   "version": "2.7.12"
  }
 },
 "nbformat": 4,
 "nbformat_minor": 1
}
