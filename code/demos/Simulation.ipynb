{
 "cells": [
  {
   "cell_type": "markdown",
   "metadata": {
    "collapsed": true
   },
   "source": [
    "# SCIPPR Mock Data Pipeline\n",
    "_Alex Malz, Tina Peters, Renee Hlozek_"
   ]
  },
  {
   "cell_type": "markdown",
   "metadata": {},
   "source": [
    "`scippr` requires inputs in the form of catalogs $\\{\\ln[p(t_{n}, z_{n}, \\mu_{n} | \\underline{\\ell}_{n}, \\vec{f}_{n}, \\vec{\\beta}, \\underline{\\alpha}, \\vec{\\beta}^{*}, \\underline{\\alpha}^{*})]\\}$ of post-selection interim log-posteriors expressed as `3D` arrays constituting probabilities over $t_{n}$, $z_{n}$, and $\\mu_{n}$, enabling rapid computation of the log-posterior $\\ln[p(\\underline{\\phi}, \\vec{\\Omega} | \\{\\underline{\\ell}_{n}, \\vec{f}_{n}\\}, \\underline{\\alpha}, \\vec{\\beta})$ over the hyperparameters $\\underline{\\phi}$ and $\\vec{\\Omega}$ of scientific interest.\n",
    "This notebook outlines a procedure for generating such a catalog.\n",
    "\n",
    "Perhaps the defining feature of this pipeline is that it does not involve simulating supernova lightcurves or host galaxy photometry and instead simulating the interim posteriors directly.\n",
    "There are several good reasons for this choice:\n",
    "\n",
    "* The motivation for `scippr` is to develop a method for doing inference with accurate probability distributions over relevant supernova parameters, not to develop methods for obtaining those probability distributions.\n",
    "* We avoid tying our inference method to a particular way of deriving interim posteriors from observed data.\n",
    "* We avoid making assumptions about the details of the observed data, such as the photometric filters, intrinsic lightcurves, and observing conditions."
   ]
  },
  {
   "cell_type": "code",
   "execution_count": 1,
   "metadata": {
    "collapsed": false
   },
   "outputs": [],
   "source": [
    "import daft\n",
    "import astropy as ap\n",
    "import astropy.cosmology as apc\n",
    "\n",
    "import itertools\n",
    "import numpy as np\n",
    "import bisect\n",
    "import scipy.stats as sps\n",
    "import scipy.interpolate as spi\n",
    "import scipy.optimize as spo\n",
    "import hickle\n",
    "\n",
    "import os\n",
    "paths = ['data', 'plots']\n",
    "if not os.path.exists('data'):\n",
    "    print('WARNING: You will need to put some data files in the `data` directory to have nontrivial mock data.')\n",
    "for path in paths:\n",
    "    if not os.path.exists(path):\n",
    "        os.makedirs(path)\n",
    "\n",
    "import sys\n",
    "log_epsilon = sys.float_info.min_exp\n",
    "epsilon = sys.float_info.min\n",
    "\n",
    "import matplotlib as mpl\n",
    "import matplotlib.pyplot as plt\n",
    "%matplotlib inline\n",
    "from matplotlib import rc\n",
    "rc(\"font\", family=\"serif\", size=12)\n",
    "rc(\"text\", usetex=True)\n",
    "\n",
    "# colors = 'rbgcymk'"
   ]
  },
  {
   "cell_type": "markdown",
   "metadata": {},
   "source": [
    "`scippr` is based on a probabilistic graphical model, illustrated below.\n",
    "The model has two types of observables, shown in shaded circles, supernova lightcurves $\\underline{\\ell}_{n}$ and host galaxy photometry $\\vec{f}_{n}$.\n",
    "The parameters, which are by definition not directly observable, are shown in empty circles.\n",
    "The latent variables of supernova type $t_{n}$, redshift $z_{n}$, and distance modulus $\\mu_{n}$ are parameters over which we will marginalize, without ever directly inferring them, and while all three of them influence $\\underline{\\ell}_{n}$, only $z_{n}$ affects $\\vec{f}_{n}$ in this model.\n",
    "_NOTE: In other words, we currently assume no relationship between supernova type and host galaxy photometry, an assumption we may revisit in the future_.\n",
    "The selection function parameters $\\underline{\\alpha}$ and $\\vec{\\beta}$ are known constants of the survey symbolized by dots that influence the possible lightcurves and host galaxy photometry that are included in the sample.\n",
    "The box indicates that the latent variables and the observables are generated independently $N$ times for each supernova in the sample.\n",
    "The hyperparameters we would like to estimate are the redshift-dependent supernova type proportions $\\underline{\\phi}$ that determine $t_{n}$ and $z_{n}$ and the cosmological parameters $\\vec{\\theta}$ that relate $z_{n}$ to $\\mu_{n}$, which are shared by all $N$ supernovae in the observed sample."
   ]
  },
  {
   "cell_type": "code",
   "execution_count": 2,
   "metadata": {
    "collapsed": false
   },
   "outputs": [
    {
     "name": "stderr",
     "output_type": "stream",
     "text": [
      "/home/aimalz/.local/lib/python2.7/site-packages/matplotlib/figure.py:402: UserWarning: matplotlib is currently using a non-GUI backend, so cannot show the figure\n",
      "  \"matplotlib is currently using a non-GUI backend, \"\n"
     ]
    },
    {
     "data": {
      "image/png": "[encoded data removed]",
      "text/plain": [
       "<matplotlib.figure.Figure at 0x7ff50d19a490>"
      ]
     },
     "metadata": {},
     "output_type": "display_data"
    }
   ],
   "source": [
    "#initialize the PGM\n",
    "pgm = daft.PGM([6, 4.5], origin=[0, 0])\n",
    "\n",
    "#desired hyperparameters\n",
    "pgm.add_node(daft.Node(\"cosmology\", r\"$\\vec{\\theta}$\", 2., 4.))\n",
    "pgm.add_node(daft.Node(\"dist\", r\"$\\underline{\\phi}$\", 3.5, 4.))\n",
    "#pgm.add_node(daft.Node(\"rates\", r\"$\\vec{R}$\", 3., 5.5, fixed=True))\n",
    "\n",
    "#latent variables/parameters\n",
    "pgm.add_node(daft.Node(\"distance\", r\"$\\mu_{n}$\", 2., 2.5))\n",
    "pgm.add_node(daft.Node(\"redshift\", r\"$z_{n}$\", 3., 3.))\n",
    "pgm.add_node(daft.Node(\"type\", r\"$t_{n}$\", 4., 2.5))\n",
    "\n",
    "#data\n",
    "pgm.add_node(daft.Node(\"lightcurve\", r\"$\\underline{\\ell}_{n}$\", 2.5, 1., observed=True))\n",
    "pgm.add_node(daft.Node(\"photometry\", r\"$\\vec{f}_{n}$\", 3.5, 1., observed=True))\n",
    "\n",
    "#known constant parameters\n",
    "pgm.add_node(daft.Node(\"lightcurve selection\", r\"$\\underline{\\alpha}$\", 1., 1.75, fixed=True))\n",
    "pgm.add_node(daft.Node(\"photometry selection\", r\"$\\vec{\\beta}$\", 5., 1.75, fixed=True))\n",
    "\n",
    "# Add in the edges.\n",
    "pgm.add_edge(\"dist\", \"type\")\n",
    "pgm.add_edge(\"cosmology\", \"distance\")\n",
    "pgm.add_edge(\"dist\", \"redshift\")\n",
    "pgm.add_edge(\"redshift\", \"distance\")\n",
    "#pgm.add_edge(\"distance\", \"photometry\")\n",
    "pgm.add_edge(\"distance\", \"lightcurve\")\n",
    "pgm.add_edge(\"redshift\", \"photometry\")\n",
    "pgm.add_edge(\"redshift\", \"lightcurve\")\n",
    "pgm.add_edge(\"type\", \"lightcurve\")\n",
    "pgm.add_edge(\"photometry selection\", \"photometry\")\n",
    "pgm.add_edge(\"lightcurve selection\", \"lightcurve\")\n",
    "\n",
    "# plates\n",
    "pgm.add_plate(daft.Plate([1.5, 0.5, 3., 3.], label=r\"$n = 1, \\cdots, N$\"))\n",
    "\n",
    "# Render and save.\n",
    "pgm.render()\n",
    "pgm.figure.show()\n",
    "pgm.figure.savefig('plots/sim_pgm.png', dpi=250)"
   ]
  },
  {
   "cell_type": "markdown",
   "metadata": {},
   "source": [
    "To simulate a mock catalog for `scippr`, there are several big steps.\n",
    "\n",
    "1. Establish the joint prior probability distribution of the hyperparameters $p(\\vec{\\theta}, \\underline{\\phi})$ and draw true hyperparameter values $(\\vec{\\theta}', \\underline{\\phi}')$.\n",
    "2. Establish the joint hyperlikelihood of the (latent variable) parameters $p(t, z, \\mu | \\vec{\\theta}', \\underline{\\phi}')$ and draw true (latent variable) parameter values $\\{(t'_{i}, z'_{i}, \\mu'_{i})\\}$.\n",
    "3. Establish the joint probability distribution of the (observed) data and (latent variable) parameters $p(\\vec{f}, \\underline{\\ell}, t, z, \\mu)$.\n",
    "4. Set the selection function (nuisance) hyperparameters $(\\vec{\\beta}, \\underline{\\alpha})$ and establish the post-selection joint probability distribution of the (observed) data and (latent variable) parameters $p(\\vec{f}, \\underline{\\ell} t, z, \\mu | \\vec{\\beta}, \\underline{\\alpha})$ via the joint probability distribution of the (observed) data and (latent variable) parameters $p(\\vec{f}, \\underline{\\ell}, t, z, \\mu)$.\n",
    "5. Evaluate the post-selection joint probability distribution $p(\\vec{f}, \\underline{\\ell} t, z, \\mu | \\vec{\\beta}, \\underline{\\alpha})$ at the true (latent variable) parameters $\\{(t'_{i}, z'_{i}, \\mu'_{i})\\}$ to produce the post-selection likelihoods $\\{p(\\vec{f}, \\underline{\\ell} | t'_{i}, z'_{i}, \\mu'_{i}, \\vec{\\beta}, \\underline{\\alpha})\\}$ and draw the true values of the (observed) data $(\\vec{f}'_{i}, \\underline{\\ell}'_{i})$.\n",
    "6. Set the interim prior (nuisance) hyperparameters $(\\vec{\\beta}^{*}, \\underline{\\alpha}^{*})$ and create the post-selection interim posteriors $\\{p(t, z, \\mu | \\vec{f}'_{i}, \\underline{\\ell}'_{i}, \\vec{\\beta}, \\underline{\\alpha}, \\vec{\\beta}^{*}, \\underline{\\alpha}^{*})\\}$ by convolving the joint probability distribution of the (observed) data and (latent variable) parameters $\\{p(\\vec{f}, \\underline{\\ell}, t, z, \\mu)\\}$ with the interim prior $p(t, z, \\mu | \\vec{\\beta}^{*}, \\underline{\\alpha}^{*})$.\n",
    "7. Parametrize the post-selection interim posteriors $\\{p(t, z, \\mu | \\vec{f}'_{i}, \\underline{\\ell}'_{i}, \\vec{\\beta}, \\underline{\\alpha}, \\vec{\\beta}^{*}, \\underline{\\alpha}^{*})\\}$ and export them as a catalog, along with the selection function hyperparameters $(\\vec{\\beta}, \\underline{\\alpha})$ and interim prior hyperparameters $(\\vec{\\beta}^{*}, \\underline{\\alpha}^{*})$.\n",
    "\n",
    "_This is about as complicated as it sounds!\n",
    "Note that we could leave out the interim prior step. . ._"
   ]
  },
  {
   "cell_type": "markdown",
   "metadata": {},
   "source": [
    "## The hyperparameters"
   ]
  },
  {
   "cell_type": "markdown",
   "metadata": {},
   "source": [
    "We will set $\\vec{\\theta}'$ and $\\underline{\\phi}'$ separately and record them only for comparison at the end of our inference."
   ]
  },
  {
   "cell_type": "code",
   "execution_count": 3,
   "metadata": {
    "collapsed": false
   },
   "outputs": [],
   "source": [
    "hyperparameters = {}\n",
    "# turns out you can't dump an empty dict with hickle. . .\n",
    "# hyperparameters['test'] = 'test'\n",
    "# with open('data/true_values.hkl', 'w') as true_file:\n",
    "#     hickle.dump(hyperparameters, true_file)"
   ]
  },
  {
   "cell_type": "markdown",
   "metadata": {},
   "source": [
    "### The cosmological parameters"
   ]
  },
  {
   "cell_type": "markdown",
   "metadata": {},
   "source": [
    "We set a true cosmology model permitting evolution of the dark energy equation of state.\n",
    "_TO DO: Include the equation here._\n",
    "We use the `astropy` implementation of this model, which requires $\\vec{\\theta} = (H_{0}, \\Omega_{m,0}, \\Omega_{\\Lambda, 0}, w_{0}, w_{a})$.\n",
    "We draw the true cosmological parameters from a prior $p(\\vec{\\theta}, \\underline{\\phi})$.\n",
    "_Note that this prior is not necessarily the one used in the inference procedure!_\n",
    "We use the [Planck 2015 cosmological parameter posteriors](http://irsa.ipac.caltech.edu/data/Planck/release_2/ancillary-data/cosmoparams/) and proxy values for parameters not included in the table."
   ]
  },
  {
   "cell_type": "code",
   "execution_count": 4,
   "metadata": {
    "collapsed": false
   },
   "outputs": [
    {
     "name": "stdout",
     "output_type": "stream",
     "text": [
      "true cosmological parameters: {'Ol0': 0.6862564052015557, 'H0': 68.3450999448347, 'Om0': 0.2991349059663465, 'wa': 0.30962881801461023, 'w0': -0.8287524163937017}\n"
     ]
    }
   ],
   "source": [
    "hyperparameters['cosmology'] = {}\n",
    "hyperparameters['cosmology']['H0'] = np.random.normal(67.74, 0.46)\n",
    "hyperparameters['cosmology']['Om0'] = np.random.normal(0.3089, 0.0062)\n",
    "hyperparameters['cosmology']['Ol0'] = np.random.normal(0.6911, 0.0062)\n",
    "w_avg_sig = (0.72 + 0.69) / 2.\n",
    "hyperparameters['cosmology']['w0'] = np.random.normal(-1., w_avg_sig)\n",
    "hyperparameters['cosmology']['wa'] = np.random.normal(0., w_avg_sig)\n",
    "\n",
    "with open('data/true_values.hkl', 'w') as true_file:\n",
    "    hickle.dump(hyperparameters, true_file)\n",
    "    \n",
    "print('true cosmological parameters: '+str(hyperparameters['cosmology']))\n",
    "\n",
    "# cosmology = apc.FlatLambdaCDM(H0=hyperparameters['cosmology']['H0'], \n",
    "#                                        Om0=hyperparameters['cosmology']['Om0'])\n",
    "cosmology = apc.w0waCDM(hyperparameters['cosmology']['H0'], \n",
    "                                 hyperparameters['cosmology']['Om0'], \n",
    "                                 hyperparameters['cosmology']['Ol0'], \n",
    "                                 w0=hyperparameters['cosmology']['w0'], \n",
    "                                 wa=hyperparameters['cosmology']['wa'])\n",
    "\n",
    "#for consistency/compatibility\n",
    "true_cosmo = cosmology\n",
    "true_w0 = hyperparameters['cosmology']['w0']\n",
    "true_wa = hyperparameters['cosmology']['wa']"
   ]
  },
  {
   "cell_type": "code",
   "execution_count": 5,
   "metadata": {
    "collapsed": true
   },
   "outputs": [],
   "source": [
    "# true_H0 = 67.9\n",
    "# true_Ode0 = 0.693\n",
    "# true_Om0 = 1. - true_Ode0\n",
    "# true_w0 = -1.09\n",
    "# true_wa = -0.20\n",
    "# true_hyperparams = np.array([true_w0, true_wa])\n",
    "# n_hyperparams = len(true_hyperparams)\n",
    "# #true_cosmo = cosmology.FlatLambdaCDM(H0=true_H0, Om0=true_Om0)\n",
    "# true_cosmo = cosmology.w0waCDM(true_H0, true_Om0, true_Ode0, w0=true_w0, wa=true_wa)"
   ]
  },
  {
   "cell_type": "markdown",
   "metadata": {},
   "source": [
    "### The redshift-dependent supernova type proportions"
   ]
  },
  {
   "cell_type": "markdown",
   "metadata": {},
   "source": [
    "We assume that the true redshift-dependent type proportions are provided as parameters $\\underline{\\phi}$ of continuous functions for a finite number of types across a restricted redshift range.  \n",
    "\n",
    "_This is totally a placeholder!\n",
    "It will be replaced with realistic redshift-dependent type proportions very soon.\n",
    "Also a more clever structure. . ._ "
   ]
  },
  {
   "cell_type": "code",
   "execution_count": 6,
   "metadata": {
    "collapsed": false
   },
   "outputs": [
    {
     "name": "stdout",
     "output_type": "stream",
     "text": [
      "true redshift-dependent type proportion parameters (fraction, mean, standard deviation): {'Ia': (0.30540270650971302, 1.5107232401209445, 0.5277406939436116), 'II': (0.56717977247287432, 0.49867287468629384, 0.4454794744483846), 'Ibc': (0.12741752101741269, 0.9906261104984538, 0.6360686948177005)}\n"
     ]
    }
   ],
   "source": [
    "types = ['Ia', 'Ibc', 'II']\n",
    "colors = ['b', 'm', 'g']\n",
    "n_types = len(types)\n",
    "frac_dict = {}\n",
    "frac_dict['Ia'] = 0.4\n",
    "frac_dict['Ibc'] = 0.1\n",
    "frac_dict['II'] = 0.5\n",
    "temp_fracs = np.zeros(n_types)\n",
    "frac_std = 0.05\n",
    "for f in range(n_types):\n",
    "    temp_fracs[f] = np.random.normal(frac_dict[types[f]], frac_std)\n",
    "temp_fracs /= np.sum(temp_fracs)\n",
    "assert np.isclose(np.sum(temp_fracs), 1.)\n",
    "for f in range(n_types):\n",
    "    frac_dict[types[f]] = temp_fracs[f]\n",
    "frac_types = temp_fracs\n",
    "\n",
    "# these arbitrary limits are from the selection function\n",
    "min_z = 0.2\n",
    "max_z = 0.6\n",
    "\n",
    "mean_std = 0.1\n",
    "std_std = 0.1\n",
    "\n",
    "hyperparameters['sn_rates'] = {}\n",
    "hyperparameters['sn_rates']['Ia'] = (frac_dict['Ia'], np.random.normal(1.5, mean_std),\n",
    "                                     np.random.normal(0.5, std_std))\n",
    "hyperparameters['sn_rates']['Ibc'] = (frac_dict['Ibc'], np.random.normal(1., mean_std), \n",
    "                                      np.random.normal(0.5, std_std))\n",
    "hyperparameters['sn_rates']['II'] = (frac_dict['II'], np.random.normal(0.5, mean_std), \n",
    "                                     np.random.normal(0.5, std_std))\n",
    "\n",
    "with open('data/true_values.hkl', 'w') as true_file:\n",
    "    hickle.dump(hyperparameters, true_file)\n",
    "    \n",
    "print('true redshift-dependent type proportion parameters (fraction, mean, standard deviation): '\n",
    "      +str(hyperparameters['sn_rates']))"
   ]
  },
  {
   "cell_type": "markdown",
   "metadata": {},
   "source": [
    "## The parameters"
   ]
  },
  {
   "cell_type": "markdown",
   "metadata": {},
   "source": [
    "Now we make the hyperlikelihood $p(t, z, \\mu | \\vec{\\theta}', \\underline{\\phi}')$.\n",
    "$t$ and $z$ are drawn from $p(t, z | \\underline{\\phi})$, and $\\mu$ is completely determined by $z$ according to\n",
    "\\begin{equation*}\n",
    "\\mu\\ =\\ 5\\log\\left[(1+z)\\frac{1}{10\\ pc}\\int_{0}^{z}\\frac{dz'}{\\sqrt{\\Omega_{M}(1+z)^{3}+\\Omega_{k}(1+z)^{2}+\\Omega_{\\Lambda}}}\\right].\n",
    "\\end{equation*}\n",
    "\n",
    "_TO DO: Modify this for nontrivial $w_{0}$, $w_{a}$!\n",
    "Luckily `astropy` does this for us in code._"
   ]
  },
  {
   "cell_type": "markdown",
   "metadata": {},
   "source": [
    "Here we plot the true redshift-dependent type proportions after ensuring they are properly normalized."
   ]
  },
  {
   "cell_type": "code",
   "execution_count": 7,
   "metadata": {
    "collapsed": false
   },
   "outputs": [
    {
     "data": {
      "image/png": "[encoded data removed]",
      "text/plain": [
       "<matplotlib.figure.Figure at 0x7ff50d0314d0>"
      ]
     },
     "metadata": {},
     "output_type": "display_data"
    }
   ],
   "source": [
    "# n_of_z_consts = {}\n",
    "# n_of_z_consts['Ia'] = (1.5, 0.5)\n",
    "# n_of_z_consts['Ibc'] = (1., 0.5)\n",
    "# n_of_z_consts['II'] = (0.5, 0.5)\n",
    "\n",
    "true_n_of_z = []\n",
    "for t in types:\n",
    "    (prop, mean, std) = hyperparameters['sn_rates'][t]\n",
    "    low, high = (min_z - mean) / std, (max_z - mean) / std\n",
    "    true_n_of_z.append(sps.truncnorm(low, high, loc = mean, scale = std))\n",
    "\n",
    "plot_res = 20\n",
    "z_range = max_z - min_z\n",
    "z_grid = np.linspace(min_z, max_z, num=plot_res + 1, endpoint=True)\n",
    "z_plot = (z_grid[1:] + z_grid[:-1]) / 2.\n",
    "z_dif_plot = z_grid[1:] - z_grid[:-1]\n",
    "\n",
    "plot_true_n_of_z = np.zeros((n_types, plot_res))\n",
    "for t in range(n_types):\n",
    "    plot_true_n_of_z[t] = true_n_of_z[t].pdf(z_plot)\n",
    "plot_true_n_of_z = frac_types[:, np.newaxis] * np.array(plot_true_n_of_z)# / z_range\n",
    "plot_true_n_of_z /= np.sum(plot_true_n_of_z * z_dif_plot)\n",
    "assert np.isclose(np.sum(plot_true_n_of_z * z_dif_plot), 1.)\n",
    "\n",
    "for t in range(n_types):\n",
    "    plt.plot(z_plot, plot_true_n_of_z[t], color=colors[t], label=types[t])\n",
    "plt.xlabel(r'$z$')\n",
    "plt.ylabel(r'relative rate')\n",
    "plt.legend()\n",
    "plt.savefig('plots/true_rates.png')"
   ]
  },
  {
   "cell_type": "markdown",
   "metadata": {},
   "source": [
    "We sample pairs of type and redshift from these distributions by choosing a type based on the overall type proportions, then sampling its underlying redshift distribution.\n",
    "\n",
    "_TO DO: make this function efficient so it can call `n_of_z[k]` only once per type._"
   ]
  },
  {
   "cell_type": "code",
   "execution_count": 8,
   "metadata": {
    "collapsed": false
   },
   "outputs": [],
   "source": [
    "true_n_of_z = []\n",
    "for t in types:\n",
    "    (prop, mean, std) = hyperparameters['sn_rates'][t]\n",
    "    low, high = (min_z - mean) / std, (max_z - mean) / std\n",
    "    true_n_of_z.append(sps.truncnorm(low, high, loc = mean, scale = std))\n",
    "\n",
    "def sample_discrete(fracs, n_of_z, N):\n",
    "    found_types = [0, 0, 0]\n",
    "    poster_indices = []\n",
    "    out_info = []\n",
    "    cdf = np.cumsum(fracs)\n",
    "    for n in range(N):\n",
    "        each = {}\n",
    "        r = np.random.random()\n",
    "        k = bisect.bisect(cdf, r)\n",
    "        each['t'] = types[k]\n",
    "        each['z'] = n_of_z[k].rvs()\n",
    "        out_info.append(each)\n",
    "    return out_info\n",
    "\n",
    "n_sne = 100\n",
    "\n",
    "true_params = sample_discrete(frac_types, true_n_of_z, n_sne)\n",
    "\n",
    "true_zs = [true_param['z'] for true_param in true_params]\n",
    "true_types = [true_param['t'] for true_param in true_params]\n",
    "posters = []\n",
    "posters.append((i for i,v in enumerate(true_types) if v == 'Ia').next())\n",
    "posters.append((i for i,v in enumerate(true_types) if v == 'Ibc').next())\n",
    "posters.append((i for i,v in enumerate(true_types) if v == 'II').next())"
   ]
  },
  {
   "cell_type": "markdown",
   "metadata": {},
   "source": [
    "Let's plot the drawn $(t, z)$ pairs."
   ]
  },
  {
   "cell_type": "code",
   "execution_count": 9,
   "metadata": {
    "collapsed": false
   },
   "outputs": [
    {
     "data": {
      "image/png": "[encoded data removed]",
      "text/plain": [
       "<matplotlib.figure.Figure at 0x7ff50cf75690>"
      ]
     },
     "metadata": {},
     "output_type": "display_data"
    }
   ],
   "source": [
    "plot_res = 20\n",
    "z_range = max_z - min_z\n",
    "z_grid = np.linspace(min_z, max_z, num=plot_res + 1, endpoint=True)\n",
    "z_plot = (z_grid[1:] + z_grid[:-1]) / 2.\n",
    "z_dif_plot = z_grid[1:] - z_grid[:-1]\n",
    "\n",
    "plot_true_n_of_z = np.zeros((n_types, plot_res))\n",
    "for t in range(n_types):\n",
    "    plot_true_n_of_z[t] = true_n_of_z[t].pdf(z_plot)\n",
    "plot_true_n_of_z = frac_types[:, np.newaxis] * np.array(plot_true_n_of_z)# / z_range\n",
    "plot_true_n_of_z /= np.sum(plot_true_n_of_z * z_dif_plot)\n",
    "assert np.isclose(np.sum(plot_true_n_of_z * z_dif_plot), 1.)\n",
    "\n",
    "to_plot = [[d['z'] for d in true_params if d['t'] == types[t]] for t in range(n_types)]\n",
    "hist_bins = np.linspace(min_z, max_z, plot_res + 1)\n",
    "bin_difs = hist_bins[1:] - hist_bins[:-1]\n",
    "for t in range(n_types):\n",
    "    plt.plot(z_plot, plot_true_n_of_z[t] * n_sne * bin_difs, color=colors[t], label='true '+types[t])\n",
    "    plt.hist(to_plot[t], bins=hist_bins, color=colors[t], alpha=1./3., label='sampled '+types[t], normed=False)\n",
    "plt.xlabel(r'$z$')\n",
    "plt.ylabel(r'relative rate')\n",
    "plt.legend(fontsize='xx-small')\n",
    "plt.savefig('plots/sn_rates.png')"
   ]
  },
  {
   "cell_type": "markdown",
   "metadata": {},
   "source": [
    "Now that we have $\\{t'_{i}, z'_{i}\\}$, we know $\\{\\mu'_{i}\\}$ from the luminosity distance equation:\n",
    "\n",
    "\\begin{equation*}\n",
    "\\mu\\ =\\ 5\\log\\left[(1+z)\\frac{1}{10\\ pc}\\int_{0}^{z}\\frac{dz'}{\\sqrt{\\Omega_{M}(1+z)^{3}+\\Omega_{k}(1+z)^{2}+\\Omega_{\\Lambda}}}\\right]\n",
    "\\end{equation*}\n",
    "\n",
    "_TO DO: Modify this for nontrivial $w_{0}$, $w_{a}$!\n",
    "Luckily `astropy` does this for us in code._"
   ]
  },
  {
   "cell_type": "code",
   "execution_count": 10,
   "metadata": {
    "collapsed": true
   },
   "outputs": [],
   "source": [
    "for n in range(n_sne):\n",
    "    true_params[n]['mu'] = true_cosmo.distmod(true_params[n]['z']).value"
   ]
  },
  {
   "cell_type": "markdown",
   "metadata": {},
   "source": [
    "We plot a traditional Hubble diagram of the supernovae in our sample.\n",
    "\n",
    "*We must note that this is not a Hubble diagram like any other ever observed!  The distance moduli are of course not accessible for supernovae of types other than Ia.  However, non-Ia supernovae do still have a distance modulus, and do still follow the cosmological Hubble flow, so in simulated data, this is a perfectly reasonable quantity to visualize.*"
   ]
  },
  {
   "cell_type": "code",
   "execution_count": 21,
   "metadata": {
    "collapsed": false
   },
   "outputs": [
    {
     "data": {
      "image/png": "[encoded data removed]",
      "text/plain": [
       "<matplotlib.figure.Figure at 0x7ff50cfd0410>"
      ]
     },
     "metadata": {},
     "output_type": "display_data"
    }
   ],
   "source": [
    "to_plot_x = [[d['z'] for d in true_params if d['t'] == types[t]] for t in range(n_types)]\n",
    "to_plot_y = [[d['mu'] for d in true_params if d['t'] == types[t]] for t in range(n_types)]\n",
    "for t in range(n_types):\n",
    "    plt.scatter(to_plot_x[t], to_plot_y[t], color=colors[t], marker='.', label=types[t], alpha=0.2)\n",
    "plt.plot(z_plot, [true_cosmo.distmod(z).value for z in z_plot], color='k', alpha=0.2)\n",
    "plt.xlabel(r'$z$')\n",
    "plt.ylabel(r'$\\mu$')\n",
    "plt.legend(loc='lower right')\n",
    "plt.title(r'$w_{0}='+str(true_w0)+r', w_{a}='+str(true_wa)+r'$')\n",
    "plt.savefig('plots/true_hubble.png')"
   ]
  },
  {
   "cell_type": "markdown",
   "metadata": {},
   "source": [
    "## The parameter-data probability space"
   ]
  },
  {
   "cell_type": "markdown",
   "metadata": {},
   "source": [
    "We need $p(\\vec{f}, \\underline{\\ell}, t, z, \\mu)$.\n",
    "However, we can take the easy way out and not simulate realistic supernova lightcurves and host galaxy photometry for several good reasons:\n",
    "1. We can't explicitly construct the necessary parameter space because it's way too big.\n",
    "2. Even if we could, there would be a ton of choices to make about the data model.\n",
    "3. To actually do it right, we'd also need the as yet nonexistent probabilistic lightcurve fitter and some (uncontroversial) photo-$z$ PDF method.  \n",
    "\n",
    "In the absence of actual lightcurves and host galaxy photometry, we will use proxies for them.\n",
    "Because we believe the data contain information about the true values of the parameters, it is simplest to use the same parameter space for \"the data\".\n",
    "We establish a six-dimensional space of $(t', \\hat{t}, z', \\hat{z}, \\mu', \\hat{\\mu})$ shared among all supernovae in the sample, where $'$ indicates a true value of the parameter and $\\hat{\\ }$ indicates the one that serves as a proxy for the data.  \n",
    "In this space, we will make a single probability distribution $p(t', z', \\mu', \\hat{t}, \\hat{z}, \\hat{\\mu}.\n",
    "\n",
    "We will construct the three-dimensional log probabilities produced by a probabilistic lightcurve fitter separately from the one-dimensional log-probabilities produced by a probabilistic redshift fitter and combine them at the end as follows:\n",
    "\n",
    "\\begin{equation*}\n",
    "\\ln[p(t', \\hat{t}, z', \\hat{z}, \\mu', \\hat{\\mu})] = \\ln[p_{\\vec{f}}(z', \\hat{z})] + \\ln[p_{\\underline{\\ell}}(t', \\hat{t}, z', \\hat{z}, \\mu', \\hat{\\mu})]\n",
    "\\end{equation*}"
   ]
  },
  {
   "cell_type": "code",
   "execution_count": null,
   "metadata": {
    "collapsed": true
   },
   "outputs": [],
   "source": []
  },
  {
   "cell_type": "markdown",
   "metadata": {},
   "source": [
    "## The selection function"
   ]
  },
  {
   "cell_type": "markdown",
   "metadata": {},
   "source": [
    "## The data"
   ]
  },
  {
   "cell_type": "markdown",
   "metadata": {},
   "source": [
    "## Simulating Probabilities\n",
    "\n",
    "`scippr` is intended to be used on interim posterior probabilities derived from a probabilistic lightcurve fitting procedure.\n",
    "These will be provided as log-probabilities evaluated on a `3D` grid in type, redshift, and distance modulus space so function evaluations can be replaced with array manipulation.\n",
    "We choose to work with arrays of log-probabilities because they preserve numerical precision and enable slower products of arrays to be transformed into fast sums of arrays.\n",
    "*NOTE: This choice of parametrization for the input probabilities will be hard to change later on!*"
   ]
  },
  {
   "cell_type": "raw",
   "metadata": {},
   "source": []
  },
  {
   "cell_type": "markdown",
   "metadata": {},
   "source": [
    "Since we will be working in log-space, it is important to define functions that ensure that the elements of the log-probability arrays do not result in `NaN` values and do not throw errors in the functions used to take logs.\n",
    "We do this by defining a very small positive number, many orders of magnitude less than the limit of floating point precision, as the minimum probability allowed in our universe, as well as its log, a fairly large negative number.\n",
    "We will make use of functions to check that these conditions are satisfied.\n",
    "This introduces some imprecision but cannot be avoided. "
   ]
  },
  {
   "cell_type": "code",
   "execution_count": 12,
   "metadata": {
    "collapsed": true
   },
   "outputs": [],
   "source": [
    "def safe_log(arr, threshold=epsilon):\n",
    "    arr[arr < threshold] = threshold\n",
    "    return np.log(arr)\n",
    "\n",
    "def reg_vals(arr, threshold=log_epsilon):\n",
    "    arr[arr < threshold] = threshold\n",
    "    return arr"
   ]
  },
  {
   "cell_type": "markdown",
   "metadata": {},
   "source": [
    "We establish a binning in the space of $z$ and $\\mu$ for the arrays of log-probabilities.\n",
    "This is arbitrary and can easily be changed.\n",
    "This binning is also used for the redshift-dependent type proportions because they are currently implemented in a piecewise constant parametrization, so the inference will be slower with more bins."
   ]
  },
  {
   "cell_type": "code",
   "execution_count": 13,
   "metadata": {
    "collapsed": false
   },
   "outputs": [],
   "source": [
    "# this binning is arbitrary!\n",
    "n_zs = 11\n",
    "z_bins = np.linspace(min_z, max_z, num=n_zs, endpoint=True)\n",
    "z_difs = z_bins[1:] - z_bins[:-1]\n",
    "z_dif = np.mean(z_difs)\n",
    "z_mids = (z_bins[1:] + z_bins[:-1]) / 2.\n",
    "\n",
    "mu_lims = (true_cosmo.distmod(min_z).value, true_cosmo.distmod(max_z).value)\n",
    "\n",
    "# want this to be agnostic about true cosmology\n",
    "n_mus = 21\n",
    "(min_mu, max_mu) = mu_lims#mu_lims[0] - np.random.random(), mu_lims[1] + np.random.random()#min([s['mu'] for s in true_params]) - 0.5, max([s['mu'] for s in true_params]) + 0.5\n",
    "mu_bins = np.linspace(min_mu, max_mu, num=n_mus, endpoint=True)\n",
    "mu_difs = mu_bins[1:] - mu_bins[:-1]\n",
    "mu_dif = np.mean(mu_difs)\n",
    "mu_range = np.max(mu_bins) - np.min(mu_bins)\n",
    "mu_mids = (mu_bins[1:] + mu_bins[:-1]) / 2.\n",
    "\n",
    "z_mu_grid = np.array([[(z, mu) for mu in mu_mids] for z in z_mids])\n",
    "cake_shape = np.shape(z_mu_grid)\n",
    "pmin, pmax = log_epsilon, np.log(1./(min(z_difs) * min(mu_difs)))\n",
    "\n",
    "n_sne = 100"
   ]
  },
  {
   "cell_type": "markdown",
   "metadata": {},
   "source": [
    "We define additional functions to normalize probabilities so they integrate to unity over our $(t, z, \\mu)$ parameter space."
   ]
  },
  {
   "cell_type": "code",
   "execution_count": 14,
   "metadata": {
    "collapsed": true
   },
   "outputs": [],
   "source": [
    "unity_t = np.ones(n_types)\n",
    "def normalize_t(arr, vb=False):\n",
    "    norm_factor = np.sum(arr)\n",
    "    arr /= norm_factor\n",
    "    var = np.sum(arr)\n",
    "    try:\n",
    "        assert np.isclose(var, 1.)\n",
    "        if vb: print(var)\n",
    "    except AssertionError:\n",
    "        print('normalization error '+str(var))\n",
    "    return arr\n",
    "\n",
    "unity_z = np.ones(n_zs-1)\n",
    "def normalize_z(arr, vb=False):\n",
    "    norm_factor = np.sum(arr * z_difs)\n",
    "    arr /= norm_factor\n",
    "    var = np.sum(arr * z_difs)\n",
    "    try:\n",
    "        assert np.isclose(var, 1.)\n",
    "        if vb: print(var)\n",
    "    except AssertionError: \n",
    "        print('normalization error '+str(var))\n",
    "    return arr\n",
    "\n",
    "unity_zt = np.ones((n_types, n_zs-1))\n",
    "def normalize_zt(arr, vb=False):\n",
    "    norm_factor = np.sum(arr * z_difs[np.newaxis, :])\n",
    "    arr /= norm_factor\n",
    "    var = np.sum(arr * z_difs[np.newaxis, :])\n",
    "    try:\n",
    "        assert np.isclose(var, 1.)\n",
    "        if vb: print(var)\n",
    "    except AssertionError: \n",
    "        print('normalization error '+str(var))\n",
    "    return arr\n",
    "\n",
    "unity_hubble = np.ones((n_zs-1, n_mus-1))\n",
    "def normalize_hubble(arr, vb=False):\n",
    "    norm_factor = np.sum(arr * z_difs[:, np.newaxis] * mu_difs[np.newaxis, :])\n",
    "    arr /= norm_factor\n",
    "    var = np.sum(arr * z_difs[:, np.newaxis] * mu_difs[np.newaxis, :])\n",
    "    try: \n",
    "        assert np.isclose(var, 1.)\n",
    "        if vb: print(var)\n",
    "    except AssertionError: \n",
    "        print('normalization error '+str(var))\n",
    "    return arr\n",
    "\n",
    "unity_one = np.ones((n_types, n_zs-1, n_mus-1))\n",
    "def normalize_one(arr, vb=False):\n",
    "    norm_factor = np.sum(arr * z_difs[np.newaxis, :, np.newaxis] * mu_difs[np.newaxis, np.newaxis, :])\n",
    "    arr /= norm_factor\n",
    "    var = np.sum(arr * z_difs[np.newaxis, :, np.newaxis] * mu_difs[np.newaxis, np.newaxis, :])\n",
    "    try: \n",
    "        assert np.isclose(var, 1.)\n",
    "        if vb: print(var)\n",
    "    except AssertionError: \n",
    "        print('normalization error '+str(var))\n",
    "    return arr\n",
    "\n",
    "unity = np.ones((n_sne, n_types, n_zs-1, n_mus-1))\n",
    "unity_all = np.ones((n_sne, n_types, n_zs-1, n_mus-1))\n",
    "def normalize_all(arr, vb=False):\n",
    "    n_objs = len(arr)\n",
    "    norm_factor = np.sum(np.sum(np.sum(arr * z_difs[np.newaxis, np.newaxis, :, np.newaxis] * mu_difs[np.newaxis, np.newaxis, np.newaxis, :], axis=3), axis=2), axis=1)\n",
    "    arr /= norm_factor[:, np.newaxis, np.newaxis, np.newaxis]\n",
    "    var = np.sum(np.sum(np.sum(arr * z_difs[np.newaxis, np.newaxis, :, np.newaxis] * mu_difs[np.newaxis, np.newaxis, np.newaxis, :], axis=3), axis=2), axis=1)\n",
    "    try:\n",
    "        assert np.all(np.isclose(var, np.ones(n_objs)))\n",
    "        if vb: print(var)\n",
    "    except AssertionError: \n",
    "        print('normalization error '+str(var))\n",
    "    return arr"
   ]
  },
  {
   "cell_type": "markdown",
   "metadata": {},
   "source": []
  },
  {
   "cell_type": "markdown",
   "metadata": {},
   "source": [
    "### Supernova lightcurve probability distributions\n",
    "\n",
    "\\begin{equation*}\n",
    "\\ln[p(t_{i}, z_{i}, \\mu_{i} | \\underline{\\ell}_{i}, \\underline{\\alpha}, \\underline{\\Phi}^{*}]\\ =\\ \\ln[p(t_{i}, z_{i}, \\mu_{i} | \\underline{\\ell}_{i})]\\ +\\ \\ln[p(t_{i}, z_{i}, \\mu_{i} | \\underline{\\alpha})]\\ +\\ \\ln[p(t_{i}, z_{i}, \\mu_{i} | \\underline{\\Phi}^{*})]\n",
    "\\end{equation*}"
   ]
  },
  {
   "cell_type": "markdown",
   "metadata": {},
   "source": [
    "**Supernova lightcurve log-posteriors $\\ln[p(t, z, \\mu | \\underline{\\ell}_{i})]$**\n",
    "\n",
    "To properly simulate the posteriors, we would need to create the joint probability spaces $\\ln[p(t, z, \\mu, \\underline{\\ell})]$.\n",
    "From these we would simultaneously draw $t_{i}$, $z_{i}$, $\\mu_{i}$, and $\\underline{\\ell}_{i}$.\n",
    "The supernova lightcurve log-posterior is the evaluation of this probability space at an observed lightcurve $\\underline{\\ell}_{i}$:\n",
    "\n",
    "\\begin{equation*}\n",
    "\\ln[p(t, z, \\mu, \\underline{\\ell}=\\underline{\\ell}_{i})]\\ =\\ \\ln[p(t, z, \\mu | \\underline{\\ell}_{i})]\n",
    "\\end{equation*}\n",
    "\n",
    "However, the space of all lightcurves is highly nontrivial!\n",
    "As a shortcut, we can substitute the space of $\\underline{\\ell}$ with a space of $\\vec{d}_{\\underline{\\ell}}(t, z, \\mu)\\equiv(\\hat{t}, \\hat{z}, \\hat{\\mu})$.\n",
    "This is permitted because we believe the lightcurve contains information about $t$, $z$, and $\\mu$.\n",
    "Furthermore, this substitution will let us make a realistic joint probability space, because we have some physical knowledge of the relationships between the estimators $\\hat{t}$, $\\hat{z}$, and $\\hat{\\mu}$ and the true parameters $t$, $z$, $\\mu$."
   ]
  },
  {
   "cell_type": "markdown",
   "metadata": {},
   "source": [
    "Based on how existing lightcurve fitters work, a lightcurve is generally assigned a class before its redshift and distance modulus are estimated because the fitting function will differ based on the assigned class.\n",
    "Thus, we may assume that the supernova lightcurve posterior is separable as follows:\n",
    "\n",
    "\\begin{equation*}\n",
    "\\ln[p(t, z, \\mu | \\hat{t}, \\hat{z}, \\hat{\\mu})] = \\ln[p(t | \\hat{t})] + \\ln[p(z, \\mu | t, \\hat{t}, \\hat{z}, \\hat{\\mu})]\n",
    "\\end{equation*}\n",
    "\n",
    "*NOTE: This is an overly simplistic assumption because it indicates that the confusion matrix of a classifier is independent of the properties of the lightcurve that tell us about $z$ and $\\mu$.*"
   ]
  },
  {
   "cell_type": "markdown",
   "metadata": {},
   "source": [
    "*Lightcurve classification*\n",
    "\n",
    "The confusion matrix quantifies the probabilities that an item with a true class is assigned a class.\n",
    "(A more in-depth (and wrong!) description of the confusion matrix can be found [here](https://github.com/rbiswas4/SNeLightcurveQualityMetric/blob/master/classification_metric.tex).)\n",
    "We construct the space of $p(t, \\hat{t})$ to be the same for all supernovae in our sample.\n",
    "*NOTE: This model only makes sense for a deterministic classifier that doesn't produce the probabilities we want anyway and will have to be replaced with something more realistic!*\n",
    "\n",
    "We recall that the sum across rows of the confusion matrix is $p(t)$ and the sum down columns is $p(\\hat{t})$.\n",
    "The confusion matrix is specific to each classification method, so we will have to choose one to simulate a realistic mock dataset.\n",
    "For now, we proceed assuming a fairly trivial confusion matrix giving a 50% chance of correct classification for each type and equal probabilities for all misclassifications.\n",
    "*TO DO: read this in from a file created by a realistic classifier.*"
   ]
  },
  {
   "cell_type": "code",
   "execution_count": 15,
   "metadata": {
    "collapsed": false
   },
   "outputs": [],
   "source": [
    "# will need to take this from data of some kind, arbitrary for now\n",
    "conf_mat = (0.25 + 0.25 * np.eye(3)) * frac_types[:, np.newaxis]\n",
    "true_rates = np.sum(conf_mat, axis=1)\n",
    "obs_rates = np.sum(conf_mat, axis=0)\n",
    "assert np.sum(true_rates) == 1.\n",
    "assert np.sum(obs_rates) == 1.\n",
    "conf_mat /= true_rates[:, np.newaxis]\n",
    "\n",
    "assert np.all(np.isclose(true_rates, frac_types))\n",
    "\n",
    "ln_conf_mat = safe_log(conf_mat)"
   ]
  },
  {
   "cell_type": "markdown",
   "metadata": {},
   "source": [
    "Next, we draw observed and true types from the confusion matrix.\n",
    "To do this, we define a function for sampling a discrete probability distribution."
   ]
  },
  {
   "cell_type": "code",
   "execution_count": 16,
   "metadata": {
    "collapsed": true
   },
   "outputs": [],
   "source": [
    "def disc_samp_help(weights):\n",
    "    cdf_vals = np.cumsum(weights) / np.sum(weights)\n",
    "    x = np.random.random()\n",
    "    index = bisect.bisect(cdf_vals, x)\n",
    "    return index\n",
    "\n",
    "def disc_samp(N, weights):\n",
    "    samples = []\n",
    "    for n in range(N):\n",
    "        index  = disc_samp_help(weights)\n",
    "        samples.append(index)\n",
    "    return samples"
   ]
  },
  {
   "cell_type": "markdown",
   "metadata": {},
   "source": [
    "Now we can draw the true and observed types.\n",
    "*NOTE: This is not an efficient way to do this if $p(t|\\hat{t})$ is shared for all SNe, but it will be handy when the placeholder is updated.*"
   ]
  },
  {
   "cell_type": "code",
   "execution_count": 17,
   "metadata": {
    "collapsed": false
   },
   "outputs": [
    {
     "name": "stdout",
     "output_type": "stream",
     "text": [
      "(obs, true) pairs: [(('Ia', 'Ia'), 0.5), (('Ia', 'Ibc'), 0.25), (('Ia', 'II'), 0.25), (('Ibc', 'Ia'), 0.25), (('Ibc', 'Ibc'), 0.5), (('Ibc', 'II'), 0.25), (('II', 'Ia'), 0.25), (('II', 'Ibc'), 0.25), (('II', 'II'), 0.5)]\n"
     ]
    }
   ],
   "source": [
    "pairings = list(itertools.product(types, types))\n",
    "print('(obs, true) pairs: '+str(zip(pairings, conf_mat.flatten())))\n",
    "joint_type_inds = np.array(disc_samp(n_sne, conf_mat.flatten()))\n",
    "joint_types = [pairings[jti] for jti in joint_type_inds]\n",
    "type_posts = [conf_mat[ot%n_types] for ot in joint_type_inds]\n",
    "# print(joint_type_inds, type_posts)"
   ]
  },
  {
   "cell_type": "markdown",
   "metadata": {},
   "source": [
    "*Lightcurve parameter fitting*\n",
    "\n",
    "In order to produce $p(z, \\mu | t, \\hat{t}, \\hat{z}, \\hat{\\mu})$, we must construct a six-dimensional distribution in the space of $t$, $z$, $\\mu$, $\\hat{t}$, $\\hat{z}$, and $\\hat{\\mu}$.\n",
    "To avoid this challenge, we'll take a shortcut by assuming independence of redshift and distance modulus:\n",
    "\n",
    "\\begin{equation*}\n",
    "\\ln[p(z, \\mu | t, \\hat{t}, \\hat{z}, \\hat{\\mu})] = \\ln[p(z | t, \\hat{t}, \\hat{z})] + \\ln[p(\\mu | t, \\hat{t}, \\hat{\\mu})]\n",
    "\\end{equation*}\n",
    "\n",
    "*NOTE: This is not a good assumption, but I don't know what this space should look like.*\n",
    "\n",
    "Now we need only come up with nine pairs of two-dimensional distributions, and we have a good idea of what they look like."
   ]
  },
  {
   "cell_type": "markdown",
   "metadata": {},
   "source": [
    "For now, let's model $p(z, \\hat{z} | t, \\hat{t})$ as nine two-dimensional true vs. observed redshift distributions weighted by the true redshift-dependent type proportions and the observed redshift errors\n",
    "\n",
    "\\begin{equation*}\n",
    "\\ln[p(z, \\hat{z} | t, \\hat{t})] = \\ln[p(\\hat{z} | \\hat{t}, z)] + \\ln[p(z | t)].\n",
    "\\end{equation*}"
   ]
  },
  {
   "cell_type": "markdown",
   "metadata": {},
   "source": [
    "$p(z | t)$ is simply $\\underline{\\phi}$ evaluated over type $t$."
   ]
  },
  {
   "cell_type": "code",
   "execution_count": 18,
   "metadata": {
    "collapsed": false
   },
   "outputs": [],
   "source": [
    "true_zs = np.empty(n_sne)\n",
    "for n in range(n_sne):\n",
    "    true_zs[n] = true_n_of_z[joint_type_inds[n]%n_types].rvs(1)"
   ]
  },
  {
   "cell_type": "markdown",
   "metadata": {},
   "source": [
    "We can model $p(\\hat{z} | \\hat{t}, z)$ as being a Gaussian distribution $\\hat{z}\\sim N(z, \\sigma_{\\hat{t}})$ for some known and shared $\\sigma_{\\hat{t}}$.\n",
    "This model makes sense because one would expect the redshift errors to be similar across classified types due to how many spectra were available for learning how to get the redshifts.\n",
    "\n",
    "*NOTE: I don't even know if this placeholder is reasonable. . .*\n",
    "\n",
    "*NOTE: $p(z, \\hat{z} | \\hat{t})$ can and should be much more complex and realistic, and different for each SN!*"
   ]
  },
  {
   "cell_type": "code",
   "execution_count": 19,
   "metadata": {
    "collapsed": true
   },
   "outputs": [],
   "source": [
    "z_obs_sigs = {}\n",
    "z_obs_sigs['Ia'] = 0.01\n",
    "z_obs_sigs['Ibc'] = 0.1\n",
    "z_obs_sigs['II'] = 0.05\n",
    "\n",
    "obs_zs = np.empty(n_sne)\n",
    "for n in range(n_sne):\n",
    "    obs_zs[n] = sps.norm(true_zs[n], z_obs_sigs[joint_types[n][1]]).rvs(1)\n",
    "    \n",
    "# z_plane_true, z_plane_obs = {}, {}\n",
    "# for t in types:\n",
    "#     z_plane_true[t] = true_n_of_z[t]\n",
    "#     z_plane_obs[t] = sps.multivariate_normal()\n",
    "# z_funcs = []\n",
    "# for p in pairings:\n",
    "#     def pdf_func(z, zhat):\n",
    "#         return z_plane_true[t].pdf(z) * \n",
    "#     z_funcs.append()\n",
    "    \n",
    "# # plot evaluation using .pdf"
   ]
  },
  {
   "cell_type": "markdown",
   "metadata": {},
   "source": [
    "Now we can make the plot of the joint probability space and the $(z, \\hat{z})$ points drawn."
   ]
  },
  {
   "cell_type": "code",
   "execution_count": null,
   "metadata": {
    "collapsed": true
   },
   "outputs": [],
   "source": []
  },
  {
   "cell_type": "markdown",
   "metadata": {},
   "source": [
    "Once we have drawn the $\\hat{z}$, we can evaluate $p(z | \\hat{t}, \\hat{z})$ as the values of $p(\\hat{z} | \\hat{t}, z)$ where $z=\\hat{z}$."
   ]
  },
  {
   "cell_type": "code",
   "execution_count": 20,
   "metadata": {
    "collapsed": false
   },
   "outputs": [
    {
     "ename": "IndexError",
     "evalue": "index 99 is out of bounds for axis 0 with size 99",
     "output_type": "error",
     "traceback": [
      "\u001b[0;31m---------------------------------------------------------------------------\u001b[0m",
      "\u001b[0;31mIndexError\u001b[0m                                Traceback (most recent call last)",
      "\u001b[0;32m<ipython-input-20-4bc61875ac42>\u001b[0m in \u001b[0;36m<module>\u001b[0;34m()\u001b[0m\n\u001b[1;32m      5\u001b[0m \u001b[0mz_prob_plane\u001b[0m \u001b[0;34m=\u001b[0m \u001b[0;34m{\u001b[0m\u001b[0;34m}\u001b[0m\u001b[0;34m\u001b[0m\u001b[0m\n\u001b[1;32m      6\u001b[0m \u001b[0;32mfor\u001b[0m \u001b[0mt\u001b[0m \u001b[0;32min\u001b[0m \u001b[0mtypes\u001b[0m\u001b[0;34m:\u001b[0m\u001b[0;34m\u001b[0m\u001b[0m\n\u001b[0;32m----> 7\u001b[0;31m     \u001b[0mz_prob_plane\u001b[0m\u001b[0;34m[\u001b[0m\u001b[0mt\u001b[0m\u001b[0;34m]\u001b[0m \u001b[0;34m=\u001b[0m \u001b[0;34m[\u001b[0m\u001b[0msps\u001b[0m\u001b[0;34m.\u001b[0m\u001b[0mnorm\u001b[0m\u001b[0;34m(\u001b[0m\u001b[0mz_fine_eval\u001b[0m\u001b[0;34m[\u001b[0m\u001b[0mi\u001b[0m\u001b[0;34m]\u001b[0m\u001b[0;34m,\u001b[0m \u001b[0mz_obs_sigs\u001b[0m\u001b[0;34m[\u001b[0m\u001b[0mt\u001b[0m\u001b[0;34m]\u001b[0m\u001b[0;34m)\u001b[0m \u001b[0;32mfor\u001b[0m \u001b[0mi\u001b[0m \u001b[0;32min\u001b[0m \u001b[0mrange\u001b[0m\u001b[0;34m(\u001b[0m\u001b[0mn_zs_fine\u001b[0m\u001b[0;34m)\u001b[0m\u001b[0;34m]\u001b[0m\u001b[0;34m\u001b[0m\u001b[0m\n\u001b[0m\u001b[1;32m      8\u001b[0m \u001b[0;34m\u001b[0m\u001b[0m\n\u001b[1;32m      9\u001b[0m \u001b[0mlc_pzt\u001b[0m \u001b[0;34m=\u001b[0m \u001b[0mnp\u001b[0m\u001b[0;34m.\u001b[0m\u001b[0mempty\u001b[0m\u001b[0;34m(\u001b[0m\u001b[0;34m(\u001b[0m\u001b[0mn_sne\u001b[0m\u001b[0;34m,\u001b[0m \u001b[0mn_types\u001b[0m\u001b[0;34m,\u001b[0m \u001b[0mn_zs\u001b[0m\u001b[0;34m-\u001b[0m\u001b[0;36m1\u001b[0m\u001b[0;34m)\u001b[0m\u001b[0;34m)\u001b[0m\u001b[0;34m\u001b[0m\u001b[0m\n",
      "\u001b[0;31mIndexError\u001b[0m: index 99 is out of bounds for axis 0 with size 99"
     ]
    }
   ],
   "source": [
    "n_zs_fine = 100\n",
    "z_fine_grid = np.linspace(min_z, max_z, num=n_zs_fine, endpoint=True)\n",
    "z_fine_eval = (z_fine_grid[1:] + z_fine_grid[:-1]) / 2.\n",
    "\n",
    "z_prob_plane = {}\n",
    "for t in types:\n",
    "    z_prob_plane[t] = [sps.norm(z_fine_eval[i], z_obs_sigs[t]) for i in range(n_zs_fine)]\n",
    "\n",
    "lc_pzt = np.empty((n_sne, n_types, n_zs-1))\n",
    "for n in range(n_sne):\n",
    "    for t in range(n_types):\n",
    "        for f in range(n_zs_fine):\n",
    "            lc_pz[n][f] = z_prob_plane[t][f].pdf(obs_zs[n])"
   ]
  },
  {
   "cell_type": "markdown",
   "metadata": {},
   "source": [
    "Here we plot a histogram of the true redshift values for the three types of supernovae, along with the redshift-dependent type functions from which they were drawn."
   ]
  },
  {
   "cell_type": "markdown",
   "metadata": {},
   "source": [
    "then table for $\\mu, \\hat{\\mu}$ plane using below. . ."
   ]
  },
  {
   "cell_type": "code",
   "execution_count": null,
   "metadata": {
    "collapsed": true
   },
   "outputs": [],
   "source": []
  },
  {
   "cell_type": "markdown",
   "metadata": {},
   "source": [
    "If we do this, the quantity we want is really $p(z, \\mu | t, t'_{i})$.\n",
    "We can obtain this knowing how lightcurve fitters, in general, estimate redshifts $z$ and distance moduli $\\mu$ under all possible combinations of $t_{i}'$ and $t$.\n",
    "We will construct functions that aim to simulate the signatures of misclassification in the Hubble diagram [like the one here](http://iopscience.iop.org/article/10.1088/0004-637X/752/2/79/meta;jsessionid=620BA2E6C84CD7FD5AC88DDB72680B0C.ip-10-40-2-120#apj429245f3).\n",
    "Currently, we use placeholder functions that will be replaced later on as information about the consequences of fitting with the wrong function becomes available.\n",
    "The table below summarizes the fitting function for each true type given a classification of type $Ia$.\n",
    "All other classified types are assumed to give a distribution that is uniform in $\\mu$ and Gaussian in $z$ according to the same prescription used for the photo-$z$ PDFs.\n",
    "\n",
    "| True Type $t_{i}'$ | Functional Form of posterior $p(z, \\mu | t, t'_{i})$ for $t=Ia$|\n",
    "| :----------------: | :------------------------------------------------------------: |\n",
    "| Ia | $\\vec{\\mathcal{N}}((z_{i}'', \\mu_{i}''), \\underline{\\Sigma}_{t_{i}'=Ia})$ where $\\underline{\\Sigma}_{t_{i}'=Ia}=(\\sigma^{2}_{z_{i},Ia}, \\sigma^{2}_{\\mu_{i},Ia})\\times\\underline{I}$ and $(z_{i}'', \\mu_{i}'')\\sim\\vec{\\mathcal{N}}((z_{i}', \\mu_{i}'), \\underline{\\Sigma}_{t_{i}'=Ia})$ |\n",
    "| Ibc | $\\vec{\\mathcal{N}}((z_{i}'', \\mu_{i}''), \\underline{\\Sigma}_{t_{i}'=Ibc})$ where $\\underline{\\Sigma}_{t_{i}'=Ibc}=(\\sigma^{2}_{z_{i},Ibc}, \\sigma^{2}_{\\mu_{i},Ibc})\\times\\underline{I}$ and $(z_{i}'', \\mu_{i}'')\\sim\\vec{\\mathcal{N}}((z_{i}', \\mu_{i}' - C_{Ibc}), \\underline{\\Sigma}_{t_{i}'=Ibc})$ for survey-wide constant $C_{Ibc}$ |\n",
    "| II | $\\vec{\\mathcal{N}}((z_{i}'', \\mu_{i}''), \\underline{\\Sigma}_{t_{i}'=II})$ where $\\underline{\\Sigma}_{t_{i}'=II}=(\\sigma^{2}_{z_{i},II}, \\sigma^{2}_{\\mu_{i},II})\\times\\underline{I}$ and $(z_{i}'', \\mu_{i}'')\\sim\\vec{\\mathcal{N}}((z_{i}', C_{II}), \\underline{\\Sigma}_{t_{i}'=II})$ for survey-wide constant $C_{II}$ |\n",
    "\n",
    "In a future revision, the values of $\\sigma^{2}_{z_{i},t}$ and $\\sigma^{2}_{\\mu_{i},t}$ for each type $t$ will be replaced by random variables themselves representing the intrinsic variation among lightcurves, but for now they are constant for all $i$."
   ]
  },
  {
   "cell_type": "code",
   "execution_count": null,
   "metadata": {
    "collapsed": false
   },
   "outputs": [],
   "source": [
    "# must set nuisance parameters inherent in process of producing interim posteriors from lightcurves\n",
    "Ia_Ia_var = np.array([0.001, 0.02]) ** 2\n",
    "Ibc_Ia_delta = 0.25\n",
    "Ibc_Ia_var = np.array([0.001, 0.01]) ** 2\n",
    "II_Ia_delta = np.mean(mu_mids)\n",
    "II_Ia_var = np.array([0.002, 0.04]) ** 2\n",
    "\n",
    "# cake_shape = np.zeros((n_zs-1, n_mus-1))\n",
    "\n",
    "# definitely needs more work on what (z, mu) distributions are expected when lightcurves are fit with wrong templates\n",
    "# just made it flat for now\n",
    "\n",
    "def fit_Ia(z, mu, vb=False):\n",
    "#     cake = unity_hubble#np.zeros((n_types, n_zs-1, n_mus-1))\n",
    "    cake_Ia = sps.multivariate_normal(mean = np.array([z, mu]), cov = Ia_Ia_var * np.eye(2))\n",
    "    [z_samp, mu_samp] = cake_Ia.rvs()\n",
    "    cake_Ia = sps.multivariate_normal(mean = np.array([z_samp, mu_samp]), cov = Ia_Ia_var * np.eye(2))\n",
    "    cake = normalize_hubble(cake_Ia.pdf(z_mu_grid.reshape(((n_zs-1)*(n_mus-1), 2))).reshape((n_zs-1, n_mus-1)), vb=vb)\n",
    "    return cake\n",
    "    \n",
    "def fit_Ibc(z, mu, vb=False):\n",
    "#     cake = np.zeros((n_types, n_zs-1, n_mus-1))\n",
    "    cake_Ia = sps.multivariate_normal(mean = np.array([z, mu - Ibc_Ia_delta]), cov = Ibc_Ia_var * np.eye(2))\n",
    "    [z_samp, mu_samp] = cake_Ia.rvs()\n",
    "    cake_Ia = sps.multivariate_normal(mean = np.array([z_samp, mu_samp]), cov = Ibc_Ia_var * np.eye(2))\n",
    "    cake = normalize_hubble(cake_Ia.pdf(z_mu_grid.reshape(((n_zs-1)*(n_mus-1), 2))).reshape((n_zs-1, n_mus-1)), vb=vb)\n",
    "    return cake\n",
    "    \n",
    "def fit_II(z, mu, vb=False):\n",
    "#     cake = np.zeros((n_types, n_zs-1, n_mus-1))\n",
    "    cake_Ia = sps.multivariate_normal(mean = np.array([z, II_Ia_delta]), cov = II_Ia_var * np.eye(2))\n",
    "    [z_samp, mu_samp] = cake_Ia.rvs()\n",
    "    cake_Ia = sps.multivariate_normal(mean = np.array([z_samp, mu_samp]), cov = II_Ia_var * np.eye(2))\n",
    "    cake = normalize_hubble(cake_Ia.pdf(z_mu_grid.reshape(((n_zs-1)*(n_mus-1), 2))).reshape((n_zs-1, n_mus-1)), vb=vb)\n",
    "    return cake"
   ]
  },
  {
   "cell_type": "code",
   "execution_count": null,
   "metadata": {
    "collapsed": false
   },
   "outputs": [],
   "source": [
    "z_sigma = 0.03\n",
    "\n",
    "def fit_any(true_vals, vb=False):\n",
    "#     print(unity_one)\n",
    "    cake = np.zeros((n_types, n_zs-1, n_mus-1))#unity_one.copy()\n",
    "#     print(unity_one)\n",
    "    if true_vals['t'] == 'Ia':\n",
    "        cake[0] = fit_Ia(true_vals['z'], true_vals['mu'], vb=vb)\n",
    "        ln_conf = ln_conf_matrix[0]\n",
    "    if true_vals['t'] == 'Ibc':\n",
    "        cake[0] = fit_Ibc(true_vals['z'], true_vals['mu'], vb=vb)\n",
    "        ln_conf = ln_conf_matrix[1]\n",
    "    if true_vals['t'] == 'II':\n",
    "        cake[0] = fit_II(true_vals['z'], true_vals['mu'], vb=vb)\n",
    "        ln_conf = ln_conf_matrix[2]\n",
    "    if vb: print(np.exp(ln_conf))\n",
    "    dist = sps.norm(loc = true_vals['z'], scale = z_sigma)\n",
    "    z_means = dist.rvs(2)\n",
    "    layer_Ibc = sps.norm(loc = z_means[0], scale = z_sigma).pdf(z_mids)\n",
    "#     print(layer_Ibc)\n",
    "    layer_II = sps.norm(loc = z_means[1], scale = z_sigma).pdf(z_mids)\n",
    "#     print(layer_II)\n",
    "    cake[1] = normalize_hubble(unity_hubble * layer_Ibc[:, np.newaxis], vb=vb)\n",
    "    cake[2] = normalize_hubble(unity_hubble * layer_II[:, np.newaxis], vb=vb)\n",
    "#     cake = normalize_one(cake)\n",
    "    if not np.all(cake>=0.):\n",
    "        print(true_vals)\n",
    "        assert False\n",
    "    cake = reg_vals(safe_log(cake) + ln_conf[:, np.newaxis, np.newaxis])\n",
    "#     cake = safe_log(normalize_one(np.exp(cake)))\n",
    "    if vb: print(np.sum(np.sum(np.exp(cake) * z_difs[np.newaxis, :, np.newaxis] * mu_difs[np.newaxis, np.newaxis, :], axis=2), axis=1))\n",
    "    return cake\n",
    "\n",
    "def fit_all(catalog, vb=False):\n",
    "    dessert = []\n",
    "    i=0\n",
    "    for true_vals in catalog:\n",
    "        if vb: print(i)\n",
    "        thing = fit_any(true_vals, vb=vb)\n",
    "        try:\n",
    "            dessert.append(thing)\n",
    "        except AssertionError:\n",
    "            print('error '+str(thing))\n",
    "        i += 1\n",
    "    return np.array(dessert)\n",
    "\n",
    "sheet_cake = fit_all(true_params, vb=False)\n",
    "sheet_cake = reg_vals(safe_log(normalize_all(np.exp(sheet_cake), vb=False)))\n",
    "\n",
    "# assert(not np.any(np.isnan(hub_only_sheet_cake)))\n",
    "# sheet_cake = hub_only_sheet_cake + ln_conf_matrix[np.newaxis, :, np.newaxis, np.newaxis]\n",
    "# exp_sheet_cake = np.exp(sheet_cake)\n",
    "# sheet_cake_norm = np.sum(np.sum(np.sum(exp_sheet_cake * z_difs[np.newaxis, np.newaxis, :, np.newaxis] * mu_difs[np.newaxis, np.newaxis, np.newaxis, :], axis=3), axis=2), axis=1)\n",
    "# exp_sheet_cake /= sheet_cake_norm[:, np.newaxis, np.newaxis, np.newaxis]\n",
    "# # print(np.sum(exp_sheet_cake * z_difs[np.newaxis, np.newaxis, :, np.newaxis] * mu_difs[np.newaxis, np.newaxis, np.newaxis, :]))\n",
    "# assert np.isclose(np.sum(exp_sheet_cake * z_difs[np.newaxis, np.newaxis, :, np.newaxis] * mu_difs[np.newaxis, np.newaxis, np.newaxis, :]), n_sne)\n",
    "# sheet_cake = safe_log(exp_sheet_cake)"
   ]
  },
  {
   "cell_type": "markdown",
   "metadata": {},
   "source": [
    "We plot a handful of these posteriors.  Each row is the log-posterior for a different supernova in the catalog.  The columns represent the log-posterior in the space of $z$ and $\\mu$ (Hubble diagram-space) for that supernova if it were classified as type $Ia$, type $Ibc$ and type $II$.  The true $z$ and $\\mu$ for each are also plotted.  The title of each panel gives the true type for each supernova.  We can see the effect on the posterior for $z$ and $\\mu$ based on each combination of true and classified type."
   ]
  },
  {
   "cell_type": "code",
   "execution_count": null,
   "metadata": {
    "collapsed": false
   },
   "outputs": [],
   "source": [
    "# exp_sheet_cake = np.exp(sheet_cake)\n",
    "# pmin, pmax = 0., np.max(exp_sheet_cake)\n",
    "\n",
    "\n",
    "# happily, these look like what we see in contaminated hubble diagrams!\n",
    "fig = plt.subplots(figsize=(n_types*5, n_types*5))\n",
    "p = 0\n",
    "for s in posters:#range(n_sne)[:len(colors)]:\n",
    "    type_dist = np.sum(np.sum(np.exp(sheet_cake[s]) * mu_difs[np.newaxis, np.newaxis, :] * z_difs[np.newaxis, :, np.newaxis], axis=2), axis=1)\n",
    "    for t in range(n_types):\n",
    "        p += 1\n",
    "        plt.subplot(n_types, n_types, p)\n",
    "#         print(t, np.sum(np.exp(sheet_cake[s][t]) * z_difs[:, np.newaxis] * mu_difs[np.newaxis, :]))\n",
    "#         print(np.min(sheet_cake[s][t]), np.max(sheet_cake[s][t]), np.sum(sheet_cake[s][t]))\n",
    "        plt.pcolormesh(z_bins, mu_bins, sheet_cake[s][t].T, cmap='viridis', vmin=pmin, vmax=pmax)\n",
    "        plt.colorbar()#orientation='horizontal')\n",
    "        plt.scatter(true_params[s]['z'], true_params[s]['mu'], color='r')\n",
    "        plt.title(str(type_dist[t])+' true '+true_params[s]['t']+', class '+types[t])\n",
    "        plt.xlabel(r'$z$')\n",
    "        plt.ylabel(r'$\\mu$')\n",
    "        plt.axis([z_bins[0], z_bins[-1], mu_bins[0], mu_bins[-1]])\n",
    "\n",
    "plt.show()\n",
    "plt.savefig('plots/snlc_posteriors.png')"
   ]
  },
  {
   "cell_type": "markdown",
   "metadata": {},
   "source": [
    "**Supernova lightcurve selection function**\n",
    "\n",
    "$\\ln[p(t, z, \\mu | \\underline{\\alpha})]$\n",
    "\n",
    "We want to go directly to $p(t, z, \\mu | \\underline{\\alpha})$ knowing only $p(\\underline{\\ell} | \\vec{\\alpha})$ and $p(t, z, \\mu | \\underline{\\ell})$. We note that in the empirical approach, because $\\mu$ is determined by $z$ in the probailistic graphical model, we can say $p(t, z, \\mu | \\underline{\\alpha}) = p(t, z | \\underline{\\alpha}) = \\int\\ p(t, z | \\underline{\\ell})\\ p(\\underline{\\ell} | \\underline{\\alpha})\\ d\\underline{\\ell}$."
   ]
  },
  {
   "cell_type": "code",
   "execution_count": null,
   "metadata": {
    "collapsed": true
   },
   "outputs": [],
   "source": [
    "# We emulate this using data from a realistic supernova simulation.\n",
    "# We want the number of supernovae as a function of redshift and SN type.\n",
    "# (The cadence studies with SNANA should have this.)\n",
    "# Using a realistic set of selection cuts, we want to calculate the recovered fraction\n",
    "# of SN as a function of SN type and redshift under a given survey strategy\n",
    "# relative to the \"best possible\" survey strategy.\n",
    "if not (os.path.exists('data/ratios_wfd.txt') and os.path.exists('data/ratios_ddf.txt')):\n",
    "    print('WARNING: No SN LC selection function data found in `data` directory, using flat SN LC selection function instead.')\n",
    "    sn_sel_fun = unity_zt.copy()\n",
    "else:\n",
    "    with open('data/ratios_wfd.txt', 'r') as wfd_file:\n",
    "    #     wfd_file.next()\n",
    "        tuples = (line.split(None) for line in wfd_file)\n",
    "        wfddata = [[pair[k] for k in range(0,len(pair))] for pair in tuples]\n",
    "    n_sel_fun_zs = 6\n",
    "    zs_eval = np.array([float(wfddata[i][0]) for i in range(1, n_sel_fun_zs)])\n",
    "    wfd_data = np.array([np.array([int(wfddata[i][2 * j]) for j in range(1, (len(wfddata[i]))/2+1)]) for i in range(1, n_sel_fun_zs)])\n",
    "    wfd_data[np.isnan(wfd_data)] = 0.\n",
    "    # print(wfd_data)\n",
    "    with open('data/ratios_ddf.txt', 'r') as ddf_file:\n",
    "    #     ddf_file.next()\n",
    "        tuples = (line.split(None) for line in ddf_file)\n",
    "        ddfdata = [[pair[k] for k in range(0,len(pair))] for pair in tuples]\n",
    "    ddf_data = np.array([np.array([float(ddfdata[i][2 * j]) for j in range(1, (len(ddfdata[i]))/2+1)]) for i in range(1, n_sel_fun_zs)])\n",
    "    # print(ddf_data)\n",
    "    # these are the recovery rates\n",
    "    sn_sel_fun_in = np.transpose(wfd_data / ddf_data)\n",
    "    # sn_sel_fun = sn_sel_fun.T\n",
    "    # print(sn_sel_fun)\n",
    "# It's actually a big problem for the selection function to go to 0 or exceed 1.\n",
    "# Note: these need to be normalized by survey volume so are not valid at this time!"
   ]
  },
  {
   "cell_type": "code",
   "execution_count": null,
   "metadata": {
    "collapsed": false
   },
   "outputs": [],
   "source": [
    "#need to fix this to interpolate selection function to grid but broken for now\n",
    "# #purity = # real classified as real / all classified as real\n",
    "# #want real classified as real / all true real\n",
    "# #for now using purity as what we want\n",
    "# #should use really low purity for testing to check that it's doing something!\n",
    "# #need this to be # types * # z bins in shape\n",
    "sn_sel_fun_out = np.ones((n_types, n_zs-1))\n",
    "\n",
    "for t in range(n_types):\n",
    "    interpolator = spi.interp1d(zs_eval, sn_sel_fun_in[t])\n",
    "    interpolated = interpolator(z_mids)\n",
    "    sn_sel_fun_out[t] = interpolated\n",
    "# uniform selection in type\n",
    "# sn_sel_fun = np.vstack((interpolated, interpolated, interpolated))#((interpolated, 1.*interpolated/3., 2.*interpolated/3.))\n",
    "#should divide this by DDF, for now say it's perfect\n",
    "# sn_sel_fun /= np.ones((n_types, n_zs))\n",
    "# sn_sel_fun_out = np.ones((n_types, n_zs-1))\n",
    "sn_sel_fun_z = normalize_zt(sn_sel_fun_out, vb=True)\n",
    "\n",
    "plt.figure(figsize=(5, 5))\n",
    "for t in range(n_types):\n",
    "    plt.plot(z_mids, sn_sel_fun_z[t], label=types[t], color=colors[t])\n",
    "plt.xlabel(r'$z$')\n",
    "plt.ylabel('recovery fraction')\n",
    "plt.legend(loc='upper right')\n",
    "plt.savefig('plots/lc_sel_func.png')"
   ]
  },
  {
   "cell_type": "code",
   "execution_count": null,
   "metadata": {
    "collapsed": false
   },
   "outputs": [],
   "source": [
    "#will need this for inference, should write to file and skeleton should read it in\n",
    "sn_sel_fun = normalize_one(sn_sel_fun_z[:, :, np.newaxis] * unity_one, vb=True)\n",
    "# sn_sel_fun_norm = np.sum(sn_sel_fun * z_difs[np.newaxis, :])\n",
    "# sn_sel_fun /= sn_sel_fun_norm\n",
    "# assert np.isclose(np.sum(sn_sel_fun * z_difs[np.newaxis, :]), 1.)\n",
    "ln_sn_selection_function = safe_log(sn_sel_fun)\n",
    "\n",
    "#ignore this because these are not probabilities!\n",
    "# sn_selection_function = np.ones((n_types, n_zs-1, n_mus-1))\n",
    "# sn_selection_function /= np.sum(sn_selection_function * z_difs[np.newaxis, :, np.newaxis] * mu_difs[np.newaxis, np.newaxis, :])\n",
    "# ln_sn_selection_function = safe_log(sn_selection_function)\n",
    "\n",
    "selfunmin, selfunmax = np.min(ln_sn_selection_function), np.max(ln_sn_selection_function)\n",
    "fig = plt.figure(figsize=(n_types*6, 5))\n",
    "p = 0\n",
    "for t in range(n_types):\n",
    "    p += 1\n",
    "    plt.subplot(1, n_types, p)\n",
    "    plt.pcolormesh(z_bins, mu_bins, ln_sn_selection_function[t].T, cmap='viridis', vmin=selfunmin, vmax=selfunmax)\n",
    "    plt.colorbar()\n",
    "    plt.title('log selection function for '+types[t])\n",
    "    plt.xlabel(r'$z$')\n",
    "    plt.ylabel(r'$\\mu$')\n",
    "#     plt.legend(loc='upper left')\n",
    "    plt.axis([z_bins[0], z_bins[-1], mu_bins[0], mu_bins[-1]])\n",
    "plt.savefig('plots/lc_sel_fun_full.png')"
   ]
  },
  {
   "cell_type": "markdown",
   "metadata": {},
   "source": [
    "**Supernova lightcurve interim prior**\n",
    "\n",
    "$\\ln[p(t, z, \\mu | \\underline{\\Phi}^{*})$\n",
    "\n",
    "To transform our posteriors into interim posteriors that accurately represent what we expect a real data analysis pipeline to produce, we must choose interim priors.  The interim prior represents the $p(t, z, \\mu)$ that is used in the estimation of log-posterior probabilities -- our assumptions about $p(t_{n}, z_{n}, \\mu_{n} | \\underline{\\ell}_{n})$ are parametrized by the interim prior parameters comprising $\\underline{\\Phi}^{*}$, so the closest we can get to the desired posteriors is the interim posteriors $\\ln[p(t_{n}, z_{n}, \\mu_{n} | \\underline{\\ell}_{n}, \\underline{\\Phi}^{*})].\n",
    "\n",
    "This section is about making the interim prior $\\ln[p(t, z, \\mu | \\underline{\\xi})]$."
   ]
  },
  {
   "cell_type": "code",
   "execution_count": null,
   "metadata": {
    "collapsed": true
   },
   "outputs": [],
   "source": [
    "# could replace this with non-flat\n",
    "# SN interim prior in z-dependent type proportion space\n",
    "sn_interim_nz = np.ones((n_types, n_zs-1))#this is flat, replace this with nontrivial interim prior on types and redshifts\n",
    "# sn_interim_nz /= np.sum(sn_interim_nz * z_difs[np.newaxis, :])\n",
    "# assert np.isclose(np.sum(sn_interim_nz * z_difs[np.newaxis, :]), 1.)\n",
    "sn_interim_nz = normalize_zt(sn_interim_nz)"
   ]
  },
  {
   "cell_type": "code",
   "execution_count": null,
   "metadata": {
    "collapsed": false
   },
   "outputs": [],
   "source": [
    "for t in range(n_types):\n",
    "    plt.plot(z_mids, sn_interim_nz[t], label=types[t], color=colors[t])\n",
    "plt.xlabel(r'$z$')\n",
    "plt.ylabel('redshift-dependent SN type proportions interim prior')\n",
    "plt.legend(loc='upper right')\n",
    "plt.savefig('plots/lc_int_pr.png')"
   ]
  },
  {
   "cell_type": "code",
   "execution_count": null,
   "metadata": {
    "collapsed": false
   },
   "outputs": [],
   "source": [
    "sn_interim_nz = normalize_one(unity_one * sn_interim_nz[:, :, np.newaxis])\n",
    "ln_sn_interim_nz = safe_log(sn_interim_nz)"
   ]
  },
  {
   "cell_type": "code",
   "execution_count": null,
   "metadata": {
    "collapsed": false
   },
   "outputs": [],
   "source": [
    "# flat prior on redshift-dependent SNe proportions, replace with SDSS n(z)\n",
    "# interim_n_of_z = np.ones((n_types, n_zs-1))\n",
    "# interim_n_of_z /= np.sum(interim_n_of_z * z_difs[np.newaxis, :])\n",
    "# assert np.isclose(np.sum(interim_n_of_z * z_difs[np.newaxis, :]), 1.)\n",
    "# interim_ln_n_of_z = safe_log(interim_n_of_z)\n",
    "\n",
    "# read these off Planck plots\n",
    "interim_H0 = true_H0#70.0\n",
    "delta_H0 = 2.2# * 10.\n",
    "interim_Om0 = true_Om0#1. - 0.721\n",
    "delta_Om0 = 0.025# * 10.\n",
    "interim_Ode0 = true_Ode0\n",
    "delta_Ode0 = 0.025 * 10.\n",
    "interim_w0 = -1.0#true_w0\n",
    "delta_w0 = 0.05#0.2# * 10.\n",
    "interim_wa = 0.0#true_wa\n",
    "delta_wa = 0.05#1.5# * 10.\n",
    "interim_cosmo_hyperparams = np.array([interim_w0, interim_wa])\n",
    "interim_cosmo_hyperparam_sigmas = np.array([delta_w0, delta_wa])\n",
    "interim_cosmo_hyperparam_vars = (interim_cosmo_hyperparam_sigmas) * np.eye(n_hyperparams)\n",
    "interim_dist = sps.multivariate_normal(mean = interim_cosmo_hyperparams, cov = interim_cosmo_hyperparam_vars)\n",
    "interim_cosmo = cosmology.w0waCDM(interim_H0, interim_Om0, interim_Ode0, w0=interim_w0, wa=interim_wa)\n",
    "def inverter(z, mu):\n",
    "    #note: this inverter is slow! perhaps we could speed it up with interpolation over predefined grids?\n",
    "    def cosmo_helper(hyperparams):\n",
    "        return np.array([abs(cosmology.w0waCDM(interim_H0, interim_Om0, interim_Ode0, w0=hyperparams[0], wa=hyperparams[1]).distmod(z).value - mu)])\n",
    "    solved_cosmo = spo.minimize(cosmo_helper, interim_cosmo_hyperparams, method=\"Nelder-Mead\", options={\"maxfev\": 1e5, \"maxiter\":1e5})\n",
    "    prob = interim_dist.pdf(solved_cosmo.x)\n",
    "    return prob#max(prob, sys.float_info.epsilon)\n",
    "\n",
    "# interim_H0 = true_H0#70.0\n",
    "# delta_H0 = 2.2# * 10.\n",
    "# interim_Om0 = true_Om0#1. - 0.721\n",
    "# delta_Om0 = 0.025#*10\n",
    "# interim_cosmo_hyperparams = np.array([interim_H0, interim_Om0])\n",
    "# interim_cosmo_hyperparam_sigmas = np.array([delta_H0, delta_Om0])\n",
    "# interim_cosmo_hyperparam_vars =  interim_cosmo_hyperparam_sigmas * np.eye(n_hyperparams)\n",
    "# interim_dist = sps.multivariate_normal(mean = interim_cosmo_hyperparams, cov = interim_cosmo_hyperparam_vars)\n",
    "# interim_cosmo = cosmology.FlatLambdaCDM(H0=interim_H0, Om0=interim_Om0)\n",
    "# def inverter(z, mu):\n",
    "#     #note: this inverter is slow! perhaps we could speed it up with interpolation over predefined grids?\n",
    "#     def cosmo_helper(hyperparams):\n",
    "#         return np.array([abs(cosmology.FlatLambdaCDM(H0=hyperparams[0], Om0=hyperparams[1]).distmod(z).value - mu)])\n",
    "#     solved_cosmo = spo.minimize(cosmo_helper, interim_cosmo_hyperparams, method=\"Nelder-Mead\", options={\"maxfev\": 1e5, \"maxiter\":1e5})\n",
    "#     prob = interim_dist.pdf(solved_cosmo.x)\n",
    "#     assert(not np.isnan(prob))\n",
    "#     return prob#max(prob, sys.float_info.epsilon)\n",
    "\n",
    "# may have to change this if nontrivial covariances between hyperparameters=\n",
    "#interim_hyperparams['theta'] = np.array([interim_cosmo_hyperparams, interim_cosmo_hyperparam_sigmas])\n",
    "#interim_hyperparams['phi'] = interim_ln_n_of_z"
   ]
  },
  {
   "cell_type": "code",
   "execution_count": null,
   "metadata": {
    "collapsed": false
   },
   "outputs": [],
   "source": [
    "# SN interim prior in Hubble diagram space\n",
    "sn_interim_hubble = np.zeros((n_zs-1, n_mus-1))\n",
    "for z in range(n_zs-1):\n",
    "    for mu in range(n_mus-1):\n",
    "        prob = inverter(z_mids[z], mu_mids[mu])\n",
    "        sn_interim_hubble[z][mu] = prob\n",
    "# print(np.sum(sn_interim_hubble * z_difs[:, np.newaxis] * mu_difs[np.newaxis, :]))\n",
    "sn_interim_hubble = normalize_hubble(sn_interim_hubble)\n",
    "ln_sn_interim_hubble = safe_log(sn_interim_hubble)\n"
   ]
  },
  {
   "cell_type": "code",
   "execution_count": null,
   "metadata": {
    "collapsed": false
   },
   "outputs": [],
   "source": [
    "# fig = plt.figure(figsize=(5, 5))\n",
    "# plt.pcolormesh(z_bins, mu_bins, ln_sn_interim_hubble.T, cmap='viridis')\n",
    "# plt.plot(z_bins, [true_cosmo.distmod(z).value for z in z_bins], color='k', label='true Hubble relation')\n",
    "# plt.plot(z_bins, [interim_cosmo.distmod(z).value for z in z_bins], color='r', label='interim Hubble relation')\n",
    "# plt.colorbar()\n",
    "# plt.title('log interim cosmological prior')\n",
    "# plt.xlabel(r'$z$')\n",
    "# plt.ylabel(r'$\\mu$')\n",
    "# plt.legend(loc='upper left')\n",
    "# plt.axis([z_bins[0], z_bins[-1], mu_bins[0], mu_bins[-1]])\n",
    "# plt.savefig('plots/lc_interim_w0waCDM.png')\n",
    "\n",
    "fig = plt.figure(figsize=(5, 5))\n",
    "plt.pcolormesh(z_bins, mu_bins, ln_sn_interim_hubble.T, cmap='viridis', vmin=pmin, vmax=pmax)\n",
    "plt.plot(z_bins, [true_cosmo.distmod(z).value for z in z_bins], color='k', label='true Hubble relation')\n",
    "plt.plot(z_bins, [interim_cosmo.distmod(z).value for z in z_bins], color='r', label='interim Hubble relation')\n",
    "plt.colorbar()\n",
    "plt.title('log interim cosmological prior')\n",
    "plt.xlabel(r'$z$')\n",
    "plt.ylabel(r'$\\mu$')\n",
    "plt.legend(loc='upper left')\n",
    "plt.axis([z_bins[0], z_bins[-1], mu_bins[0], mu_bins[-1]])\n",
    "plt.savefig('plots/lc_interim_FlatLambdaCDM.png')"
   ]
  },
  {
   "cell_type": "code",
   "execution_count": null,
   "metadata": {
    "collapsed": false
   },
   "outputs": [],
   "source": [
    "sn_interim_hubble = normalize_one(unity_one * sn_interim_hubble[np.newaxis, :, :])\n",
    "ln_sn_interim_hubble = safe_log(sn_interim_hubble)"
   ]
  },
  {
   "cell_type": "code",
   "execution_count": null,
   "metadata": {
    "collapsed": false
   },
   "outputs": [],
   "source": [
    "ln_sn_interim = reg_vals(ln_sn_interim_nz + ln_sn_interim_hubble)\n",
    "sn_interim = np.exp(ln_sn_interim)\n",
    "ln_sn_interim = safe_log(normalize_one(sn_interim))"
   ]
  },
  {
   "cell_type": "code",
   "execution_count": null,
   "metadata": {
    "collapsed": false
   },
   "outputs": [],
   "source": [
    "fig = plt.figure(figsize=(n_types*6, 5))\n",
    "p = 0\n",
    "for t in range(n_types):\n",
    "    p += 1\n",
    "    plt.subplot(1, n_types, p)\n",
    "    plt.pcolormesh(z_bins, mu_bins, ln_sn_interim[t].T, cmap='viridis', vmin=pmin, vmax=pmax)\n",
    "    plt.plot(z_bins, [true_cosmo.distmod(z).value for z in z_bins], color='k', label='true Hubble relation')\n",
    "    plt.plot(z_bins, [interim_cosmo.distmod(z).value for z in z_bins], color='r', label='interim Hubble relation')\n",
    "    plt.colorbar()\n",
    "    plt.title('log interim prior for type '+types[t])\n",
    "    plt.xlabel(r'$z$')\n",
    "    plt.ylabel(r'$\\mu$')\n",
    "    plt.legend(loc='upper left')\n",
    "    plt.axis([z_bins[0], z_bins[-1], mu_bins[0], mu_bins[-1]])\n",
    "plt.savefig('plots/lc_interim_combo.png')\n",
    "\n",
    "# plt.pcolormesh(z_bins, mu_bins, ln_sn_interim[0].T, cmap='viridis')#, vmin = 0., vmax = 3.)\n",
    "# plt.plot(z_bins, [true_cosmo.distmod(z).value for z in z_bins], color='k', label='true Hubble relation')\n",
    "# plt.title('interim prior distribution')\n",
    "# plt.xlabel(r'$z$')\n",
    "# plt.ylabel(r'$\\mu$')\n",
    "# plt.legend(loc='lower right', fontsize='small')\n",
    "# plt.axis([z_bins[0], z_bins[-1], mu_bins[0], mu_bins[-1]])\n",
    "# plt.colorbar()\n",
    "# plt.savefig('plots/sn_interim_prior.png')"
   ]
  },
  {
   "cell_type": "markdown",
   "metadata": {},
   "source": [
    "### Host galaxy photometry probability distributions\n",
    "\n",
    "\\begin{equation*}\n",
    "\\ln[p(t_{i}, z_{i}, \\mu_{i} | \\vec{f}_{i}, \\vec{\\beta}, \\vec{\\varphi}^{*})]\\ =\\ \\ln[p(t_{i}, z_{i}, \\mu_{i} | \\vec{f}_{i})]\\ +\\ \\ln[p(t_{i}, z_{i}, \\mu_{i} | \\vec{\\beta})]\\ +\\ \\ln[p(t_{i}, z_{i}, \\mu_{i} | \\vec{\\varphi}^{*})]\n",
    "\\end{equation*}"
   ]
  },
  {
   "cell_type": "markdown",
   "metadata": {},
   "source": [
    "**Host galaxy photometry log-posteriors**\n",
    "\n",
    "$\\ln[p(t, z, \\mu | \\vec{f}_{i})]$\n",
    "\n",
    "It is simplest to start with the log-posterior $\\ln[p(z | \\vec{f}_{i})]$ of host galaxy photometry $\\vec{f}_{i}$ as a function of redshift $z$.  In the absence of photometry, we will simulate this as $p(z | z'_{i})$.  We assume the simplest model in which photo-$z$ PDFs are Gaussians $\\mathcal{N}(z_{i}'', \\sigma_{i}^{2})$ where $z_{i}''\\sim\\mathcal{N}(z_{i}', \\sigma_{n}^{2})$.  We will also state that the variance is a constant $\\sigma_{i}\\equiv\\sigma$ for all host galaxies $i$.  [cite where 0.03 came from]  TO DO: allow $\\sigma_{i}^{2}$ to vary for realistic tests.\n",
    "\n",
    "*The choice of a Gaussian photo-$z$ PDF model is irrelevant -- any continuous function or linear combination thereof, as well as any discrete distribution, can be converted to the binned parametrization used here.  The cell below could easily be replaced with one that reads in more realistically modeled photo-$z$ likelihoods from a file.*"
   ]
  },
  {
   "cell_type": "code",
   "execution_count": null,
   "metadata": {
    "collapsed": false
   },
   "outputs": [],
   "source": [
    "# very simple p(z) model, simple gaussians, but binned parametrization permits arbitrary shapes\n",
    "pz_sigma = 0.03\n",
    "\n",
    "pzs, ln_pzs = [], []\n",
    "for s in range(n_sne):\n",
    "    dist = sps.norm(loc = true_params[s]['z'], scale = pz_sigma)\n",
    "    pz_mean = dist.rvs()\n",
    "    new_dist = sps.norm(loc = pz_mean, scale = pz_sigma)\n",
    "    pz = new_dist.pdf(z_mids)\n",
    "    #ln_pz = new_dist.logpdf(z_mids)\n",
    "    pzs.append(pz)\n",
    "    #ln_pzs.append(ln_pz)\n",
    "pzs = np.array(pzs)\n",
    "pzs = normalize_z(pzs)\n",
    "ln_pzs = safe_log(pzs)#np.array(ln_pzs)"
   ]
  },
  {
   "cell_type": "code",
   "execution_count": null,
   "metadata": {
    "collapsed": false
   },
   "outputs": [],
   "source": [
    "for s in range(n_sne)[:len(colors)-1]:\n",
    "    plt.step(z_bins[1:], pzs[s], color=colors[s], alpha=0.5)\n",
    "    plt.vlines(true_params[s]['z'], 0., max(pzs[s]), color=colors[s])\n",
    "plt.xlabel(r'$z$')\n",
    "plt.ylabel(r'$p(z)$')\n",
    "plt.title(r'host galaxy $p(z)$ distributions')\n",
    "plt.savefig('plots/host_pzs.png')"
   ]
  },
  {
   "cell_type": "markdown",
   "metadata": {},
   "source": [
    "**Host galaxy photometry selection function**\n",
    "\n",
    "$\\ln[p(t, z, \\mu | \\vec{\\beta})]$\n",
    "\n",
    "The selection function can be represented by $\\ln[p(z | \\vec{\\beta})]$.  A selection function in which $\\vec{\\beta}$ is comprised of magnitude limits in all photometric bands is commonly imposed on galaxy surveys, such that $p(\\vec{f} | \\vec{\\beta})$ is known (and often is a step function in as many dimensions as there are filters).  Furthermore, we have a reasonably good idea of what $p(z | \\vec{f})$ is.  The selection function we want is just $\\int\\ p(z | \\vec{f})\\ p(\\vec{f} | \\vec{\\beta})\\ d\\vec{f}$.  "
   ]
  },
  {
   "cell_type": "code",
   "execution_count": null,
   "metadata": {
    "collapsed": true
   },
   "outputs": [],
   "source": [
    "# We emulate this using data from a realistic galaxy simulation.\n",
    "# We want the number of galaxies as a function of redshift, SED type, and luminosity.\n",
    "# (Buzzard, for example, includes this.)\n",
    "# Using a realistic set of magnitude limits, we want to calculate the recovered fraction\n",
    "# of galaxies as a function of redshift, SED type, and luminosity.\n",
    "# Then we just integrate over SED type and luminosity to get $p(z | \\vec{\\beta})$\n",
    "\n",
    "# pz_selfun = np.ones(n_zs-1)\n",
    "# pz_selfun /= np.sum(pz_selfun * z_difs)\n",
    "# assert np.isclose(np.sum(pz_selfun * z_difs), 1.)\n",
    "# ln_pz_selfun = safe_log(pz_selfun)\n",
    "\n",
    "host_sel_fun = np.ones(n_zs-1)\n",
    "host_sel_fun = normalize_z(host_sel_fun)\n",
    "# host_sel_fun_norm = np.sum(host_sel_fun * z_difs)\n",
    "# host_sel_fun /= host_sel_fun_norm\n",
    "# assert np.isclose(np.sum(host_sel_fun * z_difs), 1.)\n",
    "ln_host_selection_function = safe_log(host_sel_fun)\n",
    "\n",
    "#interim_hyperparams['pz_sel_fun'] = ln_host_selection_function"
   ]
  },
  {
   "cell_type": "code",
   "execution_count": null,
   "metadata": {
    "collapsed": false
   },
   "outputs": [],
   "source": [
    "plt.plot(z_mids, host_sel_fun, color='k')\n",
    "plt.xlabel(r'$z$')\n",
    "plt.ylabel(r'$p(z)$')\n",
    "plt.title(r'host galaxy redshift selection function')\n",
    "plt.savefig('plots/pz_sel_fun.png')"
   ]
  },
  {
   "cell_type": "markdown",
   "metadata": {},
   "source": [
    "**Host galaxy photometry interim prior**\n",
    "\n",
    "$\\ln[p(t, z, \\mu | \\vec{\\varphi}^{*})]$"
   ]
  },
  {
   "cell_type": "code",
   "execution_count": null,
   "metadata": {
    "collapsed": true
   },
   "outputs": [],
   "source": [
    "# read in the SDSS DR7 one instead\n",
    "# separate interim prior from LC fitter and photo-z PDFs: this is for photo-z PDFs, flat for now, replace with SDSS n(z)\n",
    "pz_interim = np.ones(n_zs-1)\n",
    "pz_interim = normalize_z(pz_interim)\n",
    "# pz_interim /= np.sum(pz_interim * z_difs)\n",
    "# assert np.isclose(np.sum(pz_interim * z_difs), 1.)\n",
    "ln_pz_interim = safe_log(pz_interim)\n",
    "\n",
    "#interim_hyperparams = {}\n",
    "#interim_hyperparams['pz_int_pr'] = ln_pz_interim"
   ]
  },
  {
   "cell_type": "code",
   "execution_count": null,
   "metadata": {
    "collapsed": false
   },
   "outputs": [],
   "source": [
    "plt.plot(z_mids, pz_interim, color='k')\n",
    "plt.xlabel(r'$z$')\n",
    "plt.ylabel(r'$p(z)$')\n",
    "plt.title(r'interim redshift distribution function')\n",
    "plt.savefig('plots/pz_interim_prior.png')"
   ]
  },
  {
   "cell_type": "markdown",
   "metadata": {},
   "source": [
    "### Putting everything together\n",
    "\n"
   ]
  },
  {
   "cell_type": "code",
   "execution_count": null,
   "metadata": {
    "collapsed": true
   },
   "outputs": [],
   "source": [
    "ln_host_probs = reg_vals(ln_pzs + ln_host_selection_function[np.newaxis, :] + ln_pz_interim[np.newaxis, :])\n",
    "host_probs = np.exp(ln_host_probs)[:, np.newaxis, :, np.newaxis] * unity_all\n",
    "host_probs = normalize_all(host_probs)\n",
    "ln_host_probs = safe_log(host_probs)"
   ]
  },
  {
   "cell_type": "code",
   "execution_count": null,
   "metadata": {
    "collapsed": true
   },
   "outputs": [],
   "source": [
    "# for s in range(n_sne):\n",
    "#     for hub in host_probs[s]:\n",
    "#         print(true_params[s], np.sum(hub * z_difs[:, np.newaxis] * mu_difs[np.newaxis, :]))"
   ]
  },
  {
   "cell_type": "code",
   "execution_count": null,
   "metadata": {
    "collapsed": false
   },
   "outputs": [],
   "source": [
    "ln_sn_probs = reg_vals(sheet_cake + ln_sn_selection_function[np.newaxis, :] + ln_sn_interim[np.newaxis, :])\n",
    "sn_probs = np.exp(ln_sn_probs)\n",
    "sn_probs = normalize_all(sn_probs)\n",
    "ln_sn_probs = safe_log(sn_probs)"
   ]
  },
  {
   "cell_type": "code",
   "execution_count": null,
   "metadata": {
    "collapsed": true
   },
   "outputs": [],
   "source": [
    "# for s in range(n_sne):\n",
    "#     for hub in sn_probs[s]:\n",
    "#         print(true_params[s], np.sum(hub * z_difs[:, np.newaxis] * mu_difs[np.newaxis, :]))"
   ]
  },
  {
   "cell_type": "code",
   "execution_count": null,
   "metadata": {
    "collapsed": false
   },
   "outputs": [],
   "source": [
    "interim_ln_posteriors = reg_vals(ln_host_probs + ln_sn_probs)\n",
    "interim_posts = np.exp(interim_ln_posteriors)\n",
    "interim_posts = normalize_all(interim_posts)\n",
    "interim_ln_posteriors = safe_log(interim_posts)"
   ]
  },
  {
   "cell_type": "code",
   "execution_count": null,
   "metadata": {
    "collapsed": false
   },
   "outputs": [],
   "source": [
    "# for s in range(n_sne):\n",
    "#     for hub in interim_posts[s]:\n",
    "#         print(true_params[s], np.sum(hub * z_difs[:, np.newaxis] * mu_difs[np.newaxis, :]))"
   ]
  },
  {
   "cell_type": "markdown",
   "metadata": {},
   "source": [
    "Let's see what these final results look like!"
   ]
  },
  {
   "cell_type": "code",
   "execution_count": null,
   "metadata": {
    "collapsed": false
   },
   "outputs": [],
   "source": [
    "# these are going to get a lot narrower\n",
    "fig = plt.figure(figsize=(n_types*5, n_types*5))\n",
    "p = 0\n",
    "for s in posters:\n",
    "    type_dist = np.sum(np.sum(np.exp(interim_ln_posteriors[s]) * mu_difs[np.newaxis, np.newaxis, :] * z_difs[np.newaxis, :, np.newaxis], axis=2), axis=1)\n",
    "    for t in range(n_types):\n",
    "        p += 1\n",
    "        plt.subplot(n_types, n_types, p)\n",
    "        plt.pcolormesh(z_bins, mu_bins, interim_ln_posteriors[s][t].T, cmap='viridis', vmin = pmin, vmax = pmax)\n",
    "        plt.colorbar()\n",
    "        plt.scatter(true_params[s]['z'], true_params[s]['mu'], color='r')\n",
    "        plt.title(str(type_dist[t])+' true '+true_params[s]['t']+', class '+types[t])\n",
    "        plt.xlabel(r'$z$')\n",
    "        plt.ylabel(r'$\\mu$')\n",
    "        plt.axis([z_bins[0], z_bins[-1], mu_bins[0], mu_bins[-1]])\n",
    "plt.savefig('plots/out_interim_posteriors.png')"
   ]
  },
  {
   "cell_type": "markdown",
   "metadata": {},
   "source": [
    "## The catalog"
   ]
  },
  {
   "cell_type": "markdown",
   "metadata": {},
   "source": [
    "We write this to a file for the inference notebook to read in."
   ]
  },
  {
   "cell_type": "code",
   "execution_count": null,
   "metadata": {
    "collapsed": false
   },
   "outputs": [],
   "source": [
    "# write true hyperparameters just to check\n",
    "\n",
    "truth = {}\n",
    "binned_n_of_z = np.zeros((n_types, n_zs-1))\n",
    "for t in range(n_types):\n",
    "    cdfs = true_n_of_z[t].cdf(z_bins)\n",
    "    binned_n_of_z[t] = (cdfs[1:] - cdfs[:-1])\n",
    "binned_n_of_z = frac_types[:, np.newaxis] * np.array(binned_n_of_z)# / z_range\n",
    "binned_n_of_z /= np.sum(binned_n_of_z * z_difs[np.newaxis, :])\n",
    "assert np.isclose(np.sum(binned_n_of_z * z_difs[np.newaxis, :]), 1.)\n",
    "truth['phi'] = binned_n_of_z\n",
    "truth['theta'] = true_hyperparams\n",
    "truth['data'] = true_params\n",
    "\n",
    "with open('data/truth.hkl', 'w') as true_file:\n",
    "    hickle.dump(truth, true_file)\n",
    "\n",
    "# write axes (types, z_bins, mu_bins)\n",
    "# write interim prior (interim_ln_prior)\n",
    "# write interim posteriors (ln_interim_posteriors)\n",
    "\n",
    "output = {'types': types, 'z_bins': z_bins, 'mu_bins': mu_bins}\n",
    "output['ln host selection function'] = ln_host_selection_function\n",
    "output['host interim ln prior'] = ln_pz_interim\n",
    "output['ln sn selection function'] = ln_sn_selection_function\n",
    "output['sn interim ln prior'] = ln_sn_interim\n",
    "output['ln selection function'] = safe_log(normalize_one(np.exp(reg_vals(output['ln host selection function'][np.newaxis, :, np.newaxis] + output['ln sn selection function']))))\n",
    "output['interim ln prior'] = safe_log(normalize_one(np.exp(reg_vals(output['host interim ln prior'][np.newaxis, :, np.newaxis] + output['sn interim ln prior']))))\n",
    "output['ln prior info'] = safe_log(normalize_one(np.exp(reg_vals(output['interim ln prior'] + output['ln selection function']))))\n",
    "output['interim ln posteriors'] = interim_ln_posteriors\n",
    "\n",
    "with open('data/data.hkl', 'w') as out_file:\n",
    "    hickle.dump(output, out_file)"
   ]
  },
  {
   "cell_type": "markdown",
   "metadata": {},
   "source": [
    "# Ignore everything after this!"
   ]
  },
  {
   "cell_type": "markdown",
   "metadata": {},
   "source": [
    "We plot the combined likelihoods for when lightcurves and host galaxy photometry are available.  For the same supernovae as in the previous plot, you can see how the constraints in $z$ become much narrower when the redshift likelihoods are included."
   ]
  },
  {
   "cell_type": "code",
   "execution_count": null,
   "metadata": {
    "collapsed": false
   },
   "outputs": [],
   "source": [
    "# this should be visible in all types, but the color scaling is bad for Ibc & II\n",
    "fig = plt.figure(figsize=(n_types*5, len(colors)*5))\n",
    "p = 0\n",
    "for s in range(n_sne)[:len(colors)]:\n",
    "    for t in range(n_types):\n",
    "        p += 1\n",
    "        plt.subplot(len(colors), n_types, p)\n",
    "        plt.pcolormesh(z_bins, mu_bins, ln_likelihoods[s][t].T, cmap='viridis')#, vmin = 0., vmax = 3.)\n",
    "        plt.colorbar()\n",
    "        plt.scatter(true_params[s]['z'], true_params[s]['mu'], color='r')\n",
    "        plt.title('true '+true_params[s]['t']+', class '+types[t])\n",
    "        plt.xlabel(r'$z$')\n",
    "        plt.ylabel(r'$\\mu$')\n",
    "        plt.axis([z_bins[0], z_bins[-1], mu_bins[0], mu_bins[-1]])\n",
    "plt.savefig('plots/full_posteriors.png')"
   ]
  },
  {
   "cell_type": "markdown",
   "metadata": {},
   "source": [
    "## Making interim posteriors\n",
    "\n",
    "The likelihoods we just constructed are all well and good, and they really do exist in nature.  However, they are not things we observers are in general able to obtain.  To use them in inference, we would need to regularly integrate over the entire space of data, which is rarely something we know how to do.  When we run a code that produces the probability distribution of unobservable parameters, it really calculates a posterior, not a likelihood; because its inputs are data, it must be conditioning its estimate on that information.  \n",
    "\n",
    "In addition to that, any way of estimating our unobservable parameters from data also conditions their posteriors on other information, namely interim priors and selection functions.  In reality, when we perform classification, lightcurve fitting, and photo-$z$ PDF estimation, we are finding interim posteriors $p(t_{n}, z_{n}, \\mu_{n} | \\underline{\\ell}_{n}, \\vec{f}_{n}, \\underline{\\xi}, \\vec{\\alpha}, \\vec{\\beta})$ instead of likelihoods $p(\\underline{\\ell}_{n}, \\vec{f}_{n} | t_{n}, z_{n}, \\mu_{n})$, due to the assumptions about the distributions of our latent variables and the propagation of selection effects on the data.  In our case, choices of the interim hyperpriors $\\underline{\\xi}$ will translate directly into a prior belief about the `3D` distribution $p(t, z, \\mu | \\underline{\\xi}, \\vec{\\alpha}, \\vec{\\beta})$ that is independent of any observations (and thus independent of $n$)."
   ]
  },
  {
   "cell_type": "markdown",
   "metadata": {},
   "source": [
    "We must now define a function that produces the posterior probability of a supernova taking the value of a particular pair $(z, \\mu)$ under a given set of cosmological parameters $\\vec{\\Omega}$."
   ]
  },
  {
   "cell_type": "markdown",
   "metadata": {},
   "source": [
    "Using this function, we can construct an interim prior probability, which has the dimensions of a single `3D` probability distribution."
   ]
  },
  {
   "cell_type": "code",
   "execution_count": null,
   "metadata": {
    "collapsed": true
   },
   "outputs": [],
   "source": [
    "interim_ln_prior = ln_sn_interim + ln_pz_interim[np.newaxis, :, np.newaxis]"
   ]
  },
  {
   "cell_type": "code",
   "execution_count": null,
   "metadata": {
    "collapsed": true
   },
   "outputs": [],
   "source": [
    "# # note the approximation of cdf[z_min, z_max] = pdf[z_mid]\n",
    "# interim_sheet = np.zeros((n_zs-1, n_mus-1))\n",
    "# for z in range(n_zs-1):\n",
    "#     for mu in range(n_mus-1):\n",
    "#         ln_prob = inverter(z_mids[z], mu_mids[mu])\n",
    "#         interim_sheet[z][mu] = ln_prob\n",
    "# interim_ln_prior = reg_vals(interim_ln_n_of_z[:, np.newaxis] + interim_sheet[np.newaxis, :])\n",
    "# interim_prior = np.exp(interim_ln_prior)\n",
    "# interim_prior /= np.sum(interim_prior * z_difs[np.newaxis, :, np.newaxis] * mu_difs[np.newaxis, np.newaxis, :])\n",
    "# interim_ln_prior = safe_log(interim_prior)\n",
    "# assert np.isclose(np.sum(interim_prior * z_difs[np.newaxis, :, np.newaxis] * mu_difs[np.newaxis, np.newaxis, :]), 1.)"
   ]
  },
  {
   "cell_type": "markdown",
   "metadata": {},
   "source": [
    "We plot the log of the combined interim prior and show that it is reasonable but not too restrictive."
   ]
  },
  {
   "cell_type": "code",
   "execution_count": null,
   "metadata": {
    "collapsed": false
   },
   "outputs": [],
   "source": [
    "# # the interim prior and truth are way too close to each other. . . but that's realistic\n",
    "# plt.pcolormesh(z_bins, mu_bins, interim_ln_prior[0].T, cmap='viridis')#, vmin = 0., vmax = 3.)\n",
    "# plt.plot(z_bins, [true_cosmo.distmod(z).value for z in z_bins], color='k', label='true Hubble relation')\n",
    "# plt.title('interim prior distribution')\n",
    "# plt.xlabel(r'$z$')\n",
    "# plt.ylabel(r'$\\mu$')\n",
    "# plt.legend(loc='lower right', fontsize='small')\n",
    "# plt.axis([z_bins[0], z_bins[-1], mu_bins[0], mu_bins[-1]])\n",
    "# plt.colorbar()\n",
    "# plt.savefig('plots/interim_prior.png')\n",
    "fig = plt.figure(figsize=(n_types*6, 5))\n",
    "p = 0\n",
    "for t in range(n_types):\n",
    "    p += 1\n",
    "    plt.subplot(1, n_types, p)\n",
    "    plt.pcolormesh(z_bins, mu_bins, interim_ln_prior[t].T, cmap='viridis')\n",
    "    plt.plot(z_bins, [true_cosmo.distmod(z).value for z in z_bins], color='k', label='true Hubble relation')\n",
    "    plt.plot(z_bins, [interim_cosmo.distmod(z).value for z in z_bins], color='r', label='interim Hubble relation')\n",
    "    plt.colorbar()\n",
    "    plt.title('log interim prior')\n",
    "    plt.xlabel(r'$z$')\n",
    "    plt.ylabel(r'$\\mu$')\n",
    "    plt.axis([z_bins[0], z_bins[-1], mu_bins[0], mu_bins[-1]])\n",
    "plt.savefig('plots/full_interim_prior.png')"
   ]
  },
  {
   "cell_type": "markdown",
   "metadata": {},
   "source": [
    "### Selection Functions\n",
    "\n",
    "We have not yet included selection effects in this treatment.  The graphical model included known hyperparameters $\\vec{\\alpha}$ and $\\vec{\\beta}$ to represent the selection function for supernova lightcurves and host galaxy photometry.  If these hyperparameters are known, then we can safely say we know $p(\\underline{\\ell}_{n} | \\vec{\\alpha})$ and $p(\\vec{f}_{n} | \\vec{\\beta})$ for all supernovae $n$ in our catalog.  However, what we really need is $p(t_{n}, z_{n}, \\mu_{n} | \\vec{\\alpha}, \\vec{\\beta})$.  We obtain these using an approach similar to <a href=\"https://github.com/ixkael/Photoz-tools/blob/master/Photoz%20galaxy%20survey%20mock%20and%20N(z)%20inference.ipynb\">that of Boris Leistedt</a>.  *Actually, I'm not really sure how to relate what we're doing, which we discussed with Boris, to what's in his notebook.*"
   ]
  },
  {
   "cell_type": "markdown",
   "metadata": {},
   "source": [
    "We wrap up the simulation/emulation of the selection functions by combining the terms as follows: $\\ln[p(t, z, \\mu | \\vec{\\alpha}, \\vec{\\beta})] = \\ln[p(t, z, \\mu | \\vec{\\alpha})] + \\ln[p(z | \\vec{\\beta})]$"
   ]
  },
  {
   "cell_type": "code",
   "execution_count": null,
   "metadata": {
    "collapsed": true
   },
   "outputs": [],
   "source": [
    "# put together those terms\n",
    "\n",
    "selection_sheet = np.zeros((n_types, n_zs-1, n_mus-1))\n",
    "ln_selection_function = reg_vals(ln_sn_selection_function[:, np.newaxis] + ln_host_selection_function[np.newaxis, :, np.newaxis] + selection_sheet)\n",
    "selection_function = np.exp(ln_selection_function)\n",
    "sel_fun_norm = np.sum(selection_function * z_difs[np.newaxis, :, np.newaxis] * mu_difs[np.newaxis, np.newaxis, :] / n_types)\n",
    "selection_function /= sel_fun_norm\n",
    "assert np.isclose(np.sum(selection_function * z_difs[np.newaxis, :, np.newaxis] * mu_difs[np.newaxis, np.newaxis, :] / n_types), 1.)\n",
    "ln_selction_function = safe_log(selection_function)"
   ]
  },
  {
   "cell_type": "markdown",
   "metadata": {},
   "source": [
    "## Final result: the mock interim posteriors\n",
    "\n",
    "We will create mock interim posteriors according to the following, based on Bayes' Rule.\n",
    "\n",
    "\\begin{align*}\n",
    "\\ln[p(t_{n}, z_{n}, \\mu_{n} | \\underline{\\ell}_{n}, \\vec{f}_{n}, \\underline{\\xi}, \\vec{\\alpha}, \\vec{\\beta})] &\\propto \\ln[p(\\underline{\\ell}_{n}, \\vec{f}_{n} | t_{n}, z_{n}, \\mu_{n})] + \\ln[p(t, z, \\mu | \\vec{\\alpha}, \\vec{\\beta})] + \\ln[p(t, z, \\mu | \\vec{\\xi})]\n",
    "\\end{align*}"
   ]
  },
  {
   "cell_type": "code",
   "execution_count": null,
   "metadata": {
    "collapsed": false
   },
   "outputs": [],
   "source": [
    "# note likelihoods were not normalized; this must be normalized\n",
    "interim_ln_posteriors = reg_vals(ln_likelihoods + interim_ln_prior[np.newaxis, :] + ln_selection_function[np.newaxis, :])\n",
    "interim_posteriors = np.exp(interim_ln_posteriors)\n",
    "interim_posteriors /= np.sum(interim_posteriors * z_difs[np.newaxis, :, np.newaxis] * mu_difs[np.newaxis, np.newaxis, :])\n",
    "# print np.shape(interim_posteriors), np.shape(interim_ln_posteriors)\n",
    "# print np.shape(interim_posteriors[2][0]), np.shape(interim_ln_posteriors[2][0])\n",
    "# print zip(interim_posteriors[2][0], interim_ln_posteriors[2][0])\n",
    "# interim_ln_posteriors = ln_likelihoods + interim_ln_prior[np.newaxis, :]\n",
    "# interim_posteriors = np.exp(interim_ln_posteriors)\n",
    "# interim_posteriors /= np.sum(interim_posteriors * z_difs[np.newaxis, :, np.newaxis] * mu_difs[np.newaxis, np.newaxis, :])\n",
    "assert np.isclose(np.sum(interim_posteriors * z_difs[np.newaxis, :, np.newaxis] * mu_difs[np.newaxis, np.newaxis, :]), 1.)\n",
    "interim_ln_posteriors = safe_log(interim_posteriors)"
   ]
  },
  {
   "cell_type": "markdown",
   "metadata": {},
   "source": [
    "We plot a few examples of the final mock interim posteriors.  These will be the input to `scippr`!"
   ]
  },
  {
   "cell_type": "markdown",
   "metadata": {},
   "source": [
    "[write data to file]"
   ]
  }
 ],
 "metadata": {
  "anaconda-cloud": {},
  "kernelspec": {
   "display_name": "Python 3 (not)",
   "language": "python",
   "name": "python3"
  },
  "language_info": {
   "codemirror_mode": {
    "name": "ipython",
    "version": 2
   },
   "file_extension": ".py",
   "mimetype": "text/x-python",
   "name": "python",
   "nbconvert_exporter": "python",
   "pygments_lexer": "ipython2",
   "version": "2.7.14"
  }
 },
 "nbformat": 4,
 "nbformat_minor": 1
}
