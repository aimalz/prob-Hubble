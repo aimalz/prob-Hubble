{
 "cells": [
  {
   "cell_type": "markdown",
   "metadata": {},
   "source": [
    "# A PGM for the Hubble diagram\n",
    "\n",
    "This notebook presents and justifies a probabilistic graphical model (PGM) for the Hubble diagram.  It can be used to infer cosmological parameters and as the basis for a generative model of mock data to validate a code executing such an inference.\n",
    "\n",
    "We will use the `daft` package to create a directed acyclic graph corresponding to our model for the data."
   ]
  },
  {
   "cell_type": "code",
   "execution_count": 2,
   "metadata": {
    "collapsed": true
   },
   "outputs": [],
   "source": [
    "import matplotlib\n",
    "%matplotlib inline\n",
    "\n",
    "from matplotlib import rc\n",
    "rc(\"font\", family=\"serif\", size=12)\n",
    "rc(\"text\", usetex=True)\n",
    "\n",
    "import daft"
   ]
  },
  {
   "cell_type": "markdown",
   "metadata": {},
   "source": [
    "## Hyperparameters\n",
    "\n",
    "This model has two sets of hyperparameters: the cosmological parameters and the supernova parameters.  The cosmological parameters $\\vec{\\theta}$ include $H_{0}$, $\\Omega_{m}$, etc.  The supernova parameters $\\underline{\\phi}$ define $N(z,T)$, the supernova number distribution as a function of type and redshift.  In a PGM, parameters that are random variables are shown in circles.  The hyperparameters are random variables in the sense that they themselves are drawn from a prior probability distribution corresponding to the infamous criticism of Bayesian inference, that one must always choose a prior."
   ]
  },
  {
   "cell_type": "code",
   "execution_count": 6,
   "metadata": {
    "collapsed": false
   },
   "outputs": [
    {
     "data": {
      "image/png": "[encoded data removed]",
      "text/plain": [
       "<matplotlib.figure.Figure at 0x1062608d0>"
      ]
     },
     "metadata": {},
     "output_type": "display_data"
    }
   ],
   "source": [
    "#initialize the PGM\n",
    "pgm = daft.PGM([5, 6], origin=[0, 0])\n",
    "\n",
    "#desired hyperparameters\n",
    "pgm.add_node(daft.Node(\"cosmology\", r\"$\\vec{\\theta}$\", 1., 5.5))\n",
    "pgm.add_node(daft.Node(\"dist\", r\"$\\underline{\\phi}$\", 2.5, 5.5))\n",
    "\n",
    "# Render\n",
    "pgm.render()\n",
    "pgm.figure.show()"
   ]
  },
  {
   "cell_type": "markdown",
   "metadata": {},
   "source": [
    "## Latent Variables\n",
    "\n",
    "Next, we consider the latent variables over which we would like to marginalize.  Each supernova $n$ in a universe containing $N$ supernovae has a distance modulus $\\mu_{n}$, redshift $z_{n}$, and type $t_{n}$.  These unobserved parameters are random variables independently sampled from functions of the hyperparameters and in some cases other parameters, so they will be represented by circles in our PGM.  Furthermore, because there are $N$ supernovae each with independently sampled values of these parameters, we place the parameters in a box, making a note that there are $N$ trios of these parameters in the universe corresponding to their unique identifier $n$.  These relationships between parameters and all other parameters and hyperparameters that define them will be represented by arrows from the hyperparameters to the variables sampled from them.  However, we do not aim to estimate these parameters nor to sample them.  Rather, given their posterior probabilities, they will be integrated out."
   ]
  },
  {
   "cell_type": "code",
   "execution_count": 7,
   "metadata": {
    "collapsed": false
   },
   "outputs": [
    {
     "data": {
      "image/png": "[encoded data removed]",
      "text/plain": [
       "<matplotlib.figure.Figure at 0x106c13d90>"
      ]
     },
     "metadata": {},
     "output_type": "display_data"
    }
   ],
   "source": [
    "#initialize the PGM\n",
    "pgm = daft.PGM([5, 6], origin=[0, 0])\n",
    "\n",
    "#desired hyperparameters\n",
    "pgm.add_node(daft.Node(\"cosmology\", r\"$\\vec{\\theta}$\", 1., 5.5))\n",
    "pgm.add_node(daft.Node(\"dist\", r\"$\\underline{\\phi}$\", 2.5, 5.5))\n",
    "\n",
    "#latent variables/parameters\n",
    "pgm.add_node(daft.Node(\"distance\", r\"$\\mu_{n}$\", 1., 4.))\n",
    "pgm.add_node(daft.Node(\"redshift\", r\"$z_{n}$\", 2., 4.5))\n",
    "pgm.add_node(daft.Node(\"type\", r\"$t_{n}$\", 3., 4.5))\n",
    "\n",
    "# Add in the edges.\n",
    "pgm.add_edge(\"dist\", \"type\")\n",
    "pgm.add_edge(\"cosmology\", \"distance\")\n",
    "pgm.add_edge(\"dist\", \"redshift\")\n",
    "pgm.add_edge(\"redshift\", \"distance\")\n",
    "\n",
    "# plates\n",
    "pgm.add_plate(daft.Plate([0.5, 2., 3., 3.], label=r\"$n = 1, \\cdots, N$\"))\n",
    "\n",
    "# Render\n",
    "pgm.render()\n",
    "pgm.figure.show()"
   ]
  },
  {
   "cell_type": "markdown",
   "metadata": {},
   "source": [
    "## Observed variables\n",
    "\n",
    "The observable data is comprised of supernova lightcurves $\\{\\underline{\\ell}_{n}\\}_{N}$ and host galaxy apparent magnitudes $\\{\\vec{m}_{n}\\}_{N}$.  These are functions of $\\mu_{n}$, $z_{n}$, and $t_{n}$ with some scatter due to the natural variation between supernovae and galaxies.  Observed quantities are shown in shaded circles in the PGM."
   ]
  },
  {
   "cell_type": "code",
   "execution_count": 11,
   "metadata": {
    "collapsed": false
   },
   "outputs": [
    {
     "data": {
      "image/png": "[encoded data removed]",
      "text/plain": [
       "<matplotlib.figure.Figure at 0x107288310>"
      ]
     },
     "metadata": {},
     "output_type": "display_data"
    }
   ],
   "source": [
    "#initialize the PGM\n",
    "pgm = daft.PGM([5, 6], origin=[0, 0])\n",
    "\n",
    "#desired hyperparameters\n",
    "pgm.add_node(daft.Node(\"cosmology\", r\"$\\vec{\\theta}$\", 1., 5.5))\n",
    "pgm.add_node(daft.Node(\"dist\", r\"$\\underline{\\phi}$\", 2.5, 5.5))\n",
    "#pgm.add_node(daft.Node(\"rates\", r\"$\\vec{R}$\", 3., 5.5, fixed=True))\n",
    "\n",
    "#latent variables/parameters\n",
    "pgm.add_node(daft.Node(\"distance\", r\"$\\mu_{n}$\", 1., 4.))\n",
    "pgm.add_node(daft.Node(\"redshift\", r\"$z_{n}$\", 2., 4.5))\n",
    "pgm.add_node(daft.Node(\"type\", r\"$t_{n}$\", 3., 4.5))\n",
    "\n",
    "#data\n",
    "pgm.add_node(daft.Node(\"lightcurve\", r\"$\\underline{\\ell}_{n}$\", 1.5, 3., observed=True))\n",
    "pgm.add_node(daft.Node(\"photometry\", r\"$\\vec{m}_{n}$\", 3., 3., observed=True))\n",
    "\n",
    "# Add in the edges.\n",
    "pgm.add_edge(\"dist\", \"type\")\n",
    "pgm.add_edge(\"cosmology\", \"distance\")\n",
    "pgm.add_edge(\"dist\", \"redshift\")\n",
    "pgm.add_edge(\"redshift\", \"distance\")\n",
    "#pgm.add_edge(\"distance\", \"photometry\")\n",
    "pgm.add_edge(\"distance\", \"lightcurve\")\n",
    "pgm.add_edge(\"redshift\", \"photometry\")\n",
    "pgm.add_edge(\"redshift\", \"lightcurve\")\n",
    "pgm.add_edge(\"type\", \"lightcurve\")\n",
    "\n",
    "# plates\n",
    "pgm.add_plate(daft.Plate([0.5, 2., 3., 3.], label=r\"$n = 1, \\cdots, N$\"))\n",
    "\n",
    "# Render and save.\n",
    "pgm.render()\n",
    "pgm.figure.savefig(\"Hubble-draft.png\", dpi=150)\n",
    "pgm.figure.show()"
   ]
  },
  {
   "cell_type": "markdown",
   "metadata": {},
   "source": [
    "# UNFINISHED AFTER THIS POINT!"
   ]
  },
  {
   "cell_type": "markdown",
   "metadata": {},
   "source": [
    "## Known variables\n",
    "\n",
    "There are other parameters comprising $\\vec{S}$ that determine whether a supernova is included in the survey's catalog, which define a selection function.  These are in general limits imposed in the space of data.  We will make the assumption that we know $\\vec{S}$.  Parameters that have known values are shown as dots in a PGM."
   ]
  },
  {
   "cell_type": "code",
   "execution_count": 51,
   "metadata": {
    "collapsed": false
   },
   "outputs": [
    {
     "data": {
      "image/png": "[encoded data removed]",
      "text/plain": [
       "<matplotlib.figure.Figure at 0x106489910>"
      ]
     },
     "metadata": {},
     "output_type": "display_data"
    }
   ],
   "source": [
    "#initialize the PGM\n",
    "pgm = daft.PGM([5, 6], origin=[0, 0])\n",
    "\n",
    "#desired hyperparameters\n",
    "pgm.add_node(daft.Node(\"cosmology\", r\"$\\vec{\\theta}$\", 1., 5.5))\n",
    "pgm.add_node(daft.Node(\"dist\", r\"$\\underline{\\Phi}$\", 2.5, 5.5))\n",
    "\n",
    "#latent variables/parameters\n",
    "pgm.add_node(daft.Node(\"distance\", r\"$\\mu_{n}$\", 1., 4))\n",
    "pgm.add_node(daft.Node(\"redshift\", r\"$z_{n}$\", 2., 4))\n",
    "pgm.add_node(daft.Node(\"type\", r\"$T_{n}$\", 3., 4))\n",
    "pgm.add_node(daft.Node(\"selection\", r\"$\\vec{S}$\", 4., 4, fixed=True))\n",
    "\n",
    "# Add in the edges.\n",
    "pgm.add_edge(\"dist\", \"type\")\n",
    "pgm.add_edge(\"cosmology\", \"distance\")\n",
    "pgm.add_edge(\"dist\", \"redshift\")\n",
    "pgm.add_edge(\"redshift\", \"distance\")\n",
    "\n",
    "# plates\n",
    "pgm.add_plate(daft.Plate([0.5, 2., 3., 3.], label=r\"$m = 1, \\cdots, M$\"))\n",
    "pgm.add_plate(daft.Plate([0., 1.5, 4., 4.], label=r\"$n = 1, \\cdots, N$\"))\n",
    "\n",
    "# Render\n",
    "pgm.render()\n",
    "pgm.figure.show()"
   ]
  },
  {
   "cell_type": "code",
   "execution_count": null,
   "metadata": {
    "collapsed": true
   },
   "outputs": [],
   "source": []
  }
 ],
 "metadata": {
  "kernelspec": {
   "display_name": "Python 2",
   "language": "python",
   "name": "python2"
  },
  "language_info": {
   "codemirror_mode": {
    "name": "ipython",
    "version": 2
   },
   "file_extension": ".py",
   "mimetype": "text/x-python",
   "name": "python",
   "nbconvert_exporter": "python",
   "pygments_lexer": "ipython2",
   "version": "2.7.12"
  }
 },
 "nbformat": 4,
 "nbformat_minor": 0
}
